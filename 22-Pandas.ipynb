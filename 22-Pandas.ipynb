{
 "cells": [
  {
   "cell_type": "code",
   "execution_count": 1,
   "id": "f3e3439e",
   "metadata": {},
   "outputs": [],
   "source": [
    "# derste aldığım notlar\n",
    "\n",
    "import numpy as np\n",
    "import pandas as pd"
   ]
  },
  {
   "cell_type": "markdown",
   "id": "a8eab9b2",
   "metadata": {},
   "source": [
    "# Series / Seriler"
   ]
  },
  {
   "cell_type": "code",
   "execution_count": 2,
   "id": "6fda9115",
   "metadata": {},
   "outputs": [],
   "source": [
    "benimSozlugum = {\"Ahmet \" : 50, \"Zeynep \" : 40, \"Mehmet \" : 30}"
   ]
  },
  {
   "cell_type": "code",
   "execution_count": 3,
   "id": "d95f6e55",
   "metadata": {},
   "outputs": [
    {
     "data": {
      "text/plain": [
       "Ahmet      50\n",
       "Zeynep     40\n",
       "Mehmet     30\n",
       "dtype: int64"
      ]
     },
     "execution_count": 3,
     "metadata": {},
     "output_type": "execute_result"
    }
   ],
   "source": [
    "pd.Series(benimSozlugum)"
   ]
  },
  {
   "cell_type": "code",
   "execution_count": 4,
   "id": "f66957a8",
   "metadata": {},
   "outputs": [
    {
     "data": {
      "text/plain": [
       "pandas.core.series.Series"
      ]
     },
     "execution_count": 4,
     "metadata": {},
     "output_type": "execute_result"
    }
   ],
   "source": [
    "type(pd.Series(benimSozlugum))"
   ]
  },
  {
   "cell_type": "code",
   "execution_count": 5,
   "id": "7fe019f1",
   "metadata": {},
   "outputs": [],
   "source": [
    "benimYaslarim = [50,40,30]\n",
    "benimIsimlerim = [\"atıl\", \"zeynep\", \"mehmet\"] "
   ]
  },
  {
   "cell_type": "code",
   "execution_count": 6,
   "id": "bce98e98",
   "metadata": {},
   "outputs": [
    {
     "data": {
      "text/plain": [
       "atıl      50\n",
       "zeynep    40\n",
       "mehmet    30\n",
       "dtype: int64"
      ]
     },
     "execution_count": 6,
     "metadata": {},
     "output_type": "execute_result"
    }
   ],
   "source": [
    "pd.Series(benimYaslarim, benimIsimlerim)"
   ]
  },
  {
   "cell_type": "code",
   "execution_count": 7,
   "id": "f059c6d9",
   "metadata": {},
   "outputs": [
    {
     "data": {
      "text/plain": [
       "atıl      50\n",
       "zeynep    40\n",
       "mehmet    30\n",
       "dtype: int64"
      ]
     },
     "execution_count": 7,
     "metadata": {},
     "output_type": "execute_result"
    }
   ],
   "source": [
    "pd.Series(data=benimYaslarim, index=benimIsimlerim)"
   ]
  },
  {
   "cell_type": "code",
   "execution_count": 8,
   "id": "b54bc17e",
   "metadata": {},
   "outputs": [],
   "source": [
    "numpyDizisi = np.array([50,40,30])"
   ]
  },
  {
   "cell_type": "code",
   "execution_count": 9,
   "id": "4f7d97c8",
   "metadata": {},
   "outputs": [
    {
     "data": {
      "text/plain": [
       "array([50, 40, 30])"
      ]
     },
     "execution_count": 9,
     "metadata": {},
     "output_type": "execute_result"
    }
   ],
   "source": [
    "numpyDizisi"
   ]
  },
  {
   "cell_type": "code",
   "execution_count": 10,
   "id": "136bfb0e",
   "metadata": {},
   "outputs": [
    {
     "data": {
      "text/plain": [
       "0    50\n",
       "1    40\n",
       "2    30\n",
       "dtype: int32"
      ]
     },
     "execution_count": 10,
     "metadata": {},
     "output_type": "execute_result"
    }
   ],
   "source": [
    "pd.Series(numpyDizisi)"
   ]
  },
  {
   "cell_type": "code",
   "execution_count": 11,
   "id": "6bc830f4",
   "metadata": {},
   "outputs": [
    {
     "data": {
      "text/plain": [
       "atıl      50\n",
       "zeynep    40\n",
       "mehmet    30\n",
       "dtype: int32"
      ]
     },
     "execution_count": 11,
     "metadata": {},
     "output_type": "execute_result"
    }
   ],
   "source": [
    "pd.Series(numpyDizisi,benimIsimlerim)"
   ]
  },
  {
   "cell_type": "code",
   "execution_count": 12,
   "id": "cce7d8ee",
   "metadata": {},
   "outputs": [
    {
     "data": {
      "text/plain": [
       "1    Ahmet\n",
       "2    Atlas\n",
       "3    Osman\n",
       "dtype: object"
      ]
     },
     "execution_count": 12,
     "metadata": {},
     "output_type": "execute_result"
    }
   ],
   "source": [
    "pd.Series([\"Ahmet\",\"Atlas\",\"Osman\"],[1,2,3])"
   ]
  },
  {
   "cell_type": "code",
   "execution_count": 13,
   "id": "b8cc023a",
   "metadata": {},
   "outputs": [],
   "source": [
    "yarismaSonucu1 = pd.Series([10,5,1],[\"Atıl\",\"Ahmet\",\"Osman\"])"
   ]
  },
  {
   "cell_type": "code",
   "execution_count": 14,
   "id": "2ba05beb",
   "metadata": {},
   "outputs": [
    {
     "data": {
      "text/plain": [
       "Atıl     10\n",
       "Ahmet     5\n",
       "Osman     1\n",
       "dtype: int64"
      ]
     },
     "execution_count": 14,
     "metadata": {},
     "output_type": "execute_result"
    }
   ],
   "source": [
    "yarismaSonucu1"
   ]
  },
  {
   "cell_type": "code",
   "execution_count": 15,
   "id": "3f880e47",
   "metadata": {},
   "outputs": [],
   "source": [
    "yarismaSonucu2 = pd.Series([20,10,8],[\"Atıl\",\"Ahmet\",\"Osman\"])"
   ]
  },
  {
   "cell_type": "code",
   "execution_count": 16,
   "id": "80f334a4",
   "metadata": {},
   "outputs": [
    {
     "data": {
      "text/plain": [
       "Atıl     20\n",
       "Ahmet    10\n",
       "Osman     8\n",
       "dtype: int64"
      ]
     },
     "execution_count": 16,
     "metadata": {},
     "output_type": "execute_result"
    }
   ],
   "source": [
    "yarismaSonucu2"
   ]
  },
  {
   "cell_type": "code",
   "execution_count": 17,
   "id": "1c3f64ea",
   "metadata": {},
   "outputs": [
    {
     "data": {
      "text/plain": [
       "10"
      ]
     },
     "execution_count": 17,
     "metadata": {},
     "output_type": "execute_result"
    }
   ],
   "source": [
    "yarismaSonucu2[\"Ahmet\"]"
   ]
  },
  {
   "cell_type": "code",
   "execution_count": 18,
   "id": "9cd3f7f4",
   "metadata": {},
   "outputs": [],
   "source": [
    "sonSonuc = yarismaSonucu1 + yarismaSonucu2"
   ]
  },
  {
   "cell_type": "code",
   "execution_count": 19,
   "id": "ec3b04b4",
   "metadata": {},
   "outputs": [
    {
     "data": {
      "text/plain": [
       "Atıl     30\n",
       "Ahmet    15\n",
       "Osman     9\n",
       "dtype: int64"
      ]
     },
     "execution_count": 19,
     "metadata": {},
     "output_type": "execute_result"
    }
   ],
   "source": [
    "sonSonuc"
   ]
  },
  {
   "cell_type": "code",
   "execution_count": 20,
   "id": "2dd9a41b",
   "metadata": {},
   "outputs": [],
   "source": [
    "farkliSeries = pd.Series([20,30,40,50],[\"a\",\"b\",\"c\",\"d\"])"
   ]
  },
  {
   "cell_type": "code",
   "execution_count": 21,
   "id": "63a89075",
   "metadata": {},
   "outputs": [],
   "source": [
    "farkliSeries2 = pd.Series([10,5,3,1],[\"a\",\"c\",\"f\",\"g\"])"
   ]
  },
  {
   "cell_type": "code",
   "execution_count": 22,
   "id": "c6696219",
   "metadata": {},
   "outputs": [
    {
     "data": {
      "text/plain": [
       "a    20\n",
       "b    30\n",
       "c    40\n",
       "d    50\n",
       "dtype: int64"
      ]
     },
     "execution_count": 22,
     "metadata": {},
     "output_type": "execute_result"
    }
   ],
   "source": [
    "farkliSeries"
   ]
  },
  {
   "cell_type": "code",
   "execution_count": 23,
   "id": "e5d308ec",
   "metadata": {},
   "outputs": [
    {
     "data": {
      "text/plain": [
       "a    10\n",
       "c     5\n",
       "f     3\n",
       "g     1\n",
       "dtype: int64"
      ]
     },
     "execution_count": 23,
     "metadata": {},
     "output_type": "execute_result"
    }
   ],
   "source": [
    "farkliSeries2"
   ]
  },
  {
   "cell_type": "code",
   "execution_count": 24,
   "id": "e798a450",
   "metadata": {},
   "outputs": [
    {
     "data": {
      "text/plain": [
       "a    30.0\n",
       "b     NaN\n",
       "c    45.0\n",
       "d     NaN\n",
       "f     NaN\n",
       "g     NaN\n",
       "dtype: float64"
      ]
     },
     "execution_count": 24,
     "metadata": {},
     "output_type": "execute_result"
    }
   ],
   "source": [
    "farkliSeries + farkliSeries2"
   ]
  },
  {
   "cell_type": "code",
   "execution_count": null,
   "id": "d3e13377",
   "metadata": {},
   "outputs": [],
   "source": []
  }
 ],
 "metadata": {
  "kernelspec": {
   "display_name": "Python 3 (ipykernel)",
   "language": "python",
   "name": "python3"
  },
  "language_info": {
   "codemirror_mode": {
    "name": "ipython",
    "version": 3
   },
   "file_extension": ".py",
   "mimetype": "text/x-python",
   "name": "python",
   "nbconvert_exporter": "python",
   "pygments_lexer": "ipython3",
   "version": "3.9.18"
  }
 },
 "nbformat": 4,
 "nbformat_minor": 5
}
