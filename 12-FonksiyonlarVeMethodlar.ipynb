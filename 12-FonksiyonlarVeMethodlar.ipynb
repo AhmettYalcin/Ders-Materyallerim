{
 "cells": [
  {
   "cell_type": "code",
   "execution_count": 1,
   "id": "4ddcf2b5",
   "metadata": {},
   "outputs": [],
   "source": [
    "# derste aldığım notlar \n",
    "\n",
    "benimAdim = \"ahmet Yalçın\""
   ]
  },
  {
   "cell_type": "code",
   "execution_count": 2,
   "id": "499bafd2",
   "metadata": {},
   "outputs": [
    {
     "data": {
      "text/plain": [
       "'AHMET YALÇIN'"
      ]
     },
     "execution_count": 2,
     "metadata": {},
     "output_type": "execute_result"
    }
   ],
   "source": [
    "benimAdim.upper()"
   ]
  },
  {
   "cell_type": "markdown",
   "id": "51f85cd9",
   "metadata": {},
   "source": [
    "benimAdim.upper() komutu string içinde harflerin hepsini büyük harfe çevirir."
   ]
  },
  {
   "cell_type": "code",
   "execution_count": 3,
   "id": "06da1a4f",
   "metadata": {},
   "outputs": [
    {
     "data": {
      "text/plain": [
       "'ahmet Yalçın'"
      ]
     },
     "execution_count": 3,
     "metadata": {},
     "output_type": "execute_result"
    }
   ],
   "source": [
    "benimAdim"
   ]
  },
  {
   "cell_type": "code",
   "execution_count": 4,
   "id": "64075eb4",
   "metadata": {},
   "outputs": [],
   "source": [
    "benimAdimBuyukHarfli = benimAdim.upper()"
   ]
  },
  {
   "cell_type": "code",
   "execution_count": 5,
   "id": "dea23ba4",
   "metadata": {},
   "outputs": [
    {
     "data": {
      "text/plain": [
       "'AHMET YALÇIN'"
      ]
     },
     "execution_count": 5,
     "metadata": {},
     "output_type": "execute_result"
    }
   ],
   "source": [
    "benimAdimBuyukHarfli"
   ]
  },
  {
   "cell_type": "code",
   "execution_count": 6,
   "id": "0e3f42bc",
   "metadata": {},
   "outputs": [],
   "source": [
    "def ilkFonksiyon():\n",
    "    print(\"ilk Fonksiyonlar\")"
   ]
  },
  {
   "cell_type": "code",
   "execution_count": 7,
   "id": "cf6e3802",
   "metadata": {},
   "outputs": [
    {
     "name": "stdout",
     "output_type": "stream",
     "text": [
      "ilk Fonksiyonlar\n"
     ]
    }
   ],
   "source": [
    "ilkFonksiyon()"
   ]
  },
  {
   "cell_type": "markdown",
   "id": "ab29b888",
   "metadata": {},
   "source": [
    "# input & return"
   ]
  },
  {
   "cell_type": "code",
   "execution_count": 8,
   "id": "89d0d8bd",
   "metadata": {},
   "outputs": [],
   "source": [
    "def merhabaDunya(yazdirilacakIsim):\n",
    "    print(\"merhaba\")\n",
    "    print(yazdirilacakIsim)"
   ]
  },
  {
   "cell_type": "code",
   "execution_count": 9,
   "id": "9a5c24b5",
   "metadata": {},
   "outputs": [
    {
     "name": "stdout",
     "output_type": "stream",
     "text": [
      "merhaba\n",
      "atıl\n"
     ]
    }
   ],
   "source": [
    "merhabaDunya(\"atıl\")"
   ]
  },
  {
   "cell_type": "code",
   "execution_count": 10,
   "id": "31777811",
   "metadata": {},
   "outputs": [
    {
     "name": "stdout",
     "output_type": "stream",
     "text": [
      "merhaba\n",
      "python\n"
     ]
    }
   ],
   "source": [
    "merhabaDunya(\"python\")"
   ]
  },
  {
   "cell_type": "code",
   "execution_count": 11,
   "id": "65e64c80",
   "metadata": {},
   "outputs": [],
   "source": [
    "def toplama(numara1, numara2):\n",
    "    sonuc = numara1 + numara2\n",
    "    print (sonuc)"
   ]
  },
  {
   "cell_type": "code",
   "execution_count": 12,
   "id": "f4e99973",
   "metadata": {},
   "outputs": [
    {
     "name": "stdout",
     "output_type": "stream",
     "text": [
      "30\n"
     ]
    }
   ],
   "source": [
    "toplama(10,20)"
   ]
  },
  {
   "cell_type": "code",
   "execution_count": 13,
   "id": "e957d304",
   "metadata": {},
   "outputs": [
    {
     "name": "stdout",
     "output_type": "stream",
     "text": [
      "150\n"
     ]
    }
   ],
   "source": [
    "toplama(-200,350)"
   ]
  },
  {
   "cell_type": "code",
   "execution_count": 14,
   "id": "fe84bfb4",
   "metadata": {},
   "outputs": [],
   "source": [
    "def superToplama(num1 ,num2, num3):\n",
    "    print(num1+num2+num3)"
   ]
  },
  {
   "cell_type": "code",
   "execution_count": 15,
   "id": "cf5a1dc4",
   "metadata": {},
   "outputs": [
    {
     "name": "stdout",
     "output_type": "stream",
     "text": [
      "60\n"
     ]
    }
   ],
   "source": [
    "superToplama(10,20,30)"
   ]
  },
  {
   "cell_type": "code",
   "execution_count": 16,
   "id": "c24a6a3c",
   "metadata": {},
   "outputs": [
    {
     "name": "stdout",
     "output_type": "stream",
     "text": [
      "30\n"
     ]
    }
   ],
   "source": [
    "yeniDegisken = toplama(10,20)"
   ]
  },
  {
   "cell_type": "code",
   "execution_count": 17,
   "id": "16b3f3b1",
   "metadata": {},
   "outputs": [
    {
     "data": {
      "text/plain": [
       "NoneType"
      ]
     },
     "execution_count": 17,
     "metadata": {},
     "output_type": "execute_result"
    }
   ],
   "source": [
    "type(yeniDegisken)"
   ]
  },
  {
   "cell_type": "code",
   "execution_count": 18,
   "id": "4eaa5f0e",
   "metadata": {},
   "outputs": [],
   "source": [
    "def dondurmeliToplama(num1,num2):\n",
    "    return num1+num2"
   ]
  },
  {
   "cell_type": "code",
   "execution_count": 19,
   "id": "034e25cc",
   "metadata": {},
   "outputs": [],
   "source": [
    "yeniSonuc = dondurmeliToplama(10,20)"
   ]
  },
  {
   "cell_type": "code",
   "execution_count": 20,
   "id": "44f240ea",
   "metadata": {},
   "outputs": [
    {
     "data": {
      "text/plain": [
       "30"
      ]
     },
     "execution_count": 20,
     "metadata": {},
     "output_type": "execute_result"
    }
   ],
   "source": [
    "yeniSonuc"
   ]
  },
  {
   "cell_type": "code",
   "execution_count": 21,
   "id": "cb8b6413",
   "metadata": {},
   "outputs": [
    {
     "data": {
      "text/plain": [
       "int"
      ]
     },
     "execution_count": 21,
     "metadata": {},
     "output_type": "execute_result"
    }
   ],
   "source": [
    "type(yeniSonuc)"
   ]
  },
  {
   "cell_type": "code",
   "execution_count": 22,
   "id": "45631346",
   "metadata": {},
   "outputs": [],
   "source": [
    "def kontrolFonksiyon(s):\n",
    "    if s == \"ahmet\":\n",
    "        print(\"verdiğiniz string ahmet\")\n",
    "    else:\n",
    "        print(\"verdiğiniz string başka bir şey\")"
   ]
  },
  {
   "cell_type": "code",
   "execution_count": 23,
   "id": "250d8ab9",
   "metadata": {},
   "outputs": [
    {
     "name": "stdout",
     "output_type": "stream",
     "text": [
      "verdiğiniz string ahmet\n"
     ]
    }
   ],
   "source": [
    "kontrolFonksiyon(\"ahmet\")"
   ]
  },
  {
   "cell_type": "code",
   "execution_count": 24,
   "id": "840df848",
   "metadata": {},
   "outputs": [
    {
     "name": "stdout",
     "output_type": "stream",
     "text": [
      "verdiğiniz string başka bir şey\n"
     ]
    }
   ],
   "source": [
    "kontrolFonksiyon(\"sümeyra\")"
   ]
  },
  {
   "cell_type": "markdown",
   "id": "f80490a9",
   "metadata": {},
   "source": [
    "# args & kwargs"
   ]
  },
  {
   "cell_type": "code",
   "execution_count": 25,
   "id": "52a489ab",
   "metadata": {},
   "outputs": [],
   "source": [
    "def yeniToplama(*args):\n",
    "    return sum(args)"
   ]
  },
  {
   "cell_type": "code",
   "execution_count": 26,
   "id": "ac581a63",
   "metadata": {},
   "outputs": [
    {
     "data": {
      "text/plain": [
       "210"
      ]
     },
     "execution_count": 26,
     "metadata": {},
     "output_type": "execute_result"
    }
   ],
   "source": [
    "yeniToplama(10,20,30,40,50,60)"
   ]
  },
  {
   "cell_type": "code",
   "execution_count": 27,
   "id": "84ad4453",
   "metadata": {},
   "outputs": [
    {
     "data": {
      "text/plain": [
       "30"
      ]
     },
     "execution_count": 27,
     "metadata": {},
     "output_type": "execute_result"
    }
   ],
   "source": [
    "yeniToplama(10,20)"
   ]
  },
  {
   "cell_type": "code",
   "execution_count": 28,
   "id": "cdf4778f",
   "metadata": {},
   "outputs": [],
   "source": [
    "def benimFonksiyonum(*args):\n",
    "    return args"
   ]
  },
  {
   "cell_type": "code",
   "execution_count": 29,
   "id": "cb93f0b0",
   "metadata": {},
   "outputs": [
    {
     "data": {
      "text/plain": [
       "(20, 30, 40)"
      ]
     },
     "execution_count": 29,
     "metadata": {},
     "output_type": "execute_result"
    }
   ],
   "source": [
    "benimFonksiyonum(20,30,40)"
   ]
  },
  {
   "cell_type": "code",
   "execution_count": 30,
   "id": "737c21be",
   "metadata": {},
   "outputs": [],
   "source": [
    "def ornekFonksiyon(**kwargs):\n",
    "    return (kwargs)"
   ]
  },
  {
   "cell_type": "code",
   "execution_count": 31,
   "id": "b1821344",
   "metadata": {},
   "outputs": [
    {
     "data": {
      "text/plain": [
       "{'muz': 100, 'elma': 200, 'ananas': 300}"
      ]
     },
     "execution_count": 31,
     "metadata": {},
     "output_type": "execute_result"
    }
   ],
   "source": [
    "ornekFonksiyon(muz = 100, elma = 200, ananas = 300)"
   ]
  },
  {
   "cell_type": "code",
   "execution_count": 32,
   "id": "ade75140",
   "metadata": {},
   "outputs": [
    {
     "data": {
      "text/plain": [
       "dict"
      ]
     },
     "execution_count": 32,
     "metadata": {},
     "output_type": "execute_result"
    }
   ],
   "source": [
    "type(ornekFonksiyon(muz = 100, elma = 200, ananas = 300))"
   ]
  },
  {
   "cell_type": "code",
   "execution_count": 33,
   "id": "f8e71ff4",
   "metadata": {},
   "outputs": [],
   "source": [
    "def keyWordKontrol(**kwargs):\n",
    "    if \"ahmet\" in kwargs:\n",
    "        print(\"ahmet var\")\n",
    "    else:\n",
    "        print(\"ahmet yok\")"
   ]
  },
  {
   "cell_type": "code",
   "execution_count": 34,
   "id": "1433ae8f",
   "metadata": {},
   "outputs": [
    {
     "name": "stdout",
     "output_type": "stream",
     "text": [
      "ahmet var\n"
     ]
    }
   ],
   "source": [
    "keyWordKontrol(atıl = 70, ahmet= 50, mehmet = 40)"
   ]
  },
  {
   "cell_type": "code",
   "execution_count": 35,
   "id": "91cd3b7d",
   "metadata": {},
   "outputs": [
    {
     "name": "stdout",
     "output_type": "stream",
     "text": [
      "ahmet var\n"
     ]
    },
    {
     "data": {
      "text/plain": [
       "NoneType"
      ]
     },
     "execution_count": 35,
     "metadata": {},
     "output_type": "execute_result"
    }
   ],
   "source": [
    "type(keyWordKontrol(atıl = 70, ahmet= 50, mehmet = 40))"
   ]
  },
  {
   "cell_type": "code",
   "execution_count": null,
   "id": "163f8e73",
   "metadata": {},
   "outputs": [],
   "source": []
  }
 ],
 "metadata": {
  "kernelspec": {
   "display_name": "Python 3 (ipykernel)",
   "language": "python",
   "name": "python3"
  },
  "language_info": {
   "codemirror_mode": {
    "name": "ipython",
    "version": 3
   },
   "file_extension": ".py",
   "mimetype": "text/x-python",
   "name": "python",
   "nbconvert_exporter": "python",
   "pygments_lexer": "ipython3",
   "version": "3.9.18"
  }
 },
 "nbformat": 4,
 "nbformat_minor": 5
}
