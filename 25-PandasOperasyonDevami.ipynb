{
 "cells": [
  {
   "cell_type": "code",
   "execution_count": 1,
   "id": "deaddb77",
   "metadata": {},
   "outputs": [],
   "source": [
    "# derste aldığım notlar 25\n",
    "\n",
    "import numpy as np\n",
    "import pandas as pd"
   ]
  },
  {
   "cell_type": "code",
   "execution_count": 2,
   "id": "88e606e7",
   "metadata": {},
   "outputs": [],
   "source": [
    "sozluk1 = {\"Isim\" : [\"Ahmet\",\"Mehmet\",\"Zeynep\",\"Atıl\"],\n",
    "          \"Spor\" : [\"Koşu\",\"Yüzme\",\"Koşu\",\"Basketbol\"],\n",
    "          \"Kalori\" : [100,200,300,400]\n",
    "          }"
   ]
  },
  {
   "cell_type": "code",
   "execution_count": 3,
   "id": "5d83eaaa",
   "metadata": {},
   "outputs": [],
   "source": [
    "dataFrame1 = pd.DataFrame(sozluk1, index=[0,1,2,3])"
   ]
  },
  {
   "cell_type": "code",
   "execution_count": 4,
   "id": "087adbdf",
   "metadata": {},
   "outputs": [
    {
     "data": {
      "text/html": [
       "<div>\n",
       "<style scoped>\n",
       "    .dataframe tbody tr th:only-of-type {\n",
       "        vertical-align: middle;\n",
       "    }\n",
       "\n",
       "    .dataframe tbody tr th {\n",
       "        vertical-align: top;\n",
       "    }\n",
       "\n",
       "    .dataframe thead th {\n",
       "        text-align: right;\n",
       "    }\n",
       "</style>\n",
       "<table border=\"1\" class=\"dataframe\">\n",
       "  <thead>\n",
       "    <tr style=\"text-align: right;\">\n",
       "      <th></th>\n",
       "      <th>Isim</th>\n",
       "      <th>Spor</th>\n",
       "      <th>Kalori</th>\n",
       "    </tr>\n",
       "  </thead>\n",
       "  <tbody>\n",
       "    <tr>\n",
       "      <th>0</th>\n",
       "      <td>Ahmet</td>\n",
       "      <td>Koşu</td>\n",
       "      <td>100</td>\n",
       "    </tr>\n",
       "    <tr>\n",
       "      <th>1</th>\n",
       "      <td>Mehmet</td>\n",
       "      <td>Yüzme</td>\n",
       "      <td>200</td>\n",
       "    </tr>\n",
       "    <tr>\n",
       "      <th>2</th>\n",
       "      <td>Zeynep</td>\n",
       "      <td>Koşu</td>\n",
       "      <td>300</td>\n",
       "    </tr>\n",
       "    <tr>\n",
       "      <th>3</th>\n",
       "      <td>Atıl</td>\n",
       "      <td>Basketbol</td>\n",
       "      <td>400</td>\n",
       "    </tr>\n",
       "  </tbody>\n",
       "</table>\n",
       "</div>"
      ],
      "text/plain": [
       "     Isim       Spor  Kalori\n",
       "0   Ahmet       Koşu     100\n",
       "1  Mehmet      Yüzme     200\n",
       "2  Zeynep       Koşu     300\n",
       "3    Atıl  Basketbol     400"
      ]
     },
     "execution_count": 4,
     "metadata": {},
     "output_type": "execute_result"
    }
   ],
   "source": [
    "dataFrame1"
   ]
  },
  {
   "cell_type": "code",
   "execution_count": 5,
   "id": "240aae50",
   "metadata": {},
   "outputs": [],
   "source": [
    "sozluk2 = {\"Isim\" : [\"Osman\",\"Levent\",\"Atlas\",\"Fatma\"],\n",
    "          \"Spor\" : [\"Koşu\",\"Yüzme\",\"Koşu\",\"Basketbol\"],\n",
    "          \"Kalori\" : [200,100,50,300]\n",
    "          }"
   ]
  },
  {
   "cell_type": "code",
   "execution_count": 6,
   "id": "5e66b8a2",
   "metadata": {},
   "outputs": [],
   "source": [
    "dataFrame2 = pd.DataFrame(sozluk2, index = [4,5,6,7])"
   ]
  },
  {
   "cell_type": "code",
   "execution_count": 7,
   "id": "811520fe",
   "metadata": {},
   "outputs": [],
   "source": [
    "sozluk3 = {\"Isim\" : [\"Ayşe\",\"Mahmut\",\"Duygu\",\"Nur\"],\n",
    "          \"Spor\" : [\"Koşu\",\"Yüzme\",\"Badminton\",\"Tenis\"],\n",
    "          \"Kalori\" : [300,400,500,250]\n",
    "          }"
   ]
  },
  {
   "cell_type": "code",
   "execution_count": 8,
   "id": "8d58161f",
   "metadata": {},
   "outputs": [],
   "source": [
    "dataFrame3 = pd.DataFrame(sozluk3, index = [8,9,10,11])"
   ]
  },
  {
   "cell_type": "code",
   "execution_count": 9,
   "id": "4e3f56fe",
   "metadata": {},
   "outputs": [
    {
     "data": {
      "text/html": [
       "<div>\n",
       "<style scoped>\n",
       "    .dataframe tbody tr th:only-of-type {\n",
       "        vertical-align: middle;\n",
       "    }\n",
       "\n",
       "    .dataframe tbody tr th {\n",
       "        vertical-align: top;\n",
       "    }\n",
       "\n",
       "    .dataframe thead th {\n",
       "        text-align: right;\n",
       "    }\n",
       "</style>\n",
       "<table border=\"1\" class=\"dataframe\">\n",
       "  <thead>\n",
       "    <tr style=\"text-align: right;\">\n",
       "      <th></th>\n",
       "      <th>Isim</th>\n",
       "      <th>Spor</th>\n",
       "      <th>Kalori</th>\n",
       "    </tr>\n",
       "  </thead>\n",
       "  <tbody>\n",
       "    <tr>\n",
       "      <th>4</th>\n",
       "      <td>Osman</td>\n",
       "      <td>Koşu</td>\n",
       "      <td>200</td>\n",
       "    </tr>\n",
       "    <tr>\n",
       "      <th>5</th>\n",
       "      <td>Levent</td>\n",
       "      <td>Yüzme</td>\n",
       "      <td>100</td>\n",
       "    </tr>\n",
       "    <tr>\n",
       "      <th>6</th>\n",
       "      <td>Atlas</td>\n",
       "      <td>Koşu</td>\n",
       "      <td>50</td>\n",
       "    </tr>\n",
       "    <tr>\n",
       "      <th>7</th>\n",
       "      <td>Fatma</td>\n",
       "      <td>Basketbol</td>\n",
       "      <td>300</td>\n",
       "    </tr>\n",
       "  </tbody>\n",
       "</table>\n",
       "</div>"
      ],
      "text/plain": [
       "     Isim       Spor  Kalori\n",
       "4   Osman       Koşu     200\n",
       "5  Levent      Yüzme     100\n",
       "6   Atlas       Koşu      50\n",
       "7   Fatma  Basketbol     300"
      ]
     },
     "execution_count": 9,
     "metadata": {},
     "output_type": "execute_result"
    }
   ],
   "source": [
    "dataFrame2"
   ]
  },
  {
   "cell_type": "code",
   "execution_count": 10,
   "id": "c8796cdd",
   "metadata": {},
   "outputs": [
    {
     "data": {
      "text/html": [
       "<div>\n",
       "<style scoped>\n",
       "    .dataframe tbody tr th:only-of-type {\n",
       "        vertical-align: middle;\n",
       "    }\n",
       "\n",
       "    .dataframe tbody tr th {\n",
       "        vertical-align: top;\n",
       "    }\n",
       "\n",
       "    .dataframe thead th {\n",
       "        text-align: right;\n",
       "    }\n",
       "</style>\n",
       "<table border=\"1\" class=\"dataframe\">\n",
       "  <thead>\n",
       "    <tr style=\"text-align: right;\">\n",
       "      <th></th>\n",
       "      <th>Isim</th>\n",
       "      <th>Spor</th>\n",
       "      <th>Kalori</th>\n",
       "    </tr>\n",
       "  </thead>\n",
       "  <tbody>\n",
       "    <tr>\n",
       "      <th>8</th>\n",
       "      <td>Ayşe</td>\n",
       "      <td>Koşu</td>\n",
       "      <td>300</td>\n",
       "    </tr>\n",
       "    <tr>\n",
       "      <th>9</th>\n",
       "      <td>Mahmut</td>\n",
       "      <td>Yüzme</td>\n",
       "      <td>400</td>\n",
       "    </tr>\n",
       "    <tr>\n",
       "      <th>10</th>\n",
       "      <td>Duygu</td>\n",
       "      <td>Badminton</td>\n",
       "      <td>500</td>\n",
       "    </tr>\n",
       "    <tr>\n",
       "      <th>11</th>\n",
       "      <td>Nur</td>\n",
       "      <td>Tenis</td>\n",
       "      <td>250</td>\n",
       "    </tr>\n",
       "  </tbody>\n",
       "</table>\n",
       "</div>"
      ],
      "text/plain": [
       "      Isim       Spor  Kalori\n",
       "8     Ayşe       Koşu     300\n",
       "9   Mahmut      Yüzme     400\n",
       "10   Duygu  Badminton     500\n",
       "11     Nur      Tenis     250"
      ]
     },
     "execution_count": 10,
     "metadata": {},
     "output_type": "execute_result"
    }
   ],
   "source": [
    "dataFrame3"
   ]
  },
  {
   "cell_type": "markdown",
   "id": "5882fe0d",
   "metadata": {},
   "source": [
    "# concatenation"
   ]
  },
  {
   "cell_type": "code",
   "execution_count": 11,
   "id": "bde785cb",
   "metadata": {},
   "outputs": [],
   "source": [
    "toplananDataFrame = pd.concat([dataFrame1,dataFrame2,dataFrame3])  # 3 ayrı data frame i birleştirdik"
   ]
  },
  {
   "cell_type": "code",
   "execution_count": 12,
   "id": "c902ea22",
   "metadata": {},
   "outputs": [
    {
     "data": {
      "text/html": [
       "<div>\n",
       "<style scoped>\n",
       "    .dataframe tbody tr th:only-of-type {\n",
       "        vertical-align: middle;\n",
       "    }\n",
       "\n",
       "    .dataframe tbody tr th {\n",
       "        vertical-align: top;\n",
       "    }\n",
       "\n",
       "    .dataframe thead th {\n",
       "        text-align: right;\n",
       "    }\n",
       "</style>\n",
       "<table border=\"1\" class=\"dataframe\">\n",
       "  <thead>\n",
       "    <tr style=\"text-align: right;\">\n",
       "      <th></th>\n",
       "      <th>Isim</th>\n",
       "      <th>Spor</th>\n",
       "      <th>Kalori</th>\n",
       "    </tr>\n",
       "  </thead>\n",
       "  <tbody>\n",
       "    <tr>\n",
       "      <th>0</th>\n",
       "      <td>Ahmet</td>\n",
       "      <td>Koşu</td>\n",
       "      <td>100</td>\n",
       "    </tr>\n",
       "    <tr>\n",
       "      <th>1</th>\n",
       "      <td>Mehmet</td>\n",
       "      <td>Yüzme</td>\n",
       "      <td>200</td>\n",
       "    </tr>\n",
       "    <tr>\n",
       "      <th>2</th>\n",
       "      <td>Zeynep</td>\n",
       "      <td>Koşu</td>\n",
       "      <td>300</td>\n",
       "    </tr>\n",
       "    <tr>\n",
       "      <th>3</th>\n",
       "      <td>Atıl</td>\n",
       "      <td>Basketbol</td>\n",
       "      <td>400</td>\n",
       "    </tr>\n",
       "    <tr>\n",
       "      <th>4</th>\n",
       "      <td>Osman</td>\n",
       "      <td>Koşu</td>\n",
       "      <td>200</td>\n",
       "    </tr>\n",
       "    <tr>\n",
       "      <th>5</th>\n",
       "      <td>Levent</td>\n",
       "      <td>Yüzme</td>\n",
       "      <td>100</td>\n",
       "    </tr>\n",
       "    <tr>\n",
       "      <th>6</th>\n",
       "      <td>Atlas</td>\n",
       "      <td>Koşu</td>\n",
       "      <td>50</td>\n",
       "    </tr>\n",
       "    <tr>\n",
       "      <th>7</th>\n",
       "      <td>Fatma</td>\n",
       "      <td>Basketbol</td>\n",
       "      <td>300</td>\n",
       "    </tr>\n",
       "    <tr>\n",
       "      <th>8</th>\n",
       "      <td>Ayşe</td>\n",
       "      <td>Koşu</td>\n",
       "      <td>300</td>\n",
       "    </tr>\n",
       "    <tr>\n",
       "      <th>9</th>\n",
       "      <td>Mahmut</td>\n",
       "      <td>Yüzme</td>\n",
       "      <td>400</td>\n",
       "    </tr>\n",
       "    <tr>\n",
       "      <th>10</th>\n",
       "      <td>Duygu</td>\n",
       "      <td>Badminton</td>\n",
       "      <td>500</td>\n",
       "    </tr>\n",
       "    <tr>\n",
       "      <th>11</th>\n",
       "      <td>Nur</td>\n",
       "      <td>Tenis</td>\n",
       "      <td>250</td>\n",
       "    </tr>\n",
       "  </tbody>\n",
       "</table>\n",
       "</div>"
      ],
      "text/plain": [
       "      Isim       Spor  Kalori\n",
       "0    Ahmet       Koşu     100\n",
       "1   Mehmet      Yüzme     200\n",
       "2   Zeynep       Koşu     300\n",
       "3     Atıl  Basketbol     400\n",
       "4    Osman       Koşu     200\n",
       "5   Levent      Yüzme     100\n",
       "6    Atlas       Koşu      50\n",
       "7    Fatma  Basketbol     300\n",
       "8     Ayşe       Koşu     300\n",
       "9   Mahmut      Yüzme     400\n",
       "10   Duygu  Badminton     500\n",
       "11     Nur      Tenis     250"
      ]
     },
     "execution_count": 12,
     "metadata": {},
     "output_type": "execute_result"
    }
   ],
   "source": [
    "toplananDataFrame"
   ]
  },
  {
   "cell_type": "code",
   "execution_count": 13,
   "id": "b1fd2071",
   "metadata": {},
   "outputs": [
    {
     "data": {
      "text/plain": [
       "Isim      12\n",
       "Spor      12\n",
       "Kalori    12\n",
       "dtype: int64"
      ]
     },
     "execution_count": 13,
     "metadata": {},
     "output_type": "execute_result"
    }
   ],
   "source": [
    "toplananDataFrame.count()"
   ]
  },
  {
   "cell_type": "code",
   "execution_count": 14,
   "id": "cdcf940f",
   "metadata": {},
   "outputs": [
    {
     "data": {
      "text/plain": [
       "258.3333333333333"
      ]
     },
     "execution_count": 14,
     "metadata": {},
     "output_type": "execute_result"
    }
   ],
   "source": [
    "toplananDataFrame[\"Kalori\"].mean()"
   ]
  },
  {
   "cell_type": "code",
   "execution_count": 15,
   "id": "e5c055b4",
   "metadata": {},
   "outputs": [],
   "source": [
    "groupOrnek = toplananDataFrame.groupby(\"Spor\")"
   ]
  },
  {
   "cell_type": "code",
   "execution_count": 16,
   "id": "132cfcc1",
   "metadata": {},
   "outputs": [
    {
     "data": {
      "text/html": [
       "<div>\n",
       "<style scoped>\n",
       "    .dataframe tbody tr th:only-of-type {\n",
       "        vertical-align: middle;\n",
       "    }\n",
       "\n",
       "    .dataframe tbody tr th {\n",
       "        vertical-align: top;\n",
       "    }\n",
       "\n",
       "    .dataframe thead th {\n",
       "        text-align: right;\n",
       "    }\n",
       "</style>\n",
       "<table border=\"1\" class=\"dataframe\">\n",
       "  <thead>\n",
       "    <tr style=\"text-align: right;\">\n",
       "      <th></th>\n",
       "      <th>Isim</th>\n",
       "      <th>Kalori</th>\n",
       "    </tr>\n",
       "    <tr>\n",
       "      <th>Spor</th>\n",
       "      <th></th>\n",
       "      <th></th>\n",
       "    </tr>\n",
       "  </thead>\n",
       "  <tbody>\n",
       "    <tr>\n",
       "      <th>Badminton</th>\n",
       "      <td>1</td>\n",
       "      <td>1</td>\n",
       "    </tr>\n",
       "    <tr>\n",
       "      <th>Basketbol</th>\n",
       "      <td>2</td>\n",
       "      <td>2</td>\n",
       "    </tr>\n",
       "    <tr>\n",
       "      <th>Koşu</th>\n",
       "      <td>5</td>\n",
       "      <td>5</td>\n",
       "    </tr>\n",
       "    <tr>\n",
       "      <th>Tenis</th>\n",
       "      <td>1</td>\n",
       "      <td>1</td>\n",
       "    </tr>\n",
       "    <tr>\n",
       "      <th>Yüzme</th>\n",
       "      <td>3</td>\n",
       "      <td>3</td>\n",
       "    </tr>\n",
       "  </tbody>\n",
       "</table>\n",
       "</div>"
      ],
      "text/plain": [
       "           Isim  Kalori\n",
       "Spor                   \n",
       "Badminton     1       1\n",
       "Basketbol     2       2\n",
       "Koşu          5       5\n",
       "Tenis         1       1\n",
       "Yüzme         3       3"
      ]
     },
     "execution_count": 16,
     "metadata": {},
     "output_type": "execute_result"
    }
   ],
   "source": [
    "groupOrnek.count()"
   ]
  },
  {
   "cell_type": "code",
   "execution_count": 17,
   "id": "9da40670",
   "metadata": {},
   "outputs": [
    {
     "data": {
      "text/html": [
       "<div>\n",
       "<style scoped>\n",
       "    .dataframe tbody tr th:only-of-type {\n",
       "        vertical-align: middle;\n",
       "    }\n",
       "\n",
       "    .dataframe tbody tr th {\n",
       "        vertical-align: top;\n",
       "    }\n",
       "\n",
       "    .dataframe thead th {\n",
       "        text-align: right;\n",
       "    }\n",
       "</style>\n",
       "<table border=\"1\" class=\"dataframe\">\n",
       "  <thead>\n",
       "    <tr style=\"text-align: right;\">\n",
       "      <th></th>\n",
       "      <th>Kalori</th>\n",
       "    </tr>\n",
       "    <tr>\n",
       "      <th>Spor</th>\n",
       "      <th></th>\n",
       "    </tr>\n",
       "  </thead>\n",
       "  <tbody>\n",
       "    <tr>\n",
       "      <th>Badminton</th>\n",
       "      <td>500.000000</td>\n",
       "    </tr>\n",
       "    <tr>\n",
       "      <th>Basketbol</th>\n",
       "      <td>350.000000</td>\n",
       "    </tr>\n",
       "    <tr>\n",
       "      <th>Koşu</th>\n",
       "      <td>190.000000</td>\n",
       "    </tr>\n",
       "    <tr>\n",
       "      <th>Tenis</th>\n",
       "      <td>250.000000</td>\n",
       "    </tr>\n",
       "    <tr>\n",
       "      <th>Yüzme</th>\n",
       "      <td>233.333333</td>\n",
       "    </tr>\n",
       "  </tbody>\n",
       "</table>\n",
       "</div>"
      ],
      "text/plain": [
       "               Kalori\n",
       "Spor                 \n",
       "Badminton  500.000000\n",
       "Basketbol  350.000000\n",
       "Koşu       190.000000\n",
       "Tenis      250.000000\n",
       "Yüzme      233.333333"
      ]
     },
     "execution_count": 17,
     "metadata": {},
     "output_type": "execute_result"
    }
   ],
   "source": [
    "groupOrnek.mean(\"Kalori\")"
   ]
  },
  {
   "cell_type": "markdown",
   "id": "1416782b",
   "metadata": {},
   "source": [
    "# merge"
   ]
  },
  {
   "cell_type": "code",
   "execution_count": 18,
   "id": "da7ffa9d",
   "metadata": {},
   "outputs": [],
   "source": [
    "mergeSozluk1 = {\"Isim\" : [\"Ahmet\",\"Mehmet\",\"Zeynep\",\"Atıl\"],\n",
    "               \"Spor\" : [\"Koşu\",\"Yüzme\",\"Koşu\",\"Basketbol\"]}"
   ]
  },
  {
   "cell_type": "code",
   "execution_count": 19,
   "id": "791e95a3",
   "metadata": {},
   "outputs": [],
   "source": [
    "mergeDataFrame1 = pd.DataFrame(mergeSozluk1)"
   ]
  },
  {
   "cell_type": "code",
   "execution_count": 20,
   "id": "1701664b",
   "metadata": {},
   "outputs": [
    {
     "data": {
      "text/html": [
       "<div>\n",
       "<style scoped>\n",
       "    .dataframe tbody tr th:only-of-type {\n",
       "        vertical-align: middle;\n",
       "    }\n",
       "\n",
       "    .dataframe tbody tr th {\n",
       "        vertical-align: top;\n",
       "    }\n",
       "\n",
       "    .dataframe thead th {\n",
       "        text-align: right;\n",
       "    }\n",
       "</style>\n",
       "<table border=\"1\" class=\"dataframe\">\n",
       "  <thead>\n",
       "    <tr style=\"text-align: right;\">\n",
       "      <th></th>\n",
       "      <th>Isim</th>\n",
       "      <th>Spor</th>\n",
       "    </tr>\n",
       "  </thead>\n",
       "  <tbody>\n",
       "    <tr>\n",
       "      <th>0</th>\n",
       "      <td>Ahmet</td>\n",
       "      <td>Koşu</td>\n",
       "    </tr>\n",
       "    <tr>\n",
       "      <th>1</th>\n",
       "      <td>Mehmet</td>\n",
       "      <td>Yüzme</td>\n",
       "    </tr>\n",
       "    <tr>\n",
       "      <th>2</th>\n",
       "      <td>Zeynep</td>\n",
       "      <td>Koşu</td>\n",
       "    </tr>\n",
       "    <tr>\n",
       "      <th>3</th>\n",
       "      <td>Atıl</td>\n",
       "      <td>Basketbol</td>\n",
       "    </tr>\n",
       "  </tbody>\n",
       "</table>\n",
       "</div>"
      ],
      "text/plain": [
       "     Isim       Spor\n",
       "0   Ahmet       Koşu\n",
       "1  Mehmet      Yüzme\n",
       "2  Zeynep       Koşu\n",
       "3    Atıl  Basketbol"
      ]
     },
     "execution_count": 20,
     "metadata": {},
     "output_type": "execute_result"
    }
   ],
   "source": [
    "mergeDataFrame1"
   ]
  },
  {
   "cell_type": "code",
   "execution_count": 21,
   "id": "c6cb4cb7",
   "metadata": {},
   "outputs": [],
   "source": [
    "mergeSozluk2 = {\"Isim\" : [\"Ahmet\",\"Mehmet\",\"Zeynep\",\"Atıl\"],\n",
    "               \"Kalori\" : [100,200,150,250]}"
   ]
  },
  {
   "cell_type": "code",
   "execution_count": 22,
   "id": "5e7bcbb6",
   "metadata": {},
   "outputs": [],
   "source": [
    "mergeDataFrame2 = pd.DataFrame(mergeSozluk2)"
   ]
  },
  {
   "cell_type": "code",
   "execution_count": 23,
   "id": "3e421594",
   "metadata": {},
   "outputs": [
    {
     "data": {
      "text/html": [
       "<div>\n",
       "<style scoped>\n",
       "    .dataframe tbody tr th:only-of-type {\n",
       "        vertical-align: middle;\n",
       "    }\n",
       "\n",
       "    .dataframe tbody tr th {\n",
       "        vertical-align: top;\n",
       "    }\n",
       "\n",
       "    .dataframe thead th {\n",
       "        text-align: right;\n",
       "    }\n",
       "</style>\n",
       "<table border=\"1\" class=\"dataframe\">\n",
       "  <thead>\n",
       "    <tr style=\"text-align: right;\">\n",
       "      <th></th>\n",
       "      <th>Isim</th>\n",
       "      <th>Kalori</th>\n",
       "    </tr>\n",
       "  </thead>\n",
       "  <tbody>\n",
       "    <tr>\n",
       "      <th>0</th>\n",
       "      <td>Ahmet</td>\n",
       "      <td>100</td>\n",
       "    </tr>\n",
       "    <tr>\n",
       "      <th>1</th>\n",
       "      <td>Mehmet</td>\n",
       "      <td>200</td>\n",
       "    </tr>\n",
       "    <tr>\n",
       "      <th>2</th>\n",
       "      <td>Zeynep</td>\n",
       "      <td>150</td>\n",
       "    </tr>\n",
       "    <tr>\n",
       "      <th>3</th>\n",
       "      <td>Atıl</td>\n",
       "      <td>250</td>\n",
       "    </tr>\n",
       "  </tbody>\n",
       "</table>\n",
       "</div>"
      ],
      "text/plain": [
       "     Isim  Kalori\n",
       "0   Ahmet     100\n",
       "1  Mehmet     200\n",
       "2  Zeynep     150\n",
       "3    Atıl     250"
      ]
     },
     "execution_count": 23,
     "metadata": {},
     "output_type": "execute_result"
    }
   ],
   "source": [
    "mergeDataFrame2"
   ]
  },
  {
   "cell_type": "code",
   "execution_count": 24,
   "id": "187dbea0",
   "metadata": {},
   "outputs": [
    {
     "data": {
      "text/html": [
       "<div>\n",
       "<style scoped>\n",
       "    .dataframe tbody tr th:only-of-type {\n",
       "        vertical-align: middle;\n",
       "    }\n",
       "\n",
       "    .dataframe tbody tr th {\n",
       "        vertical-align: top;\n",
       "    }\n",
       "\n",
       "    .dataframe thead th {\n",
       "        text-align: right;\n",
       "    }\n",
       "</style>\n",
       "<table border=\"1\" class=\"dataframe\">\n",
       "  <thead>\n",
       "    <tr style=\"text-align: right;\">\n",
       "      <th></th>\n",
       "      <th>Isim</th>\n",
       "      <th>Spor</th>\n",
       "      <th>Kalori</th>\n",
       "    </tr>\n",
       "  </thead>\n",
       "  <tbody>\n",
       "    <tr>\n",
       "      <th>0</th>\n",
       "      <td>Ahmet</td>\n",
       "      <td>Koşu</td>\n",
       "      <td>100</td>\n",
       "    </tr>\n",
       "    <tr>\n",
       "      <th>1</th>\n",
       "      <td>Mehmet</td>\n",
       "      <td>Yüzme</td>\n",
       "      <td>200</td>\n",
       "    </tr>\n",
       "    <tr>\n",
       "      <th>2</th>\n",
       "      <td>Zeynep</td>\n",
       "      <td>Koşu</td>\n",
       "      <td>150</td>\n",
       "    </tr>\n",
       "    <tr>\n",
       "      <th>3</th>\n",
       "      <td>Atıl</td>\n",
       "      <td>Basketbol</td>\n",
       "      <td>250</td>\n",
       "    </tr>\n",
       "  </tbody>\n",
       "</table>\n",
       "</div>"
      ],
      "text/plain": [
       "     Isim       Spor  Kalori\n",
       "0   Ahmet       Koşu     100\n",
       "1  Mehmet      Yüzme     200\n",
       "2  Zeynep       Koşu     150\n",
       "3    Atıl  Basketbol     250"
      ]
     },
     "execution_count": 24,
     "metadata": {},
     "output_type": "execute_result"
    }
   ],
   "source": [
    "pd.merge(mergeDataFrame1,mergeDataFrame2, on = \"Isim\") #  on = \"Isim\" komutu 2 data frame arasındaki ortak ilişkisi olanı yazıyoruz."
   ]
  },
  {
   "cell_type": "code",
   "execution_count": 25,
   "id": "8f78a172",
   "metadata": {},
   "outputs": [],
   "source": [
    "toplananMerge = pd.merge(mergeDataFrame1,mergeDataFrame2, on = \"Isim\") # bu kısım derste gösterilmedi ben yaptım"
   ]
  },
  {
   "cell_type": "code",
   "execution_count": 26,
   "id": "e433bf9d",
   "metadata": {},
   "outputs": [],
   "source": [
    "mergeGrouplama = toplananMerge.groupby(\"Spor\")"
   ]
  },
  {
   "cell_type": "code",
   "execution_count": 27,
   "id": "489920e0",
   "metadata": {},
   "outputs": [
    {
     "data": {
      "text/html": [
       "<div>\n",
       "<style scoped>\n",
       "    .dataframe tbody tr th:only-of-type {\n",
       "        vertical-align: middle;\n",
       "    }\n",
       "\n",
       "    .dataframe tbody tr th {\n",
       "        vertical-align: top;\n",
       "    }\n",
       "\n",
       "    .dataframe thead th {\n",
       "        text-align: right;\n",
       "    }\n",
       "</style>\n",
       "<table border=\"1\" class=\"dataframe\">\n",
       "  <thead>\n",
       "    <tr style=\"text-align: right;\">\n",
       "      <th></th>\n",
       "      <th>Isim</th>\n",
       "      <th>Kalori</th>\n",
       "    </tr>\n",
       "    <tr>\n",
       "      <th>Spor</th>\n",
       "      <th></th>\n",
       "      <th></th>\n",
       "    </tr>\n",
       "  </thead>\n",
       "  <tbody>\n",
       "    <tr>\n",
       "      <th>Basketbol</th>\n",
       "      <td>1</td>\n",
       "      <td>1</td>\n",
       "    </tr>\n",
       "    <tr>\n",
       "      <th>Koşu</th>\n",
       "      <td>2</td>\n",
       "      <td>2</td>\n",
       "    </tr>\n",
       "    <tr>\n",
       "      <th>Yüzme</th>\n",
       "      <td>1</td>\n",
       "      <td>1</td>\n",
       "    </tr>\n",
       "  </tbody>\n",
       "</table>\n",
       "</div>"
      ],
      "text/plain": [
       "           Isim  Kalori\n",
       "Spor                   \n",
       "Basketbol     1       1\n",
       "Koşu          2       2\n",
       "Yüzme         1       1"
      ]
     },
     "execution_count": 27,
     "metadata": {},
     "output_type": "execute_result"
    }
   ],
   "source": [
    "mergeGrouplama.count()"
   ]
  },
  {
   "cell_type": "code",
   "execution_count": 28,
   "id": "19870cba",
   "metadata": {},
   "outputs": [
    {
     "data": {
      "text/html": [
       "<div>\n",
       "<style scoped>\n",
       "    .dataframe tbody tr th:only-of-type {\n",
       "        vertical-align: middle;\n",
       "    }\n",
       "\n",
       "    .dataframe tbody tr th {\n",
       "        vertical-align: top;\n",
       "    }\n",
       "\n",
       "    .dataframe thead th {\n",
       "        text-align: right;\n",
       "    }\n",
       "</style>\n",
       "<table border=\"1\" class=\"dataframe\">\n",
       "  <thead>\n",
       "    <tr style=\"text-align: right;\">\n",
       "      <th></th>\n",
       "      <th>Kalori</th>\n",
       "    </tr>\n",
       "    <tr>\n",
       "      <th>Spor</th>\n",
       "      <th></th>\n",
       "    </tr>\n",
       "  </thead>\n",
       "  <tbody>\n",
       "    <tr>\n",
       "      <th>Basketbol</th>\n",
       "      <td>250.0</td>\n",
       "    </tr>\n",
       "    <tr>\n",
       "      <th>Koşu</th>\n",
       "      <td>125.0</td>\n",
       "    </tr>\n",
       "    <tr>\n",
       "      <th>Yüzme</th>\n",
       "      <td>200.0</td>\n",
       "    </tr>\n",
       "  </tbody>\n",
       "</table>\n",
       "</div>"
      ],
      "text/plain": [
       "           Kalori\n",
       "Spor             \n",
       "Basketbol   250.0\n",
       "Koşu        125.0\n",
       "Yüzme       200.0"
      ]
     },
     "execution_count": 28,
     "metadata": {},
     "output_type": "execute_result"
    }
   ],
   "source": [
    "mergeGrouplama.mean(\"Kalori\")"
   ]
  },
  {
   "cell_type": "code",
   "execution_count": 29,
   "id": "3881b269",
   "metadata": {},
   "outputs": [],
   "source": [
    "maasSozluk = {\"Isim\" : [\"Ahmet\",\"Zeynep\",\"Mehmet\",\"Atıl\"],\n",
    "             \"Departman\" : [\"Yazılım\",\"Satis\",\"Pazarlama\",\"Yazılım\"] ,\n",
    "             \"Maas\" : [200,300,400,500]\n",
    "             }"
   ]
  },
  {
   "cell_type": "code",
   "execution_count": 30,
   "id": "c746ed3e",
   "metadata": {},
   "outputs": [],
   "source": [
    "maasDataFrame = pd.DataFrame(maasSozluk)"
   ]
  },
  {
   "cell_type": "code",
   "execution_count": 31,
   "id": "e8dda261",
   "metadata": {},
   "outputs": [
    {
     "data": {
      "text/html": [
       "<div>\n",
       "<style scoped>\n",
       "    .dataframe tbody tr th:only-of-type {\n",
       "        vertical-align: middle;\n",
       "    }\n",
       "\n",
       "    .dataframe tbody tr th {\n",
       "        vertical-align: top;\n",
       "    }\n",
       "\n",
       "    .dataframe thead th {\n",
       "        text-align: right;\n",
       "    }\n",
       "</style>\n",
       "<table border=\"1\" class=\"dataframe\">\n",
       "  <thead>\n",
       "    <tr style=\"text-align: right;\">\n",
       "      <th></th>\n",
       "      <th>Isim</th>\n",
       "      <th>Departman</th>\n",
       "      <th>Maas</th>\n",
       "    </tr>\n",
       "  </thead>\n",
       "  <tbody>\n",
       "    <tr>\n",
       "      <th>0</th>\n",
       "      <td>Ahmet</td>\n",
       "      <td>Yazılım</td>\n",
       "      <td>200</td>\n",
       "    </tr>\n",
       "    <tr>\n",
       "      <th>1</th>\n",
       "      <td>Zeynep</td>\n",
       "      <td>Satis</td>\n",
       "      <td>300</td>\n",
       "    </tr>\n",
       "    <tr>\n",
       "      <th>2</th>\n",
       "      <td>Mehmet</td>\n",
       "      <td>Pazarlama</td>\n",
       "      <td>400</td>\n",
       "    </tr>\n",
       "    <tr>\n",
       "      <th>3</th>\n",
       "      <td>Atıl</td>\n",
       "      <td>Yazılım</td>\n",
       "      <td>500</td>\n",
       "    </tr>\n",
       "  </tbody>\n",
       "</table>\n",
       "</div>"
      ],
      "text/plain": [
       "     Isim  Departman  Maas\n",
       "0   Ahmet    Yazılım   200\n",
       "1  Zeynep      Satis   300\n",
       "2  Mehmet  Pazarlama   400\n",
       "3    Atıl    Yazılım   500"
      ]
     },
     "execution_count": 31,
     "metadata": {},
     "output_type": "execute_result"
    }
   ],
   "source": [
    "maasDataFrame"
   ]
  },
  {
   "cell_type": "code",
   "execution_count": 32,
   "id": "0f234f24",
   "metadata": {},
   "outputs": [
    {
     "data": {
      "text/plain": [
       "array(['Yazılım', 'Satis', 'Pazarlama'], dtype=object)"
      ]
     },
     "execution_count": 32,
     "metadata": {},
     "output_type": "execute_result"
    }
   ],
   "source": [
    "maasDataFrame[\"Departman\"].unique() # 2 adet yazılım departmanı olmasına rağmen sadece 1 ini getirdi"
   ]
  },
  {
   "cell_type": "code",
   "execution_count": 33,
   "id": "b6fbe567",
   "metadata": {},
   "outputs": [
    {
     "data": {
      "text/plain": [
       "3"
      ]
     },
     "execution_count": 33,
     "metadata": {},
     "output_type": "execute_result"
    }
   ],
   "source": [
    "maasDataFrame[\"Departman\"].nunique() # kaç tane özel depatman var"
   ]
  },
  {
   "cell_type": "code",
   "execution_count": 34,
   "id": "5efc8a03",
   "metadata": {},
   "outputs": [
    {
     "data": {
      "text/plain": [
       "Departman\n",
       "Yazılım      2\n",
       "Satis        1\n",
       "Pazarlama    1\n",
       "Name: count, dtype: int64"
      ]
     },
     "execution_count": 34,
     "metadata": {},
     "output_type": "execute_result"
    }
   ],
   "source": [
    "maasDataFrame[\"Departman\"].value_counts() # hangi departmanda kaç kişi var"
   ]
  },
  {
   "cell_type": "code",
   "execution_count": 35,
   "id": "aefb54c8",
   "metadata": {},
   "outputs": [],
   "source": [
    "def bruttenNete(maas):\n",
    "    return maas * 0.66"
   ]
  },
  {
   "cell_type": "code",
   "execution_count": 36,
   "id": "3f1e83a5",
   "metadata": {},
   "outputs": [
    {
     "data": {
      "text/plain": [
       "0    132.0\n",
       "1    198.0\n",
       "2    264.0\n",
       "3    330.0\n",
       "Name: Maas, dtype: float64"
      ]
     },
     "execution_count": 36,
     "metadata": {},
     "output_type": "execute_result"
    }
   ],
   "source": [
    "maasDataFrame[\"Maas\"].apply(bruttenNete) # fonksiyonu data frame e uyguladık"
   ]
  },
  {
   "cell_type": "code",
   "execution_count": 37,
   "id": "24c8ba52",
   "metadata": {},
   "outputs": [
    {
     "data": {
      "text/html": [
       "<div>\n",
       "<style scoped>\n",
       "    .dataframe tbody tr th:only-of-type {\n",
       "        vertical-align: middle;\n",
       "    }\n",
       "\n",
       "    .dataframe tbody tr th {\n",
       "        vertical-align: top;\n",
       "    }\n",
       "\n",
       "    .dataframe thead th {\n",
       "        text-align: right;\n",
       "    }\n",
       "</style>\n",
       "<table border=\"1\" class=\"dataframe\">\n",
       "  <thead>\n",
       "    <tr style=\"text-align: right;\">\n",
       "      <th></th>\n",
       "      <th>Isim</th>\n",
       "      <th>Departman</th>\n",
       "      <th>Maas</th>\n",
       "    </tr>\n",
       "  </thead>\n",
       "  <tbody>\n",
       "    <tr>\n",
       "      <th>0</th>\n",
       "      <td>False</td>\n",
       "      <td>False</td>\n",
       "      <td>False</td>\n",
       "    </tr>\n",
       "    <tr>\n",
       "      <th>1</th>\n",
       "      <td>False</td>\n",
       "      <td>False</td>\n",
       "      <td>False</td>\n",
       "    </tr>\n",
       "    <tr>\n",
       "      <th>2</th>\n",
       "      <td>False</td>\n",
       "      <td>False</td>\n",
       "      <td>False</td>\n",
       "    </tr>\n",
       "    <tr>\n",
       "      <th>3</th>\n",
       "      <td>False</td>\n",
       "      <td>False</td>\n",
       "      <td>False</td>\n",
       "    </tr>\n",
       "  </tbody>\n",
       "</table>\n",
       "</div>"
      ],
      "text/plain": [
       "    Isim  Departman   Maas\n",
       "0  False      False  False\n",
       "1  False      False  False\n",
       "2  False      False  False\n",
       "3  False      False  False"
      ]
     },
     "execution_count": 37,
     "metadata": {},
     "output_type": "execute_result"
    }
   ],
   "source": [
    "maasDataFrame.isnull()"
   ]
  },
  {
   "cell_type": "code",
   "execution_count": 38,
   "id": "47efd8f3",
   "metadata": {},
   "outputs": [],
   "source": [
    "yeniBirVeri = {\"Karakter Sınıfı\" : [\"South Park\",\"South Park\",\"Simpson\",\"Simpson\",\"Simpson\"],\n",
    "              \"Karakter Ismi\" : [\"Cartman\", \"Kenny\", \"Homer\", \"Bart\",\"Bart\"],\n",
    "              \"Karakter Yas\" : [9,10,50,20,10]\n",
    "              }"
   ]
  },
  {
   "cell_type": "code",
   "execution_count": 39,
   "id": "c8f6df35",
   "metadata": {},
   "outputs": [],
   "source": [
    "karakterDF = pd.DataFrame(yeniBirVeri)"
   ]
  },
  {
   "cell_type": "code",
   "execution_count": 40,
   "id": "63ebf965",
   "metadata": {},
   "outputs": [
    {
     "data": {
      "text/html": [
       "<div>\n",
       "<style scoped>\n",
       "    .dataframe tbody tr th:only-of-type {\n",
       "        vertical-align: middle;\n",
       "    }\n",
       "\n",
       "    .dataframe tbody tr th {\n",
       "        vertical-align: top;\n",
       "    }\n",
       "\n",
       "    .dataframe thead th {\n",
       "        text-align: right;\n",
       "    }\n",
       "</style>\n",
       "<table border=\"1\" class=\"dataframe\">\n",
       "  <thead>\n",
       "    <tr style=\"text-align: right;\">\n",
       "      <th></th>\n",
       "      <th>Karakter Sınıfı</th>\n",
       "      <th>Karakter Ismi</th>\n",
       "      <th>Karakter Yas</th>\n",
       "    </tr>\n",
       "  </thead>\n",
       "  <tbody>\n",
       "    <tr>\n",
       "      <th>0</th>\n",
       "      <td>South Park</td>\n",
       "      <td>Cartman</td>\n",
       "      <td>9</td>\n",
       "    </tr>\n",
       "    <tr>\n",
       "      <th>1</th>\n",
       "      <td>South Park</td>\n",
       "      <td>Kenny</td>\n",
       "      <td>10</td>\n",
       "    </tr>\n",
       "    <tr>\n",
       "      <th>2</th>\n",
       "      <td>Simpson</td>\n",
       "      <td>Homer</td>\n",
       "      <td>50</td>\n",
       "    </tr>\n",
       "    <tr>\n",
       "      <th>3</th>\n",
       "      <td>Simpson</td>\n",
       "      <td>Bart</td>\n",
       "      <td>20</td>\n",
       "    </tr>\n",
       "    <tr>\n",
       "      <th>4</th>\n",
       "      <td>Simpson</td>\n",
       "      <td>Bart</td>\n",
       "      <td>10</td>\n",
       "    </tr>\n",
       "  </tbody>\n",
       "</table>\n",
       "</div>"
      ],
      "text/plain": [
       "  Karakter Sınıfı Karakter Ismi  Karakter Yas\n",
       "0      South Park       Cartman             9\n",
       "1      South Park         Kenny            10\n",
       "2         Simpson         Homer            50\n",
       "3         Simpson          Bart            20\n",
       "4         Simpson          Bart            10"
      ]
     },
     "execution_count": 40,
     "metadata": {},
     "output_type": "execute_result"
    }
   ],
   "source": [
    "karakterDF"
   ]
  },
  {
   "cell_type": "code",
   "execution_count": 41,
   "id": "bec07903",
   "metadata": {},
   "outputs": [
    {
     "data": {
      "text/html": [
       "<div>\n",
       "<style scoped>\n",
       "    .dataframe tbody tr th:only-of-type {\n",
       "        vertical-align: middle;\n",
       "    }\n",
       "\n",
       "    .dataframe tbody tr th {\n",
       "        vertical-align: top;\n",
       "    }\n",
       "\n",
       "    .dataframe thead th {\n",
       "        text-align: right;\n",
       "    }\n",
       "</style>\n",
       "<table border=\"1\" class=\"dataframe\">\n",
       "  <thead>\n",
       "    <tr style=\"text-align: right;\">\n",
       "      <th></th>\n",
       "      <th></th>\n",
       "      <th>Karakter Yas</th>\n",
       "    </tr>\n",
       "    <tr>\n",
       "      <th>Karakter Sınıfı</th>\n",
       "      <th>Karakter Ismi</th>\n",
       "      <th></th>\n",
       "    </tr>\n",
       "  </thead>\n",
       "  <tbody>\n",
       "    <tr>\n",
       "      <th rowspan=\"2\" valign=\"top\">Simpson</th>\n",
       "      <th>Bart</th>\n",
       "      <td>15.0</td>\n",
       "    </tr>\n",
       "    <tr>\n",
       "      <th>Homer</th>\n",
       "      <td>50.0</td>\n",
       "    </tr>\n",
       "    <tr>\n",
       "      <th rowspan=\"2\" valign=\"top\">South Park</th>\n",
       "      <th>Cartman</th>\n",
       "      <td>9.0</td>\n",
       "    </tr>\n",
       "    <tr>\n",
       "      <th>Kenny</th>\n",
       "      <td>10.0</td>\n",
       "    </tr>\n",
       "  </tbody>\n",
       "</table>\n",
       "</div>"
      ],
      "text/plain": [
       "                               Karakter Yas\n",
       "Karakter Sınıfı Karakter Ismi              \n",
       "Simpson         Bart                   15.0\n",
       "                Homer                  50.0\n",
       "South Park      Cartman                 9.0\n",
       "                Kenny                  10.0"
      ]
     },
     "execution_count": 41,
     "metadata": {},
     "output_type": "execute_result"
    }
   ],
   "source": [
    "karakterDF.pivot_table(values = \"Karakter Yas\", index = [\"Karakter Sınıfı\" , \"Karakter Ismi\"] )"
   ]
  },
  {
   "cell_type": "code",
   "execution_count": 42,
   "id": "62cac2ae",
   "metadata": {},
   "outputs": [
    {
     "name": "stderr",
     "output_type": "stream",
     "text": [
      "C:\\Users\\yalci\\AppData\\Local\\Temp\\ipykernel_10312\\1017964114.py:1: FutureWarning: The provided callable <function sum at 0x000001A822E663A0> is currently using DataFrameGroupBy.sum. In a future version of pandas, the provided callable will be used directly. To keep current behavior pass the string \"sum\" instead.\n",
      "  karakterDF.pivot_table(values = \"Karakter Yas\", index = [\"Karakter Sınıfı\" , \"Karakter Ismi\"] , aggfunc = np.sum)\n"
     ]
    },
    {
     "data": {
      "text/html": [
       "<div>\n",
       "<style scoped>\n",
       "    .dataframe tbody tr th:only-of-type {\n",
       "        vertical-align: middle;\n",
       "    }\n",
       "\n",
       "    .dataframe tbody tr th {\n",
       "        vertical-align: top;\n",
       "    }\n",
       "\n",
       "    .dataframe thead th {\n",
       "        text-align: right;\n",
       "    }\n",
       "</style>\n",
       "<table border=\"1\" class=\"dataframe\">\n",
       "  <thead>\n",
       "    <tr style=\"text-align: right;\">\n",
       "      <th></th>\n",
       "      <th></th>\n",
       "      <th>Karakter Yas</th>\n",
       "    </tr>\n",
       "    <tr>\n",
       "      <th>Karakter Sınıfı</th>\n",
       "      <th>Karakter Ismi</th>\n",
       "      <th></th>\n",
       "    </tr>\n",
       "  </thead>\n",
       "  <tbody>\n",
       "    <tr>\n",
       "      <th rowspan=\"2\" valign=\"top\">Simpson</th>\n",
       "      <th>Bart</th>\n",
       "      <td>30</td>\n",
       "    </tr>\n",
       "    <tr>\n",
       "      <th>Homer</th>\n",
       "      <td>50</td>\n",
       "    </tr>\n",
       "    <tr>\n",
       "      <th rowspan=\"2\" valign=\"top\">South Park</th>\n",
       "      <th>Cartman</th>\n",
       "      <td>9</td>\n",
       "    </tr>\n",
       "    <tr>\n",
       "      <th>Kenny</th>\n",
       "      <td>10</td>\n",
       "    </tr>\n",
       "  </tbody>\n",
       "</table>\n",
       "</div>"
      ],
      "text/plain": [
       "                               Karakter Yas\n",
       "Karakter Sınıfı Karakter Ismi              \n",
       "Simpson         Bart                     30\n",
       "                Homer                    50\n",
       "South Park      Cartman                   9\n",
       "                Kenny                    10"
      ]
     },
     "execution_count": 42,
     "metadata": {},
     "output_type": "execute_result"
    }
   ],
   "source": [
    "karakterDF.pivot_table(values = \"Karakter Yas\", index = [\"Karakter Sınıfı\" , \"Karakter Ismi\"] , aggfunc = np.sum)"
   ]
  },
  {
   "cell_type": "code",
   "execution_count": null,
   "id": "048c9c04",
   "metadata": {},
   "outputs": [],
   "source": []
  }
 ],
 "metadata": {
  "kernelspec": {
   "display_name": "Python 3 (ipykernel)",
   "language": "python",
   "name": "python3"
  },
  "language_info": {
   "codemirror_mode": {
    "name": "ipython",
    "version": 3
   },
   "file_extension": ".py",
   "mimetype": "text/x-python",
   "name": "python",
   "nbconvert_exporter": "python",
   "pygments_lexer": "ipython3",
   "version": "3.9.18"
  }
 },
 "nbformat": 4,
 "nbformat_minor": 5
}
