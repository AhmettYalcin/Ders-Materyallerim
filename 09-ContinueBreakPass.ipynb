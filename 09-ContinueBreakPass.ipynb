{
 "cells": [
  {
   "cell_type": "code",
   "execution_count": 1,
   "id": "b818bcf8",
   "metadata": {},
   "outputs": [],
   "source": [
    "# derste aldığım notlar 9\n",
    "benimListem = [5,10,15,20,25,30]"
   ]
  },
  {
   "cell_type": "code",
   "execution_count": 2,
   "id": "36328a96",
   "metadata": {},
   "outputs": [
    {
     "name": "stdout",
     "output_type": "stream",
     "text": [
      "1.0\n",
      "2.0\n",
      "3.0\n",
      "4.0\n",
      "5.0\n",
      "6.0\n"
     ]
    }
   ],
   "source": [
    "for numara in benimListem:\n",
    "    print(numara / 5)"
   ]
  },
  {
   "cell_type": "code",
   "execution_count": 3,
   "id": "b43f5bb9",
   "metadata": {},
   "outputs": [
    {
     "name": "stdout",
     "output_type": "stream",
     "text": [
      "5\n",
      "10\n"
     ]
    }
   ],
   "source": [
    "for  numara in benimListem:\n",
    "    if numara == 15:\n",
    "        break\n",
    "    print(numara)"
   ]
  },
  {
   "cell_type": "markdown",
   "id": "36d02edd",
   "metadata": {},
   "source": [
    "yukarıdaki break komutu numara 15 e geldiğinde döngüyü kırar ve durdurur. burada diğer önemli notta break komutunun altında yazdığımmız    print(numara) komutu if' e bağlı değildir, sadece for döngüsünün içine yazıyoruz."
   ]
  },
  {
   "cell_type": "code",
   "execution_count": 4,
   "id": "80840ea9",
   "metadata": {},
   "outputs": [
    {
     "name": "stdout",
     "output_type": "stream",
     "text": [
      "5\n",
      "10\n",
      "20\n",
      "25\n",
      "30\n"
     ]
    }
   ],
   "source": [
    "for numara in benimListem:\n",
    "    if numara == 15:\n",
    "        continue\n",
    "    print(numara)"
   ]
  },
  {
   "cell_type": "markdown",
   "id": "1b6603ec",
   "metadata": {},
   "source": [
    "yukarıdaki continue komutu numara 15 e geldiğinde onu geçip döngüye devam ediyor. burada da diğer önemli nokta    print(numara) komutunu if komutuna bağlı if'in içine yazmıyoruz, sadece for döngüsünün içine yazıyoruz"
   ]
  },
  {
   "cell_type": "code",
   "execution_count": 5,
   "id": "4ebbea90",
   "metadata": {},
   "outputs": [],
   "source": [
    "for numara in benimListem:\n",
    "    pass"
   ]
  },
  {
   "cell_type": "markdown",
   "id": "d2f06094",
   "metadata": {},
   "source": [
    "pass i orada bir işlem yapmıycaksak ya da sonradan birşey yazmayı planlıyorsak o zaman yazıyoruz."
   ]
  },
  {
   "cell_type": "code",
   "execution_count": null,
   "id": "cdbb5b99",
   "metadata": {},
   "outputs": [],
   "source": []
  }
 ],
 "metadata": {
  "kernelspec": {
   "display_name": "Python 3 (ipykernel)",
   "language": "python",
   "name": "python3"
  },
  "language_info": {
   "codemirror_mode": {
    "name": "ipython",
    "version": 3
   },
   "file_extension": ".py",
   "mimetype": "text/x-python",
   "name": "python",
   "nbconvert_exporter": "python",
   "pygments_lexer": "ipython3",
   "version": "3.9.18"
  }
 },
 "nbformat": 4,
 "nbformat_minor": 5
}
