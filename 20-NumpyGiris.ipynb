{
 "cells": [
  {
   "cell_type": "code",
   "execution_count": 1,
   "id": "e2280c0d",
   "metadata": {},
   "outputs": [],
   "source": [
    "# derste aldığım notlar 20\n",
    "\n",
    "import numpy as np"
   ]
  },
  {
   "cell_type": "markdown",
   "id": "af00f73c",
   "metadata": {},
   "source": [
    "# numpy array(dizi)"
   ]
  },
  {
   "cell_type": "code",
   "execution_count": 2,
   "id": "7f080aae",
   "metadata": {},
   "outputs": [],
   "source": [
    "benimListem = [20,30,40]"
   ]
  },
  {
   "cell_type": "code",
   "execution_count": 3,
   "id": "5dd763c1",
   "metadata": {},
   "outputs": [
    {
     "data": {
      "text/plain": [
       "list"
      ]
     },
     "execution_count": 3,
     "metadata": {},
     "output_type": "execute_result"
    }
   ],
   "source": [
    "type(benimListem)"
   ]
  },
  {
   "cell_type": "code",
   "execution_count": 4,
   "id": "d6115661",
   "metadata": {},
   "outputs": [
    {
     "data": {
      "text/plain": [
       "array([20, 30, 40])"
      ]
     },
     "execution_count": 4,
     "metadata": {},
     "output_type": "execute_result"
    }
   ],
   "source": [
    "np.array(benimListem) # np.array kullanarak listeyi diziye çevirdik"
   ]
  },
  {
   "cell_type": "code",
   "execution_count": 5,
   "id": "55804aa3",
   "metadata": {},
   "outputs": [
    {
     "data": {
      "text/plain": [
       "numpy.ndarray"
      ]
     },
     "execution_count": 5,
     "metadata": {},
     "output_type": "execute_result"
    }
   ],
   "source": [
    "type(np.array(benimListem))"
   ]
  },
  {
   "cell_type": "code",
   "execution_count": 6,
   "id": "566561dd",
   "metadata": {},
   "outputs": [],
   "source": [
    "matrixListesi = [[10,20,30],[20,30,40],[30,40,50]]"
   ]
  },
  {
   "cell_type": "code",
   "execution_count": 7,
   "id": "8616d3ba",
   "metadata": {},
   "outputs": [
    {
     "data": {
      "text/plain": [
       "list"
      ]
     },
     "execution_count": 7,
     "metadata": {},
     "output_type": "execute_result"
    }
   ],
   "source": [
    "type(matrixListesi)"
   ]
  },
  {
   "cell_type": "code",
   "execution_count": 8,
   "id": "0c1a1126",
   "metadata": {},
   "outputs": [
    {
     "data": {
      "text/plain": [
       "[10, 20, 30]"
      ]
     },
     "execution_count": 8,
     "metadata": {},
     "output_type": "execute_result"
    }
   ],
   "source": [
    "matrixListesi[0]"
   ]
  },
  {
   "cell_type": "code",
   "execution_count": 9,
   "id": "50522c91",
   "metadata": {},
   "outputs": [
    {
     "data": {
      "text/plain": [
       "array([[10, 20, 30],\n",
       "       [20, 30, 40],\n",
       "       [30, 40, 50]])"
      ]
     },
     "execution_count": 9,
     "metadata": {},
     "output_type": "execute_result"
    }
   ],
   "source": [
    "np.array(matrixListesi) "
   ]
  },
  {
   "cell_type": "markdown",
   "id": "53d3e6f3",
   "metadata": {},
   "source": [
    "# *arange"
   ]
  },
  {
   "cell_type": "markdown",
   "id": "ce09258b",
   "metadata": {},
   "source": [
    "eskiden list(range(0,10)) gibi bir komut yazıp 0 dan 10 a kadar olan sayıları yazdırmayı istiyorduk şimdi de numpy da bu nasıl yapılıyor onu göreceğiz :)"
   ]
  },
  {
   "cell_type": "code",
   "execution_count": 10,
   "id": "5d7787bc",
   "metadata": {},
   "outputs": [
    {
     "data": {
      "text/plain": [
       "array([0, 1, 2, 3, 4, 5, 6, 7, 8, 9])"
      ]
     },
     "execution_count": 10,
     "metadata": {},
     "output_type": "execute_result"
    }
   ],
   "source": [
    "np.arange(0,10)  #bu komut 0 dan 10 a kadar array dizisi oluşturur."
   ]
  },
  {
   "cell_type": "code",
   "execution_count": 11,
   "id": "22f5e1c6",
   "metadata": {},
   "outputs": [
    {
     "data": {
      "text/plain": [
       "array([ 0,  2,  4,  6,  8, 10, 12, 14, 16, 18])"
      ]
     },
     "execution_count": 11,
     "metadata": {},
     "output_type": "execute_result"
    }
   ],
   "source": [
    "np.arange(0,20,2) # 0 dan 20 ye kadar 2 şer arttırarak git"
   ]
  },
  {
   "cell_type": "code",
   "execution_count": 12,
   "id": "2ee4dc7e",
   "metadata": {},
   "outputs": [
    {
     "data": {
      "text/plain": [
       "array([ 0,  1,  2,  3,  4,  5,  6,  7,  8,  9, 10, 11, 12, 13, 14, 15, 16,\n",
       "       17, 18, 19, 20, 21, 22, 23, 24, 25, 26, 27, 28, 29])"
      ]
     },
     "execution_count": 12,
     "metadata": {},
     "output_type": "execute_result"
    }
   ],
   "source": [
    "np.arange(30) #0 dan 29 a kadar sayıları dizer"
   ]
  },
  {
   "cell_type": "markdown",
   "id": "0dd0d8d0",
   "metadata": {},
   "source": [
    "# zeros"
   ]
  },
  {
   "cell_type": "code",
   "execution_count": 13,
   "id": "b6af3478",
   "metadata": {},
   "outputs": [
    {
     "data": {
      "text/plain": [
       "array([0., 0., 0., 0., 0.])"
      ]
     },
     "execution_count": 13,
     "metadata": {},
     "output_type": "execute_result"
    }
   ],
   "source": [
    "np.zeros(5) # içerisinde 5 tane sıfır olan dizi oluşturur."
   ]
  },
  {
   "cell_type": "code",
   "execution_count": 14,
   "id": "c18de133",
   "metadata": {},
   "outputs": [
    {
     "data": {
      "text/plain": [
       "array([[0., 0.],\n",
       "       [0., 0.]])"
      ]
     },
     "execution_count": 14,
     "metadata": {},
     "output_type": "execute_result"
    }
   ],
   "source": [
    "np.zeros((2,2))  #dizi içerisinde dizi matrix oluşturdu"
   ]
  },
  {
   "cell_type": "code",
   "execution_count": 15,
   "id": "3b545cf8",
   "metadata": {},
   "outputs": [
    {
     "data": {
      "text/plain": [
       "array([1., 1., 1., 1., 1.])"
      ]
     },
     "execution_count": 15,
     "metadata": {},
     "output_type": "execute_result"
    }
   ],
   "source": [
    "np.ones(5) # dizi içerisinde 5 tane bir olan dii oluşturur"
   ]
  },
  {
   "cell_type": "code",
   "execution_count": 16,
   "id": "e5354b49",
   "metadata": {},
   "outputs": [
    {
     "data": {
      "text/plain": [
       "array([[1., 1., 1., 1., 1., 1., 1., 1., 1.],\n",
       "       [1., 1., 1., 1., 1., 1., 1., 1., 1.],\n",
       "       [1., 1., 1., 1., 1., 1., 1., 1., 1.],\n",
       "       [1., 1., 1., 1., 1., 1., 1., 1., 1.],\n",
       "       [1., 1., 1., 1., 1., 1., 1., 1., 1.],\n",
       "       [1., 1., 1., 1., 1., 1., 1., 1., 1.],\n",
       "       [1., 1., 1., 1., 1., 1., 1., 1., 1.],\n",
       "       [1., 1., 1., 1., 1., 1., 1., 1., 1.],\n",
       "       [1., 1., 1., 1., 1., 1., 1., 1., 1.]])"
      ]
     },
     "execution_count": 16,
     "metadata": {},
     "output_type": "execute_result"
    }
   ],
   "source": [
    "np.ones((9,9))"
   ]
  },
  {
   "cell_type": "markdown",
   "id": "0e37a289",
   "metadata": {},
   "source": [
    "# *linspace"
   ]
  },
  {
   "cell_type": "code",
   "execution_count": 17,
   "id": "31e67ced",
   "metadata": {},
   "outputs": [
    {
     "data": {
      "text/plain": [
       "array([ 0. ,  5.5, 11. , 16.5, 22. ])"
      ]
     },
     "execution_count": 17,
     "metadata": {},
     "output_type": "execute_result"
    }
   ],
   "source": [
    "np.linspace(0,22,5)"
   ]
  },
  {
   "cell_type": "markdown",
   "id": "6cf33794",
   "metadata": {},
   "source": [
    "yukarıdaki durum ilk bakışta arange'e benzese de farklı, np.linspace(0,22,5) komutunda demek istediğimiz 0 dan başla 22 ye kadar(22 de dahil) 5 parçaya böl, yani buradaki 5 kaçar kaçar gittiğine değil kaç parçaya bölüneceğini söyler, aralarındaki fark eşittir"
   ]
  },
  {
   "cell_type": "code",
   "execution_count": 18,
   "id": "9f2b0fd7",
   "metadata": {},
   "outputs": [
    {
     "data": {
      "text/plain": [
       "array([ 1. ,  8.6, 16.2, 23.8, 31.4, 39. ])"
      ]
     },
     "execution_count": 18,
     "metadata": {},
     "output_type": "execute_result"
    }
   ],
   "source": [
    "np.linspace(1,39,6)"
   ]
  },
  {
   "cell_type": "code",
   "execution_count": 19,
   "id": "97b7c6c0",
   "metadata": {},
   "outputs": [
    {
     "data": {
      "text/plain": [
       "array([ 0.        ,  0.52631579,  1.05263158,  1.57894737,  2.10526316,\n",
       "        2.63157895,  3.15789474,  3.68421053,  4.21052632,  4.73684211,\n",
       "        5.26315789,  5.78947368,  6.31578947,  6.84210526,  7.36842105,\n",
       "        7.89473684,  8.42105263,  8.94736842,  9.47368421, 10.        ])"
      ]
     },
     "execution_count": 19,
     "metadata": {},
     "output_type": "execute_result"
    }
   ],
   "source": [
    "np.linspace(0,10,20)"
   ]
  },
  {
   "cell_type": "code",
   "execution_count": 20,
   "id": "a7a440d8",
   "metadata": {},
   "outputs": [
    {
     "data": {
      "text/plain": [
       "array([ 0.        ,  0.1010101 ,  0.2020202 ,  0.3030303 ,  0.4040404 ,\n",
       "        0.50505051,  0.60606061,  0.70707071,  0.80808081,  0.90909091,\n",
       "        1.01010101,  1.11111111,  1.21212121,  1.31313131,  1.41414141,\n",
       "        1.51515152,  1.61616162,  1.71717172,  1.81818182,  1.91919192,\n",
       "        2.02020202,  2.12121212,  2.22222222,  2.32323232,  2.42424242,\n",
       "        2.52525253,  2.62626263,  2.72727273,  2.82828283,  2.92929293,\n",
       "        3.03030303,  3.13131313,  3.23232323,  3.33333333,  3.43434343,\n",
       "        3.53535354,  3.63636364,  3.73737374,  3.83838384,  3.93939394,\n",
       "        4.04040404,  4.14141414,  4.24242424,  4.34343434,  4.44444444,\n",
       "        4.54545455,  4.64646465,  4.74747475,  4.84848485,  4.94949495,\n",
       "        5.05050505,  5.15151515,  5.25252525,  5.35353535,  5.45454545,\n",
       "        5.55555556,  5.65656566,  5.75757576,  5.85858586,  5.95959596,\n",
       "        6.06060606,  6.16161616,  6.26262626,  6.36363636,  6.46464646,\n",
       "        6.56565657,  6.66666667,  6.76767677,  6.86868687,  6.96969697,\n",
       "        7.07070707,  7.17171717,  7.27272727,  7.37373737,  7.47474747,\n",
       "        7.57575758,  7.67676768,  7.77777778,  7.87878788,  7.97979798,\n",
       "        8.08080808,  8.18181818,  8.28282828,  8.38383838,  8.48484848,\n",
       "        8.58585859,  8.68686869,  8.78787879,  8.88888889,  8.98989899,\n",
       "        9.09090909,  9.19191919,  9.29292929,  9.39393939,  9.49494949,\n",
       "        9.5959596 ,  9.6969697 ,  9.7979798 ,  9.8989899 , 10.        ])"
      ]
     },
     "execution_count": 20,
     "metadata": {},
     "output_type": "execute_result"
    }
   ],
   "source": [
    "np.linspace(0,10,100)"
   ]
  },
  {
   "cell_type": "markdown",
   "id": "bd5e19f6",
   "metadata": {},
   "source": [
    "# eye"
   ]
  },
  {
   "cell_type": "code",
   "execution_count": 21,
   "id": "ae247285",
   "metadata": {},
   "outputs": [
    {
     "data": {
      "text/plain": [
       "array([[1., 0., 0.],\n",
       "       [0., 1., 0.],\n",
       "       [0., 0., 1.]])"
      ]
     },
     "execution_count": 21,
     "metadata": {},
     "output_type": "execute_result"
    }
   ],
   "source": [
    "np.eye(3) # biraz daha matrix le ilgili çokta kullanılmıyo"
   ]
  },
  {
   "cell_type": "code",
   "execution_count": 22,
   "id": "c84f27d7",
   "metadata": {},
   "outputs": [
    {
     "data": {
      "text/plain": [
       "array([[1., 0., 0., 0., 0., 0., 0., 0., 0., 0.],\n",
       "       [0., 1., 0., 0., 0., 0., 0., 0., 0., 0.],\n",
       "       [0., 0., 1., 0., 0., 0., 0., 0., 0., 0.],\n",
       "       [0., 0., 0., 1., 0., 0., 0., 0., 0., 0.],\n",
       "       [0., 0., 0., 0., 1., 0., 0., 0., 0., 0.],\n",
       "       [0., 0., 0., 0., 0., 1., 0., 0., 0., 0.],\n",
       "       [0., 0., 0., 0., 0., 0., 1., 0., 0., 0.],\n",
       "       [0., 0., 0., 0., 0., 0., 0., 1., 0., 0.],\n",
       "       [0., 0., 0., 0., 0., 0., 0., 0., 1., 0.],\n",
       "       [0., 0., 0., 0., 0., 0., 0., 0., 0., 1.]])"
      ]
     },
     "execution_count": 22,
     "metadata": {},
     "output_type": "execute_result"
    }
   ],
   "source": [
    "np.eye(10)"
   ]
  },
  {
   "cell_type": "markdown",
   "id": "ae541a4a",
   "metadata": {},
   "source": [
    "# random "
   ]
  },
  {
   "cell_type": "code",
   "execution_count": 23,
   "id": "56ba4532",
   "metadata": {},
   "outputs": [
    {
     "data": {
      "text/plain": [
       "array([-0.21141207, -0.29325573, -0.17513427, -1.22857535])"
      ]
     },
     "execution_count": 23,
     "metadata": {},
     "output_type": "execute_result"
    }
   ],
   "source": [
    "np.random.randn(4)"
   ]
  },
  {
   "cell_type": "code",
   "execution_count": 24,
   "id": "0bcc23ef",
   "metadata": {},
   "outputs": [
    {
     "data": {
      "text/plain": [
       "array([[-0.75605461, -0.77973868, -0.5816354 ,  0.55874945, -0.42805286],\n",
       "       [-0.61131367,  0.00390247,  0.99135453, -0.69619562,  0.02305239],\n",
       "       [-0.26977821,  0.01939729, -0.4597408 ,  1.21855069,  1.27700211],\n",
       "       [-0.7784365 , -0.00842331, -1.19947155,  0.14910388,  0.71219687]])"
      ]
     },
     "execution_count": 24,
     "metadata": {},
     "output_type": "execute_result"
    }
   ],
   "source": [
    "np.random.randn(4,5)"
   ]
  },
  {
   "cell_type": "code",
   "execution_count": 25,
   "id": "03340663",
   "metadata": {},
   "outputs": [
    {
     "data": {
      "text/plain": [
       "2"
      ]
     },
     "execution_count": 25,
     "metadata": {},
     "output_type": "execute_result"
    }
   ],
   "source": [
    "np.random.randint(1,10)  # int değer döndürür 10 dahil olmaz"
   ]
  },
  {
   "cell_type": "code",
   "execution_count": 26,
   "id": "f0a32053",
   "metadata": {},
   "outputs": [
    {
     "data": {
      "text/plain": [
       "array([8, 9, 7, 2, 4])"
      ]
     },
     "execution_count": 26,
     "metadata": {},
     "output_type": "execute_result"
    }
   ],
   "source": [
    "np.random.randint(1,10,5)"
   ]
  },
  {
   "cell_type": "code",
   "execution_count": 27,
   "id": "6c33c93b",
   "metadata": {},
   "outputs": [
    {
     "data": {
      "text/plain": [
       "array([ 89, 171,  79,  62, 198])"
      ]
     },
     "execution_count": 27,
     "metadata": {},
     "output_type": "execute_result"
    }
   ],
   "source": [
    "np.random.randint(1,300,5)"
   ]
  },
  {
   "cell_type": "code",
   "execution_count": 28,
   "id": "f6c9cc96",
   "metadata": {},
   "outputs": [],
   "source": [
    "benimNumpyDizim = np.arange(30)"
   ]
  },
  {
   "cell_type": "code",
   "execution_count": 29,
   "id": "4533172c",
   "metadata": {},
   "outputs": [
    {
     "data": {
      "text/plain": [
       "array([ 0,  1,  2,  3,  4,  5,  6,  7,  8,  9, 10, 11, 12, 13, 14, 15, 16,\n",
       "       17, 18, 19, 20, 21, 22, 23, 24, 25, 26, 27, 28, 29])"
      ]
     },
     "execution_count": 29,
     "metadata": {},
     "output_type": "execute_result"
    }
   ],
   "source": [
    "benimNumpyDizim"
   ]
  },
  {
   "cell_type": "code",
   "execution_count": 30,
   "id": "ce49d647",
   "metadata": {},
   "outputs": [],
   "source": [
    "benimRandomDizim = np.random.randint(0,100,20)"
   ]
  },
  {
   "cell_type": "code",
   "execution_count": 31,
   "id": "3f3d2d39",
   "metadata": {},
   "outputs": [
    {
     "data": {
      "text/plain": [
       "array([49, 18, 88, 26,  8, 47,  6, 22,  7, 55, 27, 14, 62, 70, 84, 36, 63,\n",
       "        2,  9, 16])"
      ]
     },
     "execution_count": 31,
     "metadata": {},
     "output_type": "execute_result"
    }
   ],
   "source": [
    "benimRandomDizim"
   ]
  },
  {
   "cell_type": "markdown",
   "id": "09785a22",
   "metadata": {},
   "source": [
    "# numpy dizi methodları"
   ]
  },
  {
   "cell_type": "code",
   "execution_count": 32,
   "id": "9fc7ed29",
   "metadata": {},
   "outputs": [
    {
     "data": {
      "text/plain": [
       "array([[ 0,  1,  2,  3,  4,  5],\n",
       "       [ 6,  7,  8,  9, 10, 11],\n",
       "       [12, 13, 14, 15, 16, 17],\n",
       "       [18, 19, 20, 21, 22, 23],\n",
       "       [24, 25, 26, 27, 28, 29]])"
      ]
     },
     "execution_count": 32,
     "metadata": {},
     "output_type": "execute_result"
    }
   ],
   "source": [
    "benimNumpyDizim.reshape(5,6)"
   ]
  },
  {
   "cell_type": "markdown",
   "id": "a115ea6a",
   "metadata": {},
   "source": [
    "yukarıdaki reshape(5,6) yeniden şekillendir dersek ve ayrıca (5,6) matrix istememizin sebebi yukarıda 30 adet benimNumpyizim tanımladığımız için "
   ]
  },
  {
   "cell_type": "code",
   "execution_count": 33,
   "id": "a328186b",
   "metadata": {},
   "outputs": [
    {
     "data": {
      "text/plain": [
       "array([[ 0,  1,  2,  3,  4],\n",
       "       [ 5,  6,  7,  8,  9],\n",
       "       [10, 11, 12, 13, 14],\n",
       "       [15, 16, 17, 18, 19],\n",
       "       [20, 21, 22, 23, 24],\n",
       "       [25, 26, 27, 28, 29]])"
      ]
     },
     "execution_count": 33,
     "metadata": {},
     "output_type": "execute_result"
    }
   ],
   "source": [
    "benimNumpyDizim.reshape(6,5)"
   ]
  },
  {
   "cell_type": "code",
   "execution_count": 34,
   "id": "d39d4f09",
   "metadata": {},
   "outputs": [
    {
     "data": {
      "text/plain": [
       "29"
      ]
     },
     "execution_count": 34,
     "metadata": {},
     "output_type": "execute_result"
    }
   ],
   "source": [
    "benimNumpyDizim.max() # bir dizinin içerisindeki en yüksek sayıyı gösterir"
   ]
  },
  {
   "cell_type": "code",
   "execution_count": 35,
   "id": "2a39f266",
   "metadata": {},
   "outputs": [
    {
     "data": {
      "text/plain": [
       "88"
      ]
     },
     "execution_count": 35,
     "metadata": {},
     "output_type": "execute_result"
    }
   ],
   "source": [
    "benimRandomDizim.max() # bir dizinin içerisindeki en yüksek sayıyı gösterir"
   ]
  },
  {
   "cell_type": "code",
   "execution_count": 36,
   "id": "35b84bd2",
   "metadata": {},
   "outputs": [
    {
     "data": {
      "text/plain": [
       "2"
      ]
     },
     "execution_count": 36,
     "metadata": {},
     "output_type": "execute_result"
    }
   ],
   "source": [
    "benimRandomDizim.argmax() # .argmax() benimRandomDizim dizisindeki en yüksek sayının indeksini gösterir"
   ]
  },
  {
   "cell_type": "code",
   "execution_count": 37,
   "id": "f0f45289",
   "metadata": {},
   "outputs": [
    {
     "data": {
      "text/plain": [
       "17"
      ]
     },
     "execution_count": 37,
     "metadata": {},
     "output_type": "execute_result"
    }
   ],
   "source": [
    "benimRandomDizim.argmin() # .argmin() benimRandomDizim dizisindeki en küçük sayının indeksini gösterir"
   ]
  },
  {
   "cell_type": "code",
   "execution_count": 38,
   "id": "345a3466",
   "metadata": {},
   "outputs": [
    {
     "data": {
      "text/plain": [
       "(30,)"
      ]
     },
     "execution_count": 38,
     "metadata": {},
     "output_type": "execute_result"
    }
   ],
   "source": [
    "benimNumpyDizim.shape"
   ]
  },
  {
   "cell_type": "code",
   "execution_count": 39,
   "id": "ad4839f2",
   "metadata": {},
   "outputs": [],
   "source": [
    "reshapeDizim = benimNumpyDizim.reshape(5,6)"
   ]
  },
  {
   "cell_type": "code",
   "execution_count": 40,
   "id": "eab229aa",
   "metadata": {},
   "outputs": [
    {
     "data": {
      "text/plain": [
       "(5, 6)"
      ]
     },
     "execution_count": 40,
     "metadata": {},
     "output_type": "execute_result"
    }
   ],
   "source": [
    "reshapeDizim.shape"
   ]
  },
  {
   "cell_type": "code",
   "execution_count": null,
   "id": "5f37e388",
   "metadata": {},
   "outputs": [],
   "source": []
  },
  {
   "cell_type": "code",
   "execution_count": null,
   "id": "f36ba013",
   "metadata": {},
   "outputs": [],
   "source": []
  }
 ],
 "metadata": {
  "kernelspec": {
   "display_name": "Python 3 (ipykernel)",
   "language": "python",
   "name": "python3"
  },
  "language_info": {
   "codemirror_mode": {
    "name": "ipython",
    "version": 3
   },
   "file_extension": ".py",
   "mimetype": "text/x-python",
   "name": "python",
   "nbconvert_exporter": "python",
   "pygments_lexer": "ipython3",
   "version": "3.9.18"
  }
 },
 "nbformat": 4,
 "nbformat_minor": 5
}
