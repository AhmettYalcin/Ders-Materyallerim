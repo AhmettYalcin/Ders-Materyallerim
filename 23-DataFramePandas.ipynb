{
 "cells": [
  {
   "cell_type": "code",
   "execution_count": 50,
   "id": "0ed87c73",
   "metadata": {},
   "outputs": [],
   "source": [
    "# derste aldığım notlar\n",
    "\n",
    "import numpy as np\n",
    "import pandas as pd"
   ]
  },
  {
   "cell_type": "code",
   "execution_count": 2,
   "id": "1470656e",
   "metadata": {},
   "outputs": [],
   "source": [
    "data = np.random.randn(4,3)"
   ]
  },
  {
   "cell_type": "code",
   "execution_count": 3,
   "id": "c40d7830",
   "metadata": {},
   "outputs": [
    {
     "data": {
      "text/plain": [
       "array([[-1.04137035, -0.45549471,  0.28248545],\n",
       "       [ 1.38296394, -0.20199399, -1.93194993],\n",
       "       [-0.17699949,  0.1947004 ,  0.13877737],\n",
       "       [ 1.1942208 ,  0.45144903, -0.87930724]])"
      ]
     },
     "execution_count": 3,
     "metadata": {},
     "output_type": "execute_result"
    }
   ],
   "source": [
    "data"
   ]
  },
  {
   "cell_type": "code",
   "execution_count": 4,
   "id": "646e2871",
   "metadata": {},
   "outputs": [],
   "source": [
    "dataFrame = pd.DataFrame(data)"
   ]
  },
  {
   "cell_type": "code",
   "execution_count": 55,
   "id": "7e5e2e43",
   "metadata": {},
   "outputs": [
    {
     "data": {
      "text/html": [
       "<div>\n",
       "<style scoped>\n",
       "    .dataframe tbody tr th:only-of-type {\n",
       "        vertical-align: middle;\n",
       "    }\n",
       "\n",
       "    .dataframe tbody tr th {\n",
       "        vertical-align: top;\n",
       "    }\n",
       "\n",
       "    .dataframe thead th {\n",
       "        text-align: right;\n",
       "    }\n",
       "</style>\n",
       "<table border=\"1\" class=\"dataframe\">\n",
       "  <thead>\n",
       "    <tr style=\"text-align: right;\">\n",
       "      <th></th>\n",
       "      <th>0</th>\n",
       "      <th>1</th>\n",
       "      <th>2</th>\n",
       "    </tr>\n",
       "  </thead>\n",
       "  <tbody>\n",
       "    <tr>\n",
       "      <th>0</th>\n",
       "      <td>-1.041370</td>\n",
       "      <td>-0.455495</td>\n",
       "      <td>0.282485</td>\n",
       "    </tr>\n",
       "    <tr>\n",
       "      <th>1</th>\n",
       "      <td>1.382964</td>\n",
       "      <td>-0.201994</td>\n",
       "      <td>-1.931950</td>\n",
       "    </tr>\n",
       "    <tr>\n",
       "      <th>2</th>\n",
       "      <td>-0.176999</td>\n",
       "      <td>0.194700</td>\n",
       "      <td>0.138777</td>\n",
       "    </tr>\n",
       "    <tr>\n",
       "      <th>3</th>\n",
       "      <td>1.194221</td>\n",
       "      <td>0.451449</td>\n",
       "      <td>-0.879307</td>\n",
       "    </tr>\n",
       "  </tbody>\n",
       "</table>\n",
       "</div>"
      ],
      "text/plain": [
       "          0         1         2\n",
       "0 -1.041370 -0.455495  0.282485\n",
       "1  1.382964 -0.201994 -1.931950\n",
       "2 -0.176999  0.194700  0.138777\n",
       "3  1.194221  0.451449 -0.879307"
      ]
     },
     "execution_count": 55,
     "metadata": {},
     "output_type": "execute_result"
    }
   ],
   "source": [
    "dataFrame"
   ]
  },
  {
   "cell_type": "code",
   "execution_count": 6,
   "id": "7eb19262",
   "metadata": {},
   "outputs": [
    {
     "data": {
      "text/plain": [
       "0   -1.041370\n",
       "1    1.382964\n",
       "2   -0.176999\n",
       "3    1.194221\n",
       "Name: 0, dtype: float64"
      ]
     },
     "execution_count": 6,
     "metadata": {},
     "output_type": "execute_result"
    }
   ],
   "source": [
    "dataFrame[0]"
   ]
  },
  {
   "cell_type": "code",
   "execution_count": 7,
   "id": "edbcdd55",
   "metadata": {},
   "outputs": [
    {
     "data": {
      "text/plain": [
       "0   -0.455495\n",
       "1   -0.201994\n",
       "2    0.194700\n",
       "3    0.451449\n",
       "Name: 1, dtype: float64"
      ]
     },
     "execution_count": 7,
     "metadata": {},
     "output_type": "execute_result"
    }
   ],
   "source": [
    "dataFrame[1]"
   ]
  },
  {
   "cell_type": "code",
   "execution_count": 8,
   "id": "71501b48",
   "metadata": {},
   "outputs": [
    {
     "data": {
      "text/plain": [
       "0    0.282485\n",
       "1   -1.931950\n",
       "2    0.138777\n",
       "3   -0.879307\n",
       "Name: 2, dtype: float64"
      ]
     },
     "execution_count": 8,
     "metadata": {},
     "output_type": "execute_result"
    }
   ],
   "source": [
    "dataFrame[2]"
   ]
  },
  {
   "cell_type": "code",
   "execution_count": 9,
   "id": "761af9cb",
   "metadata": {},
   "outputs": [
    {
     "data": {
      "text/plain": [
       "0    0.282485\n",
       "1   -1.931950\n",
       "2    0.138777\n",
       "3   -0.879307\n",
       "Name: 2, dtype: float64"
      ]
     },
     "execution_count": 9,
     "metadata": {},
     "output_type": "execute_result"
    }
   ],
   "source": [
    "dataFrame[2]"
   ]
  },
  {
   "cell_type": "code",
   "execution_count": 10,
   "id": "383ae36c",
   "metadata": {},
   "outputs": [],
   "source": [
    "yeniDataFrame = pd.DataFrame(data,index=[\"Ahmet\",\"zeynep\",\"atlas\",\"mehmet\"],columns = [\"maaş\",\"yaş\",\"çalışma saateri\"])"
   ]
  },
  {
   "cell_type": "code",
   "execution_count": 11,
   "id": "c19c976c",
   "metadata": {},
   "outputs": [
    {
     "data": {
      "text/html": [
       "<div>\n",
       "<style scoped>\n",
       "    .dataframe tbody tr th:only-of-type {\n",
       "        vertical-align: middle;\n",
       "    }\n",
       "\n",
       "    .dataframe tbody tr th {\n",
       "        vertical-align: top;\n",
       "    }\n",
       "\n",
       "    .dataframe thead th {\n",
       "        text-align: right;\n",
       "    }\n",
       "</style>\n",
       "<table border=\"1\" class=\"dataframe\">\n",
       "  <thead>\n",
       "    <tr style=\"text-align: right;\">\n",
       "      <th></th>\n",
       "      <th>maaş</th>\n",
       "      <th>yaş</th>\n",
       "      <th>çalışma saateri</th>\n",
       "    </tr>\n",
       "  </thead>\n",
       "  <tbody>\n",
       "    <tr>\n",
       "      <th>Ahmet</th>\n",
       "      <td>-1.041370</td>\n",
       "      <td>-0.455495</td>\n",
       "      <td>0.282485</td>\n",
       "    </tr>\n",
       "    <tr>\n",
       "      <th>zeynep</th>\n",
       "      <td>1.382964</td>\n",
       "      <td>-0.201994</td>\n",
       "      <td>-1.931950</td>\n",
       "    </tr>\n",
       "    <tr>\n",
       "      <th>atlas</th>\n",
       "      <td>-0.176999</td>\n",
       "      <td>0.194700</td>\n",
       "      <td>0.138777</td>\n",
       "    </tr>\n",
       "    <tr>\n",
       "      <th>mehmet</th>\n",
       "      <td>1.194221</td>\n",
       "      <td>0.451449</td>\n",
       "      <td>-0.879307</td>\n",
       "    </tr>\n",
       "  </tbody>\n",
       "</table>\n",
       "</div>"
      ],
      "text/plain": [
       "            maaş       yaş  çalışma saateri\n",
       "Ahmet  -1.041370 -0.455495         0.282485\n",
       "zeynep  1.382964 -0.201994        -1.931950\n",
       "atlas  -0.176999  0.194700         0.138777\n",
       "mehmet  1.194221  0.451449        -0.879307"
      ]
     },
     "execution_count": 11,
     "metadata": {},
     "output_type": "execute_result"
    }
   ],
   "source": [
    "yeniDataFrame"
   ]
  },
  {
   "cell_type": "code",
   "execution_count": 12,
   "id": "8225b11d",
   "metadata": {},
   "outputs": [
    {
     "data": {
      "text/html": [
       "<div>\n",
       "<style scoped>\n",
       "    .dataframe tbody tr th:only-of-type {\n",
       "        vertical-align: middle;\n",
       "    }\n",
       "\n",
       "    .dataframe tbody tr th {\n",
       "        vertical-align: top;\n",
       "    }\n",
       "\n",
       "    .dataframe thead th {\n",
       "        text-align: right;\n",
       "    }\n",
       "</style>\n",
       "<table border=\"1\" class=\"dataframe\">\n",
       "  <thead>\n",
       "    <tr style=\"text-align: right;\">\n",
       "      <th></th>\n",
       "      <th>maaş</th>\n",
       "      <th>yaş</th>\n",
       "    </tr>\n",
       "  </thead>\n",
       "  <tbody>\n",
       "    <tr>\n",
       "      <th>Ahmet</th>\n",
       "      <td>-1.041370</td>\n",
       "      <td>-0.455495</td>\n",
       "    </tr>\n",
       "    <tr>\n",
       "      <th>zeynep</th>\n",
       "      <td>1.382964</td>\n",
       "      <td>-0.201994</td>\n",
       "    </tr>\n",
       "    <tr>\n",
       "      <th>atlas</th>\n",
       "      <td>-0.176999</td>\n",
       "      <td>0.194700</td>\n",
       "    </tr>\n",
       "    <tr>\n",
       "      <th>mehmet</th>\n",
       "      <td>1.194221</td>\n",
       "      <td>0.451449</td>\n",
       "    </tr>\n",
       "  </tbody>\n",
       "</table>\n",
       "</div>"
      ],
      "text/plain": [
       "            maaş       yaş\n",
       "Ahmet  -1.041370 -0.455495\n",
       "zeynep  1.382964 -0.201994\n",
       "atlas  -0.176999  0.194700\n",
       "mehmet  1.194221  0.451449"
      ]
     },
     "execution_count": 12,
     "metadata": {},
     "output_type": "execute_result"
    }
   ],
   "source": [
    "yeniDataFrame[[\"maaş\",\"yaş\"]] #sütün yazıyoruz"
   ]
  },
  {
   "cell_type": "code",
   "execution_count": 13,
   "id": "c2990f06",
   "metadata": {},
   "outputs": [
    {
     "data": {
      "text/plain": [
       "maaş              -1.041370\n",
       "yaş               -0.455495\n",
       "çalışma saateri    0.282485\n",
       "Name: Ahmet, dtype: float64"
      ]
     },
     "execution_count": 13,
     "metadata": {},
     "output_type": "execute_result"
    }
   ],
   "source": [
    "yeniDataFrame.loc[\"Ahmet\"]  #burada ise .loc komutu kullanınca satırda yazabiliyoruz"
   ]
  },
  {
   "cell_type": "code",
   "execution_count": 14,
   "id": "45f7e7a0",
   "metadata": {},
   "outputs": [
    {
     "data": {
      "text/plain": [
       "maaş               1.382964\n",
       "yaş               -0.201994\n",
       "çalışma saateri   -1.931950\n",
       "Name: zeynep, dtype: float64"
      ]
     },
     "execution_count": 14,
     "metadata": {},
     "output_type": "execute_result"
    }
   ],
   "source": [
    "yeniDataFrame.loc[\"zeynep\"]"
   ]
  },
  {
   "cell_type": "code",
   "execution_count": 15,
   "id": "ceb74241",
   "metadata": {},
   "outputs": [
    {
     "data": {
      "text/plain": [
       "maaş               1.382964\n",
       "yaş               -0.201994\n",
       "çalışma saateri   -1.931950\n",
       "Name: zeynep, dtype: float64"
      ]
     },
     "execution_count": 15,
     "metadata": {},
     "output_type": "execute_result"
    }
   ],
   "source": [
    "yeniDataFrame.iloc[1] #.iloc[] index location 1.index e sahip satırı getirir"
   ]
  },
  {
   "cell_type": "code",
   "execution_count": 16,
   "id": "eafa350e",
   "metadata": {},
   "outputs": [],
   "source": [
    "yeniDataFrame[\"Emeklilik yaşı\"] = yeniDataFrame[\"yaş\"] + yeniDataFrame[\"yaş\"] #ekleme yapmak"
   ]
  },
  {
   "cell_type": "code",
   "execution_count": 17,
   "id": "c61b70d4",
   "metadata": {},
   "outputs": [
    {
     "data": {
      "text/html": [
       "<div>\n",
       "<style scoped>\n",
       "    .dataframe tbody tr th:only-of-type {\n",
       "        vertical-align: middle;\n",
       "    }\n",
       "\n",
       "    .dataframe tbody tr th {\n",
       "        vertical-align: top;\n",
       "    }\n",
       "\n",
       "    .dataframe thead th {\n",
       "        text-align: right;\n",
       "    }\n",
       "</style>\n",
       "<table border=\"1\" class=\"dataframe\">\n",
       "  <thead>\n",
       "    <tr style=\"text-align: right;\">\n",
       "      <th></th>\n",
       "      <th>maaş</th>\n",
       "      <th>yaş</th>\n",
       "      <th>çalışma saateri</th>\n",
       "      <th>Emeklilik yaşı</th>\n",
       "    </tr>\n",
       "  </thead>\n",
       "  <tbody>\n",
       "    <tr>\n",
       "      <th>Ahmet</th>\n",
       "      <td>-1.041370</td>\n",
       "      <td>-0.455495</td>\n",
       "      <td>0.282485</td>\n",
       "      <td>-0.910989</td>\n",
       "    </tr>\n",
       "    <tr>\n",
       "      <th>zeynep</th>\n",
       "      <td>1.382964</td>\n",
       "      <td>-0.201994</td>\n",
       "      <td>-1.931950</td>\n",
       "      <td>-0.403988</td>\n",
       "    </tr>\n",
       "    <tr>\n",
       "      <th>atlas</th>\n",
       "      <td>-0.176999</td>\n",
       "      <td>0.194700</td>\n",
       "      <td>0.138777</td>\n",
       "      <td>0.389401</td>\n",
       "    </tr>\n",
       "    <tr>\n",
       "      <th>mehmet</th>\n",
       "      <td>1.194221</td>\n",
       "      <td>0.451449</td>\n",
       "      <td>-0.879307</td>\n",
       "      <td>0.902898</td>\n",
       "    </tr>\n",
       "  </tbody>\n",
       "</table>\n",
       "</div>"
      ],
      "text/plain": [
       "            maaş       yaş  çalışma saateri  Emeklilik yaşı\n",
       "Ahmet  -1.041370 -0.455495         0.282485       -0.910989\n",
       "zeynep  1.382964 -0.201994        -1.931950       -0.403988\n",
       "atlas  -0.176999  0.194700         0.138777        0.389401\n",
       "mehmet  1.194221  0.451449        -0.879307        0.902898"
      ]
     },
     "execution_count": 17,
     "metadata": {},
     "output_type": "execute_result"
    }
   ],
   "source": [
    "yeniDataFrame"
   ]
  },
  {
   "cell_type": "code",
   "execution_count": 18,
   "id": "ca46f389",
   "metadata": {},
   "outputs": [
    {
     "data": {
      "text/html": [
       "<div>\n",
       "<style scoped>\n",
       "    .dataframe tbody tr th:only-of-type {\n",
       "        vertical-align: middle;\n",
       "    }\n",
       "\n",
       "    .dataframe tbody tr th {\n",
       "        vertical-align: top;\n",
       "    }\n",
       "\n",
       "    .dataframe thead th {\n",
       "        text-align: right;\n",
       "    }\n",
       "</style>\n",
       "<table border=\"1\" class=\"dataframe\">\n",
       "  <thead>\n",
       "    <tr style=\"text-align: right;\">\n",
       "      <th></th>\n",
       "      <th>maaş</th>\n",
       "      <th>yaş</th>\n",
       "      <th>çalışma saateri</th>\n",
       "    </tr>\n",
       "  </thead>\n",
       "  <tbody>\n",
       "    <tr>\n",
       "      <th>Ahmet</th>\n",
       "      <td>-1.041370</td>\n",
       "      <td>-0.455495</td>\n",
       "      <td>0.282485</td>\n",
       "    </tr>\n",
       "    <tr>\n",
       "      <th>zeynep</th>\n",
       "      <td>1.382964</td>\n",
       "      <td>-0.201994</td>\n",
       "      <td>-1.931950</td>\n",
       "    </tr>\n",
       "    <tr>\n",
       "      <th>atlas</th>\n",
       "      <td>-0.176999</td>\n",
       "      <td>0.194700</td>\n",
       "      <td>0.138777</td>\n",
       "    </tr>\n",
       "    <tr>\n",
       "      <th>mehmet</th>\n",
       "      <td>1.194221</td>\n",
       "      <td>0.451449</td>\n",
       "      <td>-0.879307</td>\n",
       "    </tr>\n",
       "  </tbody>\n",
       "</table>\n",
       "</div>"
      ],
      "text/plain": [
       "            maaş       yaş  çalışma saateri\n",
       "Ahmet  -1.041370 -0.455495         0.282485\n",
       "zeynep  1.382964 -0.201994        -1.931950\n",
       "atlas  -0.176999  0.194700         0.138777\n",
       "mehmet  1.194221  0.451449        -0.879307"
      ]
     },
     "execution_count": 18,
     "metadata": {},
     "output_type": "execute_result"
    }
   ],
   "source": [
    "yeniDataFrame.drop(\"Emeklilik yaşı\", axis=1)"
   ]
  },
  {
   "cell_type": "code",
   "execution_count": 19,
   "id": "7de2ea8b",
   "metadata": {},
   "outputs": [
    {
     "data": {
      "text/html": [
       "<div>\n",
       "<style scoped>\n",
       "    .dataframe tbody tr th:only-of-type {\n",
       "        vertical-align: middle;\n",
       "    }\n",
       "\n",
       "    .dataframe tbody tr th {\n",
       "        vertical-align: top;\n",
       "    }\n",
       "\n",
       "    .dataframe thead th {\n",
       "        text-align: right;\n",
       "    }\n",
       "</style>\n",
       "<table border=\"1\" class=\"dataframe\">\n",
       "  <thead>\n",
       "    <tr style=\"text-align: right;\">\n",
       "      <th></th>\n",
       "      <th>maaş</th>\n",
       "      <th>yaş</th>\n",
       "      <th>çalışma saateri</th>\n",
       "      <th>Emeklilik yaşı</th>\n",
       "    </tr>\n",
       "  </thead>\n",
       "  <tbody>\n",
       "    <tr>\n",
       "      <th>Ahmet</th>\n",
       "      <td>-1.041370</td>\n",
       "      <td>-0.455495</td>\n",
       "      <td>0.282485</td>\n",
       "      <td>-0.910989</td>\n",
       "    </tr>\n",
       "    <tr>\n",
       "      <th>zeynep</th>\n",
       "      <td>1.382964</td>\n",
       "      <td>-0.201994</td>\n",
       "      <td>-1.931950</td>\n",
       "      <td>-0.403988</td>\n",
       "    </tr>\n",
       "    <tr>\n",
       "      <th>atlas</th>\n",
       "      <td>-0.176999</td>\n",
       "      <td>0.194700</td>\n",
       "      <td>0.138777</td>\n",
       "      <td>0.389401</td>\n",
       "    </tr>\n",
       "  </tbody>\n",
       "</table>\n",
       "</div>"
      ],
      "text/plain": [
       "            maaş       yaş  çalışma saateri  Emeklilik yaşı\n",
       "Ahmet  -1.041370 -0.455495         0.282485       -0.910989\n",
       "zeynep  1.382964 -0.201994        -1.931950       -0.403988\n",
       "atlas  -0.176999  0.194700         0.138777        0.389401"
      ]
     },
     "execution_count": 19,
     "metadata": {},
     "output_type": "execute_result"
    }
   ],
   "source": [
    "yeniDataFrame.drop(\"mehmet\",axis = 0)  #axis eksen demek x ve y ekseni gibi düşün x=0 , y=1"
   ]
  },
  {
   "cell_type": "code",
   "execution_count": 20,
   "id": "db142609",
   "metadata": {},
   "outputs": [
    {
     "data": {
      "text/html": [
       "<div>\n",
       "<style scoped>\n",
       "    .dataframe tbody tr th:only-of-type {\n",
       "        vertical-align: middle;\n",
       "    }\n",
       "\n",
       "    .dataframe tbody tr th {\n",
       "        vertical-align: top;\n",
       "    }\n",
       "\n",
       "    .dataframe thead th {\n",
       "        text-align: right;\n",
       "    }\n",
       "</style>\n",
       "<table border=\"1\" class=\"dataframe\">\n",
       "  <thead>\n",
       "    <tr style=\"text-align: right;\">\n",
       "      <th></th>\n",
       "      <th>maaş</th>\n",
       "      <th>yaş</th>\n",
       "      <th>çalışma saateri</th>\n",
       "      <th>Emeklilik yaşı</th>\n",
       "    </tr>\n",
       "  </thead>\n",
       "  <tbody>\n",
       "    <tr>\n",
       "      <th>Ahmet</th>\n",
       "      <td>-1.041370</td>\n",
       "      <td>-0.455495</td>\n",
       "      <td>0.282485</td>\n",
       "      <td>-0.910989</td>\n",
       "    </tr>\n",
       "    <tr>\n",
       "      <th>zeynep</th>\n",
       "      <td>1.382964</td>\n",
       "      <td>-0.201994</td>\n",
       "      <td>-1.931950</td>\n",
       "      <td>-0.403988</td>\n",
       "    </tr>\n",
       "    <tr>\n",
       "      <th>atlas</th>\n",
       "      <td>-0.176999</td>\n",
       "      <td>0.194700</td>\n",
       "      <td>0.138777</td>\n",
       "      <td>0.389401</td>\n",
       "    </tr>\n",
       "    <tr>\n",
       "      <th>mehmet</th>\n",
       "      <td>1.194221</td>\n",
       "      <td>0.451449</td>\n",
       "      <td>-0.879307</td>\n",
       "      <td>0.902898</td>\n",
       "    </tr>\n",
       "  </tbody>\n",
       "</table>\n",
       "</div>"
      ],
      "text/plain": [
       "            maaş       yaş  çalışma saateri  Emeklilik yaşı\n",
       "Ahmet  -1.041370 -0.455495         0.282485       -0.910989\n",
       "zeynep  1.382964 -0.201994        -1.931950       -0.403988\n",
       "atlas  -0.176999  0.194700         0.138777        0.389401\n",
       "mehmet  1.194221  0.451449        -0.879307        0.902898"
      ]
     },
     "execution_count": 20,
     "metadata": {},
     "output_type": "execute_result"
    }
   ],
   "source": [
    "yeniDataFrame #mehmet ve emeklilik yaşını çıkarmış olsak bile orjinal dizi bozulmadı"
   ]
  },
  {
   "cell_type": "code",
   "execution_count": 21,
   "id": "0854c894",
   "metadata": {},
   "outputs": [],
   "source": [
    "yeniDataFrame.drop(\"Emeklilik yaşı\", axis=1,inplace=True)"
   ]
  },
  {
   "cell_type": "code",
   "execution_count": 22,
   "id": "b7ff10d7",
   "metadata": {},
   "outputs": [
    {
     "data": {
      "text/html": [
       "<div>\n",
       "<style scoped>\n",
       "    .dataframe tbody tr th:only-of-type {\n",
       "        vertical-align: middle;\n",
       "    }\n",
       "\n",
       "    .dataframe tbody tr th {\n",
       "        vertical-align: top;\n",
       "    }\n",
       "\n",
       "    .dataframe thead th {\n",
       "        text-align: right;\n",
       "    }\n",
       "</style>\n",
       "<table border=\"1\" class=\"dataframe\">\n",
       "  <thead>\n",
       "    <tr style=\"text-align: right;\">\n",
       "      <th></th>\n",
       "      <th>maaş</th>\n",
       "      <th>yaş</th>\n",
       "      <th>çalışma saateri</th>\n",
       "    </tr>\n",
       "  </thead>\n",
       "  <tbody>\n",
       "    <tr>\n",
       "      <th>Ahmet</th>\n",
       "      <td>-1.041370</td>\n",
       "      <td>-0.455495</td>\n",
       "      <td>0.282485</td>\n",
       "    </tr>\n",
       "    <tr>\n",
       "      <th>zeynep</th>\n",
       "      <td>1.382964</td>\n",
       "      <td>-0.201994</td>\n",
       "      <td>-1.931950</td>\n",
       "    </tr>\n",
       "    <tr>\n",
       "      <th>atlas</th>\n",
       "      <td>-0.176999</td>\n",
       "      <td>0.194700</td>\n",
       "      <td>0.138777</td>\n",
       "    </tr>\n",
       "    <tr>\n",
       "      <th>mehmet</th>\n",
       "      <td>1.194221</td>\n",
       "      <td>0.451449</td>\n",
       "      <td>-0.879307</td>\n",
       "    </tr>\n",
       "  </tbody>\n",
       "</table>\n",
       "</div>"
      ],
      "text/plain": [
       "            maaş       yaş  çalışma saateri\n",
       "Ahmet  -1.041370 -0.455495         0.282485\n",
       "zeynep  1.382964 -0.201994        -1.931950\n",
       "atlas  -0.176999  0.194700         0.138777\n",
       "mehmet  1.194221  0.451449        -0.879307"
      ]
     },
     "execution_count": 22,
     "metadata": {},
     "output_type": "execute_result"
    }
   ],
   "source": [
    "yeniDataFrame #yukardaki inplace komutu orijinal diziyi değiştirdi"
   ]
  },
  {
   "cell_type": "markdown",
   "id": "30644610",
   "metadata": {},
   "source": [
    "inplace=True orijinal data frame i değiştirmek için kullanılıyor"
   ]
  },
  {
   "cell_type": "code",
   "execution_count": 23,
   "id": "d2d4bc83",
   "metadata": {},
   "outputs": [
    {
     "data": {
      "text/plain": [
       "-0.45549470959667193"
      ]
     },
     "execution_count": 23,
     "metadata": {},
     "output_type": "execute_result"
    }
   ],
   "source": [
    "yeniDataFrame.loc[\"Ahmet\"][\"yaş\"]"
   ]
  },
  {
   "cell_type": "code",
   "execution_count": 24,
   "id": "6656f07a",
   "metadata": {},
   "outputs": [
    {
     "data": {
      "text/plain": [
       "-0.45549470959667193"
      ]
     },
     "execution_count": 24,
     "metadata": {},
     "output_type": "execute_result"
    }
   ],
   "source": [
    "yeniDataFrame.loc[\"Ahmet\",\"yaş\"] # bir üstteki komutla aynı işi yapar"
   ]
  },
  {
   "cell_type": "code",
   "execution_count": 25,
   "id": "89642dfa",
   "metadata": {},
   "outputs": [
    {
     "data": {
      "text/html": [
       "<div>\n",
       "<style scoped>\n",
       "    .dataframe tbody tr th:only-of-type {\n",
       "        vertical-align: middle;\n",
       "    }\n",
       "\n",
       "    .dataframe tbody tr th {\n",
       "        vertical-align: top;\n",
       "    }\n",
       "\n",
       "    .dataframe thead th {\n",
       "        text-align: right;\n",
       "    }\n",
       "</style>\n",
       "<table border=\"1\" class=\"dataframe\">\n",
       "  <thead>\n",
       "    <tr style=\"text-align: right;\">\n",
       "      <th></th>\n",
       "      <th>maaş</th>\n",
       "      <th>yaş</th>\n",
       "      <th>çalışma saateri</th>\n",
       "    </tr>\n",
       "  </thead>\n",
       "  <tbody>\n",
       "    <tr>\n",
       "      <th>Ahmet</th>\n",
       "      <td>-1.041370</td>\n",
       "      <td>-0.455495</td>\n",
       "      <td>0.282485</td>\n",
       "    </tr>\n",
       "    <tr>\n",
       "      <th>zeynep</th>\n",
       "      <td>1.382964</td>\n",
       "      <td>-0.201994</td>\n",
       "      <td>-1.931950</td>\n",
       "    </tr>\n",
       "    <tr>\n",
       "      <th>atlas</th>\n",
       "      <td>-0.176999</td>\n",
       "      <td>0.194700</td>\n",
       "      <td>0.138777</td>\n",
       "    </tr>\n",
       "    <tr>\n",
       "      <th>mehmet</th>\n",
       "      <td>1.194221</td>\n",
       "      <td>0.451449</td>\n",
       "      <td>-0.879307</td>\n",
       "    </tr>\n",
       "  </tbody>\n",
       "</table>\n",
       "</div>"
      ],
      "text/plain": [
       "            maaş       yaş  çalışma saateri\n",
       "Ahmet  -1.041370 -0.455495         0.282485\n",
       "zeynep  1.382964 -0.201994        -1.931950\n",
       "atlas  -0.176999  0.194700         0.138777\n",
       "mehmet  1.194221  0.451449        -0.879307"
      ]
     },
     "execution_count": 25,
     "metadata": {},
     "output_type": "execute_result"
    }
   ],
   "source": [
    "yeniDataFrame"
   ]
  },
  {
   "cell_type": "code",
   "execution_count": 26,
   "id": "941c7dd9",
   "metadata": {},
   "outputs": [
    {
     "data": {
      "text/html": [
       "<div>\n",
       "<style scoped>\n",
       "    .dataframe tbody tr th:only-of-type {\n",
       "        vertical-align: middle;\n",
       "    }\n",
       "\n",
       "    .dataframe tbody tr th {\n",
       "        vertical-align: top;\n",
       "    }\n",
       "\n",
       "    .dataframe thead th {\n",
       "        text-align: right;\n",
       "    }\n",
       "</style>\n",
       "<table border=\"1\" class=\"dataframe\">\n",
       "  <thead>\n",
       "    <tr style=\"text-align: right;\">\n",
       "      <th></th>\n",
       "      <th>maaş</th>\n",
       "      <th>yaş</th>\n",
       "      <th>çalışma saateri</th>\n",
       "    </tr>\n",
       "  </thead>\n",
       "  <tbody>\n",
       "    <tr>\n",
       "      <th>Ahmet</th>\n",
       "      <td>True</td>\n",
       "      <td>True</td>\n",
       "      <td>False</td>\n",
       "    </tr>\n",
       "    <tr>\n",
       "      <th>zeynep</th>\n",
       "      <td>False</td>\n",
       "      <td>True</td>\n",
       "      <td>True</td>\n",
       "    </tr>\n",
       "    <tr>\n",
       "      <th>atlas</th>\n",
       "      <td>True</td>\n",
       "      <td>False</td>\n",
       "      <td>False</td>\n",
       "    </tr>\n",
       "    <tr>\n",
       "      <th>mehmet</th>\n",
       "      <td>False</td>\n",
       "      <td>False</td>\n",
       "      <td>True</td>\n",
       "    </tr>\n",
       "  </tbody>\n",
       "</table>\n",
       "</div>"
      ],
      "text/plain": [
       "         maaş    yaş  çalışma saateri\n",
       "Ahmet    True   True            False\n",
       "zeynep  False   True             True\n",
       "atlas    True  False            False\n",
       "mehmet  False  False             True"
      ]
     },
     "execution_count": 26,
     "metadata": {},
     "output_type": "execute_result"
    }
   ],
   "source": [
    "yeniDataFrame < 0"
   ]
  },
  {
   "cell_type": "code",
   "execution_count": 27,
   "id": "8a1be481",
   "metadata": {},
   "outputs": [
    {
     "data": {
      "text/html": [
       "<div>\n",
       "<style scoped>\n",
       "    .dataframe tbody tr th:only-of-type {\n",
       "        vertical-align: middle;\n",
       "    }\n",
       "\n",
       "    .dataframe tbody tr th {\n",
       "        vertical-align: top;\n",
       "    }\n",
       "\n",
       "    .dataframe thead th {\n",
       "        text-align: right;\n",
       "    }\n",
       "</style>\n",
       "<table border=\"1\" class=\"dataframe\">\n",
       "  <thead>\n",
       "    <tr style=\"text-align: right;\">\n",
       "      <th></th>\n",
       "      <th>maaş</th>\n",
       "      <th>yaş</th>\n",
       "      <th>çalışma saateri</th>\n",
       "    </tr>\n",
       "  </thead>\n",
       "  <tbody>\n",
       "    <tr>\n",
       "      <th>atlas</th>\n",
       "      <td>-0.176999</td>\n",
       "      <td>0.194700</td>\n",
       "      <td>0.138777</td>\n",
       "    </tr>\n",
       "    <tr>\n",
       "      <th>mehmet</th>\n",
       "      <td>1.194221</td>\n",
       "      <td>0.451449</td>\n",
       "      <td>-0.879307</td>\n",
       "    </tr>\n",
       "  </tbody>\n",
       "</table>\n",
       "</div>"
      ],
      "text/plain": [
       "            maaş       yaş  çalışma saateri\n",
       "atlas  -0.176999  0.194700         0.138777\n",
       "mehmet  1.194221  0.451449        -0.879307"
      ]
     },
     "execution_count": 27,
     "metadata": {},
     "output_type": "execute_result"
    }
   ],
   "source": [
    "yeniDataFrame[yeniDataFrame[\"yaş\"]>0]"
   ]
  },
  {
   "cell_type": "code",
   "execution_count": 28,
   "id": "d7edf144",
   "metadata": {},
   "outputs": [
    {
     "data": {
      "text/html": [
       "<div>\n",
       "<style scoped>\n",
       "    .dataframe tbody tr th:only-of-type {\n",
       "        vertical-align: middle;\n",
       "    }\n",
       "\n",
       "    .dataframe tbody tr th {\n",
       "        vertical-align: top;\n",
       "    }\n",
       "\n",
       "    .dataframe thead th {\n",
       "        text-align: right;\n",
       "    }\n",
       "</style>\n",
       "<table border=\"1\" class=\"dataframe\">\n",
       "  <thead>\n",
       "    <tr style=\"text-align: right;\">\n",
       "      <th></th>\n",
       "      <th>index</th>\n",
       "      <th>maaş</th>\n",
       "      <th>yaş</th>\n",
       "      <th>çalışma saateri</th>\n",
       "    </tr>\n",
       "  </thead>\n",
       "  <tbody>\n",
       "    <tr>\n",
       "      <th>0</th>\n",
       "      <td>Ahmet</td>\n",
       "      <td>-1.041370</td>\n",
       "      <td>-0.455495</td>\n",
       "      <td>0.282485</td>\n",
       "    </tr>\n",
       "    <tr>\n",
       "      <th>1</th>\n",
       "      <td>zeynep</td>\n",
       "      <td>1.382964</td>\n",
       "      <td>-0.201994</td>\n",
       "      <td>-1.931950</td>\n",
       "    </tr>\n",
       "    <tr>\n",
       "      <th>2</th>\n",
       "      <td>atlas</td>\n",
       "      <td>-0.176999</td>\n",
       "      <td>0.194700</td>\n",
       "      <td>0.138777</td>\n",
       "    </tr>\n",
       "    <tr>\n",
       "      <th>3</th>\n",
       "      <td>mehmet</td>\n",
       "      <td>1.194221</td>\n",
       "      <td>0.451449</td>\n",
       "      <td>-0.879307</td>\n",
       "    </tr>\n",
       "  </tbody>\n",
       "</table>\n",
       "</div>"
      ],
      "text/plain": [
       "    index      maaş       yaş  çalışma saateri\n",
       "0   Ahmet -1.041370 -0.455495         0.282485\n",
       "1  zeynep  1.382964 -0.201994        -1.931950\n",
       "2   atlas -0.176999  0.194700         0.138777\n",
       "3  mehmet  1.194221  0.451449        -0.879307"
      ]
     },
     "execution_count": 28,
     "metadata": {},
     "output_type": "execute_result"
    }
   ],
   "source": [
    "yeniDataFrame.reset_index() # .reset_index() indexi değiştirmek istersek kullanırız."
   ]
  },
  {
   "cell_type": "code",
   "execution_count": 29,
   "id": "ac4d3b11",
   "metadata": {},
   "outputs": [
    {
     "data": {
      "text/html": [
       "<div>\n",
       "<style scoped>\n",
       "    .dataframe tbody tr th:only-of-type {\n",
       "        vertical-align: middle;\n",
       "    }\n",
       "\n",
       "    .dataframe tbody tr th {\n",
       "        vertical-align: top;\n",
       "    }\n",
       "\n",
       "    .dataframe thead th {\n",
       "        text-align: right;\n",
       "    }\n",
       "</style>\n",
       "<table border=\"1\" class=\"dataframe\">\n",
       "  <thead>\n",
       "    <tr style=\"text-align: right;\">\n",
       "      <th></th>\n",
       "      <th>maaş</th>\n",
       "      <th>yaş</th>\n",
       "      <th>çalışma saateri</th>\n",
       "    </tr>\n",
       "  </thead>\n",
       "  <tbody>\n",
       "    <tr>\n",
       "      <th>Ahmet</th>\n",
       "      <td>-1.041370</td>\n",
       "      <td>-0.455495</td>\n",
       "      <td>0.282485</td>\n",
       "    </tr>\n",
       "    <tr>\n",
       "      <th>zeynep</th>\n",
       "      <td>1.382964</td>\n",
       "      <td>-0.201994</td>\n",
       "      <td>-1.931950</td>\n",
       "    </tr>\n",
       "    <tr>\n",
       "      <th>atlas</th>\n",
       "      <td>-0.176999</td>\n",
       "      <td>0.194700</td>\n",
       "      <td>0.138777</td>\n",
       "    </tr>\n",
       "    <tr>\n",
       "      <th>mehmet</th>\n",
       "      <td>1.194221</td>\n",
       "      <td>0.451449</td>\n",
       "      <td>-0.879307</td>\n",
       "    </tr>\n",
       "  </tbody>\n",
       "</table>\n",
       "</div>"
      ],
      "text/plain": [
       "            maaş       yaş  çalışma saateri\n",
       "Ahmet  -1.041370 -0.455495         0.282485\n",
       "zeynep  1.382964 -0.201994        -1.931950\n",
       "atlas  -0.176999  0.194700         0.138777\n",
       "mehmet  1.194221  0.451449        -0.879307"
      ]
     },
     "execution_count": 29,
     "metadata": {},
     "output_type": "execute_result"
    }
   ],
   "source": [
    "yeniDataFrame #yukarıdaki .reset_index komutunda inplace kullanmadığımız için orijinal diziyi değiştirmemiş"
   ]
  },
  {
   "cell_type": "code",
   "execution_count": 30,
   "id": "0c41bf60",
   "metadata": {},
   "outputs": [],
   "source": [
    "yeniIndexListesi = [\"ahm\",\"zey\",\"atl\",\"meh\"]"
   ]
  },
  {
   "cell_type": "code",
   "execution_count": 31,
   "id": "ece36705",
   "metadata": {},
   "outputs": [],
   "source": [
    "yeniDataFrame[\"yeni index\"] = yeniIndexListesi"
   ]
  },
  {
   "cell_type": "code",
   "execution_count": 32,
   "id": "288c4fac",
   "metadata": {},
   "outputs": [
    {
     "data": {
      "text/html": [
       "<div>\n",
       "<style scoped>\n",
       "    .dataframe tbody tr th:only-of-type {\n",
       "        vertical-align: middle;\n",
       "    }\n",
       "\n",
       "    .dataframe tbody tr th {\n",
       "        vertical-align: top;\n",
       "    }\n",
       "\n",
       "    .dataframe thead th {\n",
       "        text-align: right;\n",
       "    }\n",
       "</style>\n",
       "<table border=\"1\" class=\"dataframe\">\n",
       "  <thead>\n",
       "    <tr style=\"text-align: right;\">\n",
       "      <th></th>\n",
       "      <th>maaş</th>\n",
       "      <th>yaş</th>\n",
       "      <th>çalışma saateri</th>\n",
       "      <th>yeni index</th>\n",
       "    </tr>\n",
       "  </thead>\n",
       "  <tbody>\n",
       "    <tr>\n",
       "      <th>Ahmet</th>\n",
       "      <td>-1.041370</td>\n",
       "      <td>-0.455495</td>\n",
       "      <td>0.282485</td>\n",
       "      <td>ahm</td>\n",
       "    </tr>\n",
       "    <tr>\n",
       "      <th>zeynep</th>\n",
       "      <td>1.382964</td>\n",
       "      <td>-0.201994</td>\n",
       "      <td>-1.931950</td>\n",
       "      <td>zey</td>\n",
       "    </tr>\n",
       "    <tr>\n",
       "      <th>atlas</th>\n",
       "      <td>-0.176999</td>\n",
       "      <td>0.194700</td>\n",
       "      <td>0.138777</td>\n",
       "      <td>atl</td>\n",
       "    </tr>\n",
       "    <tr>\n",
       "      <th>mehmet</th>\n",
       "      <td>1.194221</td>\n",
       "      <td>0.451449</td>\n",
       "      <td>-0.879307</td>\n",
       "      <td>meh</td>\n",
       "    </tr>\n",
       "  </tbody>\n",
       "</table>\n",
       "</div>"
      ],
      "text/plain": [
       "            maaş       yaş  çalışma saateri yeni index\n",
       "Ahmet  -1.041370 -0.455495         0.282485        ahm\n",
       "zeynep  1.382964 -0.201994        -1.931950        zey\n",
       "atlas  -0.176999  0.194700         0.138777        atl\n",
       "mehmet  1.194221  0.451449        -0.879307        meh"
      ]
     },
     "execution_count": 32,
     "metadata": {},
     "output_type": "execute_result"
    }
   ],
   "source": [
    "yeniDataFrame #şuan \"yeni index\" olarak bir kolon(sütun) getirdik"
   ]
  },
  {
   "cell_type": "code",
   "execution_count": 33,
   "id": "50bb3368",
   "metadata": {},
   "outputs": [],
   "source": [
    "yeniDataFrame.set_index(\"yeni index\", inplace=True) # burada \"yeni index\" sütununu index yaptık"
   ]
  },
  {
   "cell_type": "code",
   "execution_count": 34,
   "id": "28b50876",
   "metadata": {
    "scrolled": true
   },
   "outputs": [
    {
     "data": {
      "text/html": [
       "<div>\n",
       "<style scoped>\n",
       "    .dataframe tbody tr th:only-of-type {\n",
       "        vertical-align: middle;\n",
       "    }\n",
       "\n",
       "    .dataframe tbody tr th {\n",
       "        vertical-align: top;\n",
       "    }\n",
       "\n",
       "    .dataframe thead th {\n",
       "        text-align: right;\n",
       "    }\n",
       "</style>\n",
       "<table border=\"1\" class=\"dataframe\">\n",
       "  <thead>\n",
       "    <tr style=\"text-align: right;\">\n",
       "      <th></th>\n",
       "      <th>maaş</th>\n",
       "      <th>yaş</th>\n",
       "      <th>çalışma saateri</th>\n",
       "    </tr>\n",
       "    <tr>\n",
       "      <th>yeni index</th>\n",
       "      <th></th>\n",
       "      <th></th>\n",
       "      <th></th>\n",
       "    </tr>\n",
       "  </thead>\n",
       "  <tbody>\n",
       "    <tr>\n",
       "      <th>ahm</th>\n",
       "      <td>-1.041370</td>\n",
       "      <td>-0.455495</td>\n",
       "      <td>0.282485</td>\n",
       "    </tr>\n",
       "    <tr>\n",
       "      <th>zey</th>\n",
       "      <td>1.382964</td>\n",
       "      <td>-0.201994</td>\n",
       "      <td>-1.931950</td>\n",
       "    </tr>\n",
       "    <tr>\n",
       "      <th>atl</th>\n",
       "      <td>-0.176999</td>\n",
       "      <td>0.194700</td>\n",
       "      <td>0.138777</td>\n",
       "    </tr>\n",
       "    <tr>\n",
       "      <th>meh</th>\n",
       "      <td>1.194221</td>\n",
       "      <td>0.451449</td>\n",
       "      <td>-0.879307</td>\n",
       "    </tr>\n",
       "  </tbody>\n",
       "</table>\n",
       "</div>"
      ],
      "text/plain": [
       "                maaş       yaş  çalışma saateri\n",
       "yeni index                                     \n",
       "ahm        -1.041370 -0.455495         0.282485\n",
       "zey         1.382964 -0.201994        -1.931950\n",
       "atl        -0.176999  0.194700         0.138777\n",
       "meh         1.194221  0.451449        -0.879307"
      ]
     },
     "execution_count": 34,
     "metadata": {},
     "output_type": "execute_result"
    }
   ],
   "source": [
    "yeniDataFrame"
   ]
  },
  {
   "cell_type": "markdown",
   "id": "c0f82631",
   "metadata": {},
   "source": [
    "# Multı Index kullanımı"
   ]
  },
  {
   "cell_type": "code",
   "execution_count": 35,
   "id": "d4ed868b",
   "metadata": {},
   "outputs": [],
   "source": [
    "ilkIndexler = [\"Simpson\",\"Simpson\",\"Simpson\",\"South park\",\"South park\",\"South park\"]"
   ]
  },
  {
   "cell_type": "code",
   "execution_count": 36,
   "id": "18f3d45e",
   "metadata": {},
   "outputs": [],
   "source": [
    "icIndexler = [\"Homer\",\"Bart\",\"Marge\",\"Cartman\",\"Kenny\",\"Kyle\"]"
   ]
  },
  {
   "cell_type": "code",
   "execution_count": 37,
   "id": "e21c2daa",
   "metadata": {},
   "outputs": [],
   "source": [
    "birlesmisIndex = list(zip(ilkIndexler,icIndexler))"
   ]
  },
  {
   "cell_type": "code",
   "execution_count": 38,
   "id": "ae701c1f",
   "metadata": {},
   "outputs": [
    {
     "data": {
      "text/plain": [
       "[('Simpson', 'Homer'),\n",
       " ('Simpson', 'Bart'),\n",
       " ('Simpson', 'Marge'),\n",
       " ('South park', 'Cartman'),\n",
       " ('South park', 'Kenny'),\n",
       " ('South park', 'Kyle')]"
      ]
     },
     "execution_count": 38,
     "metadata": {},
     "output_type": "execute_result"
    }
   ],
   "source": [
    "birlesmisIndex"
   ]
  },
  {
   "cell_type": "code",
   "execution_count": 39,
   "id": "d7e75287",
   "metadata": {},
   "outputs": [],
   "source": [
    "birlesmisIndex = pd.MultiIndex.from_tuples(birlesmisIndex)"
   ]
  },
  {
   "cell_type": "code",
   "execution_count": 96,
   "id": "8bfe3b83",
   "metadata": {},
   "outputs": [
    {
     "data": {
      "text/plain": [
       "list"
      ]
     },
     "execution_count": 96,
     "metadata": {},
     "output_type": "execute_result"
    }
   ],
   "source": [
    "type(birlesmisIndex)"
   ]
  },
  {
   "cell_type": "code",
   "execution_count": 40,
   "id": "b44f4e95",
   "metadata": {},
   "outputs": [
    {
     "data": {
      "text/plain": [
       "MultiIndex([(   'Simpson',   'Homer'),\n",
       "            (   'Simpson',    'Bart'),\n",
       "            (   'Simpson',   'Marge'),\n",
       "            ('South park', 'Cartman'),\n",
       "            ('South park',   'Kenny'),\n",
       "            ('South park',    'Kyle')],\n",
       "           )"
      ]
     },
     "execution_count": 40,
     "metadata": {},
     "output_type": "execute_result"
    }
   ],
   "source": [
    "birlesmisIndex"
   ]
  },
  {
   "cell_type": "code",
   "execution_count": 41,
   "id": "e343e8ad",
   "metadata": {},
   "outputs": [],
   "source": [
    "benimCizgiFilmListem = [[40,\"A\"],[10,\"B\"],[30,\"C\"],[9,\"D\"],[10,\"E\"],[11,\"F\"]]"
   ]
  },
  {
   "cell_type": "code",
   "execution_count": 42,
   "id": "ea1f3362",
   "metadata": {},
   "outputs": [],
   "source": [
    "cizgiFilmNumpyDizisi = np.array(benimCizgiFilmListem)"
   ]
  },
  {
   "cell_type": "code",
   "execution_count": 45,
   "id": "9b32682f",
   "metadata": {},
   "outputs": [],
   "source": [
    "cizgiFilmDataFrame = pd.DataFrame(cizgiFilmNumpyDizisi,index=birlesmisIndex,columns=[\"yaş\",\"meslek\"])"
   ]
  },
  {
   "cell_type": "code",
   "execution_count": 46,
   "id": "c3b0d099",
   "metadata": {},
   "outputs": [
    {
     "data": {
      "text/html": [
       "<div>\n",
       "<style scoped>\n",
       "    .dataframe tbody tr th:only-of-type {\n",
       "        vertical-align: middle;\n",
       "    }\n",
       "\n",
       "    .dataframe tbody tr th {\n",
       "        vertical-align: top;\n",
       "    }\n",
       "\n",
       "    .dataframe thead th {\n",
       "        text-align: right;\n",
       "    }\n",
       "</style>\n",
       "<table border=\"1\" class=\"dataframe\">\n",
       "  <thead>\n",
       "    <tr style=\"text-align: right;\">\n",
       "      <th></th>\n",
       "      <th></th>\n",
       "      <th>yaş</th>\n",
       "      <th>meslek</th>\n",
       "    </tr>\n",
       "  </thead>\n",
       "  <tbody>\n",
       "    <tr>\n",
       "      <th rowspan=\"3\" valign=\"top\">Simpson</th>\n",
       "      <th>Homer</th>\n",
       "      <td>40</td>\n",
       "      <td>A</td>\n",
       "    </tr>\n",
       "    <tr>\n",
       "      <th>Bart</th>\n",
       "      <td>10</td>\n",
       "      <td>B</td>\n",
       "    </tr>\n",
       "    <tr>\n",
       "      <th>Marge</th>\n",
       "      <td>30</td>\n",
       "      <td>C</td>\n",
       "    </tr>\n",
       "    <tr>\n",
       "      <th rowspan=\"3\" valign=\"top\">South park</th>\n",
       "      <th>Cartman</th>\n",
       "      <td>9</td>\n",
       "      <td>D</td>\n",
       "    </tr>\n",
       "    <tr>\n",
       "      <th>Kenny</th>\n",
       "      <td>10</td>\n",
       "      <td>E</td>\n",
       "    </tr>\n",
       "    <tr>\n",
       "      <th>Kyle</th>\n",
       "      <td>11</td>\n",
       "      <td>F</td>\n",
       "    </tr>\n",
       "  </tbody>\n",
       "</table>\n",
       "</div>"
      ],
      "text/plain": [
       "                   yaş meslek\n",
       "Simpson    Homer    40      A\n",
       "           Bart     10      B\n",
       "           Marge    30      C\n",
       "South park Cartman   9      D\n",
       "           Kenny    10      E\n",
       "           Kyle     11      F"
      ]
     },
     "execution_count": 46,
     "metadata": {},
     "output_type": "execute_result"
    }
   ],
   "source": [
    "cizgiFilmDataFrame"
   ]
  },
  {
   "cell_type": "code",
   "execution_count": 47,
   "id": "bb888249",
   "metadata": {
    "scrolled": true
   },
   "outputs": [
    {
     "data": {
      "text/html": [
       "<div>\n",
       "<style scoped>\n",
       "    .dataframe tbody tr th:only-of-type {\n",
       "        vertical-align: middle;\n",
       "    }\n",
       "\n",
       "    .dataframe tbody tr th {\n",
       "        vertical-align: top;\n",
       "    }\n",
       "\n",
       "    .dataframe thead th {\n",
       "        text-align: right;\n",
       "    }\n",
       "</style>\n",
       "<table border=\"1\" class=\"dataframe\">\n",
       "  <thead>\n",
       "    <tr style=\"text-align: right;\">\n",
       "      <th></th>\n",
       "      <th>yaş</th>\n",
       "      <th>meslek</th>\n",
       "    </tr>\n",
       "  </thead>\n",
       "  <tbody>\n",
       "    <tr>\n",
       "      <th>Homer</th>\n",
       "      <td>40</td>\n",
       "      <td>A</td>\n",
       "    </tr>\n",
       "    <tr>\n",
       "      <th>Bart</th>\n",
       "      <td>10</td>\n",
       "      <td>B</td>\n",
       "    </tr>\n",
       "    <tr>\n",
       "      <th>Marge</th>\n",
       "      <td>30</td>\n",
       "      <td>C</td>\n",
       "    </tr>\n",
       "  </tbody>\n",
       "</table>\n",
       "</div>"
      ],
      "text/plain": [
       "      yaş meslek\n",
       "Homer  40      A\n",
       "Bart   10      B\n",
       "Marge  30      C"
      ]
     },
     "execution_count": 47,
     "metadata": {},
     "output_type": "execute_result"
    }
   ],
   "source": [
    "cizgiFilmDataFrame.loc[\"Simpson\"]"
   ]
  },
  {
   "cell_type": "code",
   "execution_count": 49,
   "id": "36b22c27",
   "metadata": {},
   "outputs": [
    {
     "data": {
      "text/plain": [
       "yaş       10\n",
       "meslek     E\n",
       "Name: Kenny, dtype: object"
      ]
     },
     "execution_count": 49,
     "metadata": {},
     "output_type": "execute_result"
    }
   ],
   "source": [
    "cizgiFilmDataFrame.loc[\"South park\"].loc[\"Kenny\"]"
   ]
  },
  {
   "cell_type": "code",
   "execution_count": 50,
   "id": "f8cb1db0",
   "metadata": {
    "scrolled": true
   },
   "outputs": [
    {
     "data": {
      "text/html": [
       "<div>\n",
       "<style scoped>\n",
       "    .dataframe tbody tr th:only-of-type {\n",
       "        vertical-align: middle;\n",
       "    }\n",
       "\n",
       "    .dataframe tbody tr th {\n",
       "        vertical-align: top;\n",
       "    }\n",
       "\n",
       "    .dataframe thead th {\n",
       "        text-align: right;\n",
       "    }\n",
       "</style>\n",
       "<table border=\"1\" class=\"dataframe\">\n",
       "  <thead>\n",
       "    <tr style=\"text-align: right;\">\n",
       "      <th></th>\n",
       "      <th></th>\n",
       "      <th>yaş</th>\n",
       "      <th>meslek</th>\n",
       "    </tr>\n",
       "  </thead>\n",
       "  <tbody>\n",
       "    <tr>\n",
       "      <th rowspan=\"3\" valign=\"top\">Simpson</th>\n",
       "      <th>Homer</th>\n",
       "      <td>40</td>\n",
       "      <td>A</td>\n",
       "    </tr>\n",
       "    <tr>\n",
       "      <th>Bart</th>\n",
       "      <td>10</td>\n",
       "      <td>B</td>\n",
       "    </tr>\n",
       "    <tr>\n",
       "      <th>Marge</th>\n",
       "      <td>30</td>\n",
       "      <td>C</td>\n",
       "    </tr>\n",
       "    <tr>\n",
       "      <th rowspan=\"3\" valign=\"top\">South park</th>\n",
       "      <th>Cartman</th>\n",
       "      <td>9</td>\n",
       "      <td>D</td>\n",
       "    </tr>\n",
       "    <tr>\n",
       "      <th>Kenny</th>\n",
       "      <td>10</td>\n",
       "      <td>E</td>\n",
       "    </tr>\n",
       "    <tr>\n",
       "      <th>Kyle</th>\n",
       "      <td>11</td>\n",
       "      <td>F</td>\n",
       "    </tr>\n",
       "  </tbody>\n",
       "</table>\n",
       "</div>"
      ],
      "text/plain": [
       "                   yaş meslek\n",
       "Simpson    Homer    40      A\n",
       "           Bart     10      B\n",
       "           Marge    30      C\n",
       "South park Cartman   9      D\n",
       "           Kenny    10      E\n",
       "           Kyle     11      F"
      ]
     },
     "execution_count": 50,
     "metadata": {},
     "output_type": "execute_result"
    }
   ],
   "source": [
    "cizgiFilmDataFrame"
   ]
  },
  {
   "cell_type": "code",
   "execution_count": 53,
   "id": "f51d927a",
   "metadata": {},
   "outputs": [],
   "source": [
    "cizgiFilmDataFrame.index = [\"Film adı\", \"İsim\"] # index lere isim adı verdik"
   ]
  },
  {
   "cell_type": "code",
   "execution_count": 57,
   "id": "9fa4ee84",
   "metadata": {},
   "outputs": [
    {
     "data": {
      "text/html": [
       "<div>\n",
       "<style scoped>\n",
       "    .dataframe tbody tr th:only-of-type {\n",
       "        vertical-align: middle;\n",
       "    }\n",
       "\n",
       "    .dataframe tbody tr th {\n",
       "        vertical-align: top;\n",
       "    }\n",
       "\n",
       "    .dataframe thead th {\n",
       "        text-align: right;\n",
       "    }\n",
       "</style>\n",
       "<table border=\"1\" class=\"dataframe\">\n",
       "  <thead>\n",
       "    <tr style=\"text-align: right;\">\n",
       "      <th></th>\n",
       "      <th></th>\n",
       "      <th>yaş</th>\n",
       "      <th>meslek</th>\n",
       "    </tr>\n",
       "    <tr>\n",
       "      <th>Film adı</th>\n",
       "      <th>İsim</th>\n",
       "      <th></th>\n",
       "      <th></th>\n",
       "    </tr>\n",
       "  </thead>\n",
       "  <tbody>\n",
       "    <tr>\n",
       "      <th rowspan=\"3\" valign=\"top\">Simpson</th>\n",
       "      <th>Homer</th>\n",
       "      <td>40</td>\n",
       "      <td>A</td>\n",
       "    </tr>\n",
       "    <tr>\n",
       "      <th>Bart</th>\n",
       "      <td>10</td>\n",
       "      <td>B</td>\n",
       "    </tr>\n",
       "    <tr>\n",
       "      <th>Marge</th>\n",
       "      <td>30</td>\n",
       "      <td>C</td>\n",
       "    </tr>\n",
       "    <tr>\n",
       "      <th rowspan=\"3\" valign=\"top\">South park</th>\n",
       "      <th>Cartman</th>\n",
       "      <td>9</td>\n",
       "      <td>D</td>\n",
       "    </tr>\n",
       "    <tr>\n",
       "      <th>Kenny</th>\n",
       "      <td>10</td>\n",
       "      <td>E</td>\n",
       "    </tr>\n",
       "    <tr>\n",
       "      <th>Kyle</th>\n",
       "      <td>11</td>\n",
       "      <td>F</td>\n",
       "    </tr>\n",
       "  </tbody>\n",
       "</table>\n",
       "</div>"
      ],
      "text/plain": [
       "                   yaş meslek\n",
       "Film adı   İsim              \n",
       "Simpson    Homer    40      A\n",
       "           Bart     10      B\n",
       "           Marge    30      C\n",
       "South park Cartman   9      D\n",
       "           Kenny    10      E\n",
       "           Kyle     11      F"
      ]
     },
     "execution_count": 57,
     "metadata": {},
     "output_type": "execute_result"
    }
   ],
   "source": [
    "cizgiFilmDataFrame"
   ]
  },
  {
   "cell_type": "code",
   "execution_count": null,
   "id": "19d09e44",
   "metadata": {},
   "outputs": [],
   "source": []
  }
 ],
 "metadata": {
  "kernelspec": {
   "display_name": "Python 3 (ipykernel)",
   "language": "python",
   "name": "python3"
  },
  "language_info": {
   "codemirror_mode": {
    "name": "ipython",
    "version": 3
   },
   "file_extension": ".py",
   "mimetype": "text/x-python",
   "name": "python",
   "nbconvert_exporter": "python",
   "pygments_lexer": "ipython3",
   "version": "3.9.18"
  }
 },
 "nbformat": 4,
 "nbformat_minor": 5
}
