{
 "cells": [
  {
   "cell_type": "code",
   "execution_count": 1,
   "id": "50cceebd",
   "metadata": {},
   "outputs": [
    {
     "name": "stdout",
     "output_type": "stream",
     "text": [
      "0\n",
      "1\n",
      "2\n",
      "3\n",
      "4\n",
      "5\n",
      "6\n",
      "7\n",
      "8\n",
      "9\n"
     ]
    }
   ],
   "source": [
    "# derste aldığım notlar 10\n",
    "\n",
    "x = 0\n",
    "while x < 10:\n",
    "    print(x)\n",
    "    x = x + 1"
   ]
  },
  {
   "cell_type": "code",
   "execution_count": 2,
   "id": "7442fd9d",
   "metadata": {},
   "outputs": [],
   "source": [
    "benimListem = [1,2,3,4,5]"
   ]
  },
  {
   "cell_type": "code",
   "execution_count": 3,
   "id": "a6782c56",
   "metadata": {},
   "outputs": [
    {
     "data": {
      "text/plain": [
       "5"
      ]
     },
     "execution_count": 3,
     "metadata": {},
     "output_type": "execute_result"
    }
   ],
   "source": [
    "benimListem.pop()"
   ]
  },
  {
   "cell_type": "markdown",
   "id": "0cc89b36",
   "metadata": {},
   "source": [
    "yukarıdaki benimListem.pop() komutu listedeki son elemanı çıkarır"
   ]
  },
  {
   "cell_type": "code",
   "execution_count": 4,
   "id": "a36874b6",
   "metadata": {},
   "outputs": [
    {
     "data": {
      "text/plain": [
       "[1, 2, 3, 4]"
      ]
     },
     "execution_count": 4,
     "metadata": {},
     "output_type": "execute_result"
    }
   ],
   "source": [
    "benimListem"
   ]
  },
  {
   "cell_type": "code",
   "execution_count": 5,
   "id": "9884964b",
   "metadata": {},
   "outputs": [],
   "source": [
    "benimListem.append(5)"
   ]
  },
  {
   "cell_type": "markdown",
   "id": "1dc868d9",
   "metadata": {},
   "source": [
    "yukarıdaki benimListem.append(5) komutu benimListem list'ine 5 i ekler"
   ]
  },
  {
   "cell_type": "code",
   "execution_count": 6,
   "id": "168b74ef",
   "metadata": {},
   "outputs": [
    {
     "data": {
      "text/plain": [
       "[1, 2, 3, 4, 5]"
      ]
     },
     "execution_count": 6,
     "metadata": {},
     "output_type": "execute_result"
    }
   ],
   "source": [
    "benimListem"
   ]
  },
  {
   "cell_type": "code",
   "execution_count": 7,
   "id": "38c2c4bb",
   "metadata": {},
   "outputs": [
    {
     "name": "stdout",
     "output_type": "stream",
     "text": [
      "3 hala listenin içerisinde\n",
      "3 hala listenin içerisinde\n",
      "3 hala listenin içerisinde\n"
     ]
    }
   ],
   "source": [
    "while 3 in benimListem:\n",
    "    print(\"3 hala listenin içerisinde\")\n",
    "    benimListem.pop()"
   ]
  },
  {
   "cell_type": "markdown",
   "id": "a5f1e7ea",
   "metadata": {},
   "source": [
    "yukarıdaki ilk başta 3 hala list in içinde olduğu için ekrana yazdırdı sonra alltaki      benimListem.pop() komutu önce 5 i attı tekrar döngüye başladık ve yeni list [1,2,3,4] oldu vetekrar döngüye başladık 3 hala listede olduğu için 2.kez listede olduğunu yazdık ve     benimListem.pop() komutu bu sefer 4 ü attı ve yeni list [1,2,3] oldu ve 3. kez liste içinde olduğunu ekrana yazdık ve     benimListem.pop() bu sefer 3'ü sildi, yeni list [1,2] oldu , tekrar döngü başladı ancak 3 liste olmadığı için durdu."
   ]
  },
  {
   "cell_type": "code",
   "execution_count": 8,
   "id": "a6680736",
   "metadata": {},
   "outputs": [],
   "source": [
    "numara = 0"
   ]
  },
  {
   "cell_type": "code",
   "execution_count": 9,
   "id": "d8a2edd3",
   "metadata": {},
   "outputs": [
    {
     "name": "stdout",
     "output_type": "stream",
     "text": [
      "0\n",
      "1\n",
      "2\n",
      "3\n"
     ]
    }
   ],
   "source": [
    "while numara < 5:\n",
    "    if numara == 4:\n",
    "        break\n",
    "    print(numara)\n",
    "    numara = numara + 1"
   ]
  },
  {
   "cell_type": "code",
   "execution_count": 10,
   "id": "e035d9e1",
   "metadata": {},
   "outputs": [
    {
     "name": "stdout",
     "output_type": "stream",
     "text": [
      "yeniDegisken'in güncel değeri: 0\n",
      "yeniDegisken'in güncel değeri: 1\n",
      "yeniDegisken'in güncel değeri: 2\n",
      "yeniDegisken'in güncel değeri: 3\n",
      "yeniDegisken'in güncel değeri: 4\n",
      "yeniDegisken'in güncel değeri: 5\n",
      "yeniDegisken'in güncel değeri: 6\n",
      "yeniDegisken'in güncel değeri: 7\n",
      "yeniDegisken'in güncel değeri: 8\n",
      "yeniDegisken'in güncel değeri: 9\n",
      "yeniDegisken'in güncel değeri: 10\n",
      "yeniDegisken'in güncel değeri: 11\n",
      "yeniDegisken'in güncel değeri: 12\n",
      "yeniDegisken'in güncel değeri: 13\n",
      "yeniDegisken'in güncel değeri: 14\n"
     ]
    }
   ],
   "source": [
    "yeniDegisken = 0\n",
    "while yeniDegisken < 15:\n",
    "    print(\"yeniDegisken'in güncel değeri: \" + str(yeniDegisken))\n",
    "    yeniDegisken= yeniDegisken + 1"
   ]
  },
  {
   "cell_type": "code",
   "execution_count": 11,
   "id": "8c3c27fc",
   "metadata": {},
   "outputs": [
    {
     "name": "stdout",
     "output_type": "stream",
     "text": [
      "yeniDegisken'in güncel değeri: 0\n",
      "yeniDegisken'in güncel değeri: 1\n",
      "yeniDegisken'in güncel değeri: 2\n",
      "yeniDegisken'in güncel değeri: 3\n",
      "yeniDegisken'in güncel değeri: 4\n",
      "yeniDegisken'in güncel değeri: 5\n",
      "yeniDegisken'in güncel değeri: 6\n",
      "yeniDegisken'in güncel değeri: 7\n",
      "yeniDegisken'in güncel değeri: 8\n",
      "yeniDegisken'in güncel değeri: 9\n",
      "yeniDegisken'in güncel değeri: 10\n",
      "yeniDegisken'in güncel değeri: 11\n",
      "yeniDegisken'in güncel değeri: 12\n",
      "yeniDegisken'in güncel değeri: 13\n",
      "yeniDegisken'in güncel değeri: 14\n"
     ]
    }
   ],
   "source": [
    "yeniDegisken = 0\n",
    "while yeniDegisken < 15:\n",
    "    print(f\"yeniDegisken'in güncel değeri: {yeniDegisken}\")\n",
    "    yeniDegisken= yeniDegisken + 1"
   ]
  },
  {
   "cell_type": "code",
   "execution_count": null,
   "id": "edff7a76",
   "metadata": {},
   "outputs": [],
   "source": [
    " "
   ]
  }
 ],
 "metadata": {
  "kernelspec": {
   "display_name": "Python 3 (ipykernel)",
   "language": "python",
   "name": "python3"
  },
  "language_info": {
   "codemirror_mode": {
    "name": "ipython",
    "version": 3
   },
   "file_extension": ".py",
   "mimetype": "text/x-python",
   "name": "python",
   "nbconvert_exporter": "python",
   "pygments_lexer": "ipython3",
   "version": "3.9.18"
  }
 },
 "nbformat": 4,
 "nbformat_minor": 5
}
