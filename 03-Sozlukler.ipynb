{
 "cells": [
  {
   "cell_type": "code",
   "execution_count": 1,
   "id": "b0ff04d6",
   "metadata": {},
   "outputs": [],
   "source": [
    "# derslerde aldığım notlar 3\n",
    "benimListem = [1,2,3]"
   ]
  },
  {
   "cell_type": "code",
   "execution_count": 2,
   "id": "dd2c8517",
   "metadata": {},
   "outputs": [
    {
     "data": {
      "text/plain": [
       "1"
      ]
     },
     "execution_count": 2,
     "metadata": {},
     "output_type": "execute_result"
    }
   ],
   "source": [
    "benimListem[0]"
   ]
  },
  {
   "cell_type": "markdown",
   "id": "82689a10",
   "metadata": {},
   "source": [
    "# key - value pairing ( anahtar kelime - değer eşleşmesi"
   ]
  },
  {
   "cell_type": "code",
   "execution_count": 3,
   "id": "1f997e85",
   "metadata": {},
   "outputs": [],
   "source": [
    "benimYemeklerim = [\"elma\", \"karpuz\", \"muz\"]"
   ]
  },
  {
   "cell_type": "code",
   "execution_count": 4,
   "id": "22d27aa5",
   "metadata": {},
   "outputs": [],
   "source": [
    "benimKalorilerim= [100, 200 , 300]"
   ]
  },
  {
   "cell_type": "code",
   "execution_count": 5,
   "id": "efafcf84",
   "metadata": {},
   "outputs": [
    {
     "data": {
      "text/plain": [
       "'karpuz'"
      ]
     },
     "execution_count": 5,
     "metadata": {},
     "output_type": "execute_result"
    }
   ],
   "source": [
    "benimYemeklerim[1]"
   ]
  },
  {
   "cell_type": "code",
   "execution_count": 6,
   "id": "9c06f135",
   "metadata": {},
   "outputs": [
    {
     "data": {
      "text/plain": [
       "200"
      ]
     },
     "execution_count": 6,
     "metadata": {},
     "output_type": "execute_result"
    }
   ],
   "source": [
    "benimKalorilerim[1]"
   ]
  },
  {
   "cell_type": "markdown",
   "id": "167f8eb3",
   "metadata": {},
   "source": [
    "# dictionary"
   ]
  },
  {
   "cell_type": "code",
   "execution_count": 7,
   "id": "bfbcbced",
   "metadata": {},
   "outputs": [],
   "source": [
    "benimSozluk = {\"anahtarkelime\" : \"deger\"}"
   ]
  },
  {
   "cell_type": "code",
   "execution_count": 8,
   "id": "1764ce20",
   "metadata": {},
   "outputs": [
    {
     "data": {
      "text/plain": [
       "dict"
      ]
     },
     "execution_count": 8,
     "metadata": {},
     "output_type": "execute_result"
    }
   ],
   "source": [
    "type(benimSozluk)"
   ]
  },
  {
   "cell_type": "code",
   "execution_count": 9,
   "id": "b0ef1256",
   "metadata": {},
   "outputs": [
    {
     "data": {
      "text/plain": [
       "'deger'"
      ]
     },
     "execution_count": 9,
     "metadata": {},
     "output_type": "execute_result"
    }
   ],
   "source": [
    "benimSozluk[\"anahtarkelime\"]"
   ]
  },
  {
   "cell_type": "code",
   "execution_count": 10,
   "id": "aa97662a",
   "metadata": {},
   "outputs": [],
   "source": [
    "benimYemekKaloriSozlugum = {\"elma\" : 100, \"karpuz\" : 200, \"muz\" : 300}"
   ]
  },
  {
   "cell_type": "code",
   "execution_count": 11,
   "id": "3b8802c1",
   "metadata": {},
   "outputs": [
    {
     "data": {
      "text/plain": [
       "300"
      ]
     },
     "execution_count": 11,
     "metadata": {},
     "output_type": "execute_result"
    }
   ],
   "source": [
    "benimYemekKaloriSozlugum[\"muz\"]"
   ]
  },
  {
   "cell_type": "code",
   "execution_count": 12,
   "id": "8f8c4984",
   "metadata": {},
   "outputs": [],
   "source": [
    "benimYemekKaloriSozlugum[\"elma\"] = 145"
   ]
  },
  {
   "cell_type": "code",
   "execution_count": 13,
   "id": "20cb6d34",
   "metadata": {},
   "outputs": [
    {
     "data": {
      "text/plain": [
       "{'elma': 145, 'karpuz': 200, 'muz': 300}"
      ]
     },
     "execution_count": 13,
     "metadata": {},
     "output_type": "execute_result"
    }
   ],
   "source": [
    "benimYemekKaloriSozlugum"
   ]
  },
  {
   "cell_type": "markdown",
   "id": "523f202d",
   "metadata": {},
   "source": [
    "  yukarıda benimYemekKaloriSozlugum = {\"elma\" : 100, \"karpuz\" : 200, \"muz\" : 300} komutunda bir dictionary oluşturmuş olduk ve ürünlere yanlarındaki int değerleri kalori komutları olarak atamış olduk"
   ]
  },
  {
   "cell_type": "code",
   "execution_count": 14,
   "id": "6270dff3",
   "metadata": {},
   "outputs": [],
   "source": [
    "benimDegisikSozlugum = {1 : \"ahmet\", 2: \"yalçın\"}"
   ]
  },
  {
   "cell_type": "code",
   "execution_count": 15,
   "id": "2d43c6ac",
   "metadata": {},
   "outputs": [
    {
     "data": {
      "text/plain": [
       "'ahmet'"
      ]
     },
     "execution_count": 15,
     "metadata": {},
     "output_type": "execute_result"
    }
   ],
   "source": [
    "benimDegisikSozlugum[1]"
   ]
  },
  {
   "cell_type": "code",
   "execution_count": 16,
   "id": "d2f813c9",
   "metadata": {},
   "outputs": [],
   "source": [
    "benimDegisikSozlugum[\"ahmet\"] = 4"
   ]
  },
  {
   "cell_type": "code",
   "execution_count": 17,
   "id": "4632a944",
   "metadata": {},
   "outputs": [
    {
     "data": {
      "text/plain": [
       "4"
      ]
     },
     "execution_count": 17,
     "metadata": {},
     "output_type": "execute_result"
    }
   ],
   "source": [
    "benimDegisikSozlugum[\"ahmet\"]"
   ]
  },
  {
   "cell_type": "code",
   "execution_count": 18,
   "id": "893162ac",
   "metadata": {},
   "outputs": [],
   "source": [
    "benimDegisikSozlugum[150] = \"ahmet\" "
   ]
  },
  {
   "cell_type": "code",
   "execution_count": 19,
   "id": "81a4cde5",
   "metadata": {},
   "outputs": [
    {
     "data": {
      "text/plain": [
       "{1: 'ahmet', 2: 'yalçın', 'ahmet': 4, 150: 'ahmet'}"
      ]
     },
     "execution_count": 19,
     "metadata": {},
     "output_type": "execute_result"
    }
   ],
   "source": [
    "benimDegisikSozlugum"
   ]
  },
  {
   "cell_type": "code",
   "execution_count": 20,
   "id": "f2a89fa5",
   "metadata": {},
   "outputs": [],
   "source": [
    "yeniDictionary = {\"anahtar1\" : 100, \"anahtar2\" : [10,20,30,40,4.5,\"atıl\"], \"anahtar3\" : {\"anahtar9\" : 4}}"
   ]
  },
  {
   "cell_type": "markdown",
   "id": "d66fbd5f",
   "metadata": {},
   "source": [
    "yukarıdaki komutta = anahtar1 bize int , anahtar iki bize list , anahtar 3 ise bize dictionary verir"
   ]
  },
  {
   "cell_type": "code",
   "execution_count": 21,
   "id": "f8857372",
   "metadata": {},
   "outputs": [
    {
     "data": {
      "text/plain": [
       "dict_keys(['anahtar1', 'anahtar2', 'anahtar3'])"
      ]
     },
     "execution_count": 21,
     "metadata": {},
     "output_type": "execute_result"
    }
   ],
   "source": [
    "yeniDictionary.keys()"
   ]
  },
  {
   "cell_type": "markdown",
   "id": "47e40930",
   "metadata": {},
   "source": [
    "yukarıdaki yeniDictionary.keys() komutu bize bir dictionarydeki anahtar kelimeleri verir."
   ]
  },
  {
   "cell_type": "code",
   "execution_count": 22,
   "id": "9f49b49f",
   "metadata": {},
   "outputs": [
    {
     "data": {
      "text/plain": [
       "dict_values([100, [10, 20, 30, 40, 4.5, 'atıl'], {'anahtar9': 4}])"
      ]
     },
     "execution_count": 22,
     "metadata": {},
     "output_type": "execute_result"
    }
   ],
   "source": [
    "yeniDictionary.values()"
   ]
  },
  {
   "cell_type": "markdown",
   "id": "d2de1077",
   "metadata": {},
   "source": [
    "yukarıdaki yeniDictionary.values() komutu bize bir sözlük içindeki değerleri verir.(anahtarları yazmaz"
   ]
  },
  {
   "cell_type": "code",
   "execution_count": 23,
   "id": "d9eb45ed",
   "metadata": {},
   "outputs": [
    {
     "data": {
      "text/plain": [
       "'atıl'"
      ]
     },
     "execution_count": 23,
     "metadata": {},
     "output_type": "execute_result"
    }
   ],
   "source": [
    "yeniDictionary[\"anahtar2\"][5]"
   ]
  },
  {
   "cell_type": "code",
   "execution_count": 24,
   "id": "9bc916c3",
   "metadata": {},
   "outputs": [
    {
     "data": {
      "text/plain": [
       "4"
      ]
     },
     "execution_count": 24,
     "metadata": {},
     "output_type": "execute_result"
    }
   ],
   "source": [
    "yeniDictionary[\"anahtar3\"][\"anahtar9\"]"
   ]
  },
  {
   "cell_type": "code",
   "execution_count": null,
   "id": "c4720147",
   "metadata": {},
   "outputs": [],
   "source": []
  }
 ],
 "metadata": {
  "kernelspec": {
   "display_name": "Python 3 (ipykernel)",
   "language": "python",
   "name": "python3"
  },
  "language_info": {
   "codemirror_mode": {
    "name": "ipython",
    "version": 3
   },
   "file_extension": ".py",
   "mimetype": "text/x-python",
   "name": "python",
   "nbconvert_exporter": "python",
   "pygments_lexer": "ipython3",
   "version": "3.9.18"
  }
 },
 "nbformat": 4,
 "nbformat_minor": 5
}
