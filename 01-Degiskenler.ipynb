{
 "cells": [
  {
   "cell_type": "code",
   "execution_count": 9,
   "id": "e754eaf2",
   "metadata": {},
   "outputs": [],
   "source": [
    "x = 5"
   ]
  },
  {
   "cell_type": "code",
   "execution_count": 10,
   "id": "348cabbb",
   "metadata": {},
   "outputs": [],
   "source": [
    "y = 4"
   ]
  },
  {
   "cell_type": "code",
   "execution_count": 11,
   "id": "168d0330",
   "metadata": {},
   "outputs": [
    {
     "data": {
      "text/plain": [
       "6.666666666666667"
      ]
     },
     "execution_count": 11,
     "metadata": {},
     "output_type": "execute_result"
    }
   ],
   "source": [
    "(x * y)/3"
   ]
  },
  {
   "cell_type": "markdown",
   "id": "4949fd31",
   "metadata": {},
   "source": [
    "# INTEGER ve FLOAT"
   ]
  },
  {
   "cell_type": "code",
   "execution_count": 12,
   "id": "30769c75",
   "metadata": {},
   "outputs": [],
   "source": [
    "benimDegiskenim = 10\n",
    "benimDigerDegiskenim=20"
   ]
  },
  {
   "cell_type": "code",
   "execution_count": 13,
   "id": "ea15188d",
   "metadata": {},
   "outputs": [
    {
     "data": {
      "text/plain": [
       "30"
      ]
     },
     "execution_count": 13,
     "metadata": {},
     "output_type": "execute_result"
    }
   ],
   "source": [
    "benimDegiskenim + benimDigerDegiskenim"
   ]
  },
  {
   "cell_type": "code",
   "execution_count": 14,
   "id": "479eccdf",
   "metadata": {},
   "outputs": [
    {
     "data": {
      "text/plain": [
       "int"
      ]
     },
     "execution_count": 14,
     "metadata": {},
     "output_type": "execute_result"
    }
   ],
   "source": [
    "type(benimDegiskenim)"
   ]
  },
  {
   "cell_type": "code",
   "execution_count": 15,
   "id": "a6a3e5a2",
   "metadata": {},
   "outputs": [],
   "source": [
    "sonuc= benimDigerDegiskenim / benimDegiskenim"
   ]
  },
  {
   "cell_type": "code",
   "execution_count": 16,
   "id": "118b2cfd",
   "metadata": {},
   "outputs": [
    {
     "data": {
      "text/plain": [
       "float"
      ]
     },
     "execution_count": 16,
     "metadata": {},
     "output_type": "execute_result"
    }
   ],
   "source": [
    "type(sonuc)"
   ]
  },
  {
   "cell_type": "code",
   "execution_count": 17,
   "id": "b3885187",
   "metadata": {},
   "outputs": [],
   "source": [
    "a = 3\n",
    "b = 2"
   ]
  },
  {
   "cell_type": "code",
   "execution_count": 18,
   "id": "ec9a58c3",
   "metadata": {},
   "outputs": [
    {
     "data": {
      "text/plain": [
       "1.5"
      ]
     },
     "execution_count": 18,
     "metadata": {},
     "output_type": "execute_result"
    }
   ],
   "source": [
    "a / b"
   ]
  },
  {
   "cell_type": "code",
   "execution_count": 19,
   "id": "bfbbcac5",
   "metadata": {},
   "outputs": [],
   "source": [
    "pi = 3.14"
   ]
  },
  {
   "cell_type": "code",
   "execution_count": 20,
   "id": "a377a8d2",
   "metadata": {},
   "outputs": [],
   "source": [
    "a = 5"
   ]
  },
  {
   "cell_type": "markdown",
   "id": "cc85ccf0",
   "metadata": {},
   "source": [
    "pi sayısı float bir sayı a sayısı ise int bir sayı ancak  bunların toplama, çıkarma gibi işlemlerinde herhangi bir sorun olmaz.\n",
    "Java da böyle değil."
   ]
  },
  {
   "cell_type": "code",
   "execution_count": 21,
   "id": "da7c287a",
   "metadata": {},
   "outputs": [],
   "source": [
    "sonuc1 = a + pi"
   ]
  },
  {
   "cell_type": "code",
   "execution_count": 22,
   "id": "ceac7af4",
   "metadata": {},
   "outputs": [
    {
     "data": {
      "text/plain": [
       "8.14"
      ]
     },
     "execution_count": 22,
     "metadata": {},
     "output_type": "execute_result"
    }
   ],
   "source": [
    "sonuc1"
   ]
  },
  {
   "cell_type": "code",
   "execution_count": 23,
   "id": "ca418210",
   "metadata": {},
   "outputs": [
    {
     "data": {
      "text/plain": [
       "float"
      ]
     },
     "execution_count": 23,
     "metadata": {},
     "output_type": "execute_result"
    }
   ],
   "source": [
    "type(sonuc1)"
   ]
  },
  {
   "cell_type": "markdown",
   "id": "f4f8866e",
   "metadata": {},
   "source": [
    "Matematiksel bazı işlemler"
   ]
  },
  {
   "cell_type": "code",
   "execution_count": 24,
   "id": "63acfac1",
   "metadata": {},
   "outputs": [],
   "source": [
    "x = 5\n",
    "y = 3"
   ]
  },
  {
   "cell_type": "code",
   "execution_count": 25,
   "id": "90be72c5",
   "metadata": {},
   "outputs": [
    {
     "data": {
      "text/plain": [
       "150"
      ]
     },
     "execution_count": 25,
     "metadata": {},
     "output_type": "execute_result"
    }
   ],
   "source": [
    "x * y * 10"
   ]
  },
  {
   "cell_type": "code",
   "execution_count": 26,
   "id": "5d8eaf73",
   "metadata": {},
   "outputs": [
    {
     "data": {
      "text/plain": [
       "625"
      ]
     },
     "execution_count": 26,
     "metadata": {},
     "output_type": "execute_result"
    }
   ],
   "source": [
    "x * x * x * x"
   ]
  },
  {
   "cell_type": "markdown",
   "id": "bf2f36b9",
   "metadata": {},
   "source": [
    "** işareti üzeri anlamında kullanılır"
   ]
  },
  {
   "cell_type": "code",
   "execution_count": 27,
   "id": "f573333d",
   "metadata": {},
   "outputs": [
    {
     "data": {
      "text/plain": [
       "625"
      ]
     },
     "execution_count": 27,
     "metadata": {},
     "output_type": "execute_result"
    }
   ],
   "source": [
    "x ** 4"
   ]
  },
  {
   "cell_type": "code",
   "execution_count": 28,
   "id": "2ed61b14",
   "metadata": {},
   "outputs": [
    {
     "data": {
      "text/plain": [
       "0"
      ]
     },
     "execution_count": 28,
     "metadata": {},
     "output_type": "execute_result"
    }
   ],
   "source": [
    "#Remainder - Kalanını bulma\n",
    "10 % 2"
   ]
  },
  {
   "cell_type": "code",
   "execution_count": 29,
   "id": "d57e46c0",
   "metadata": {},
   "outputs": [
    {
     "data": {
      "text/plain": [
       "1"
      ]
     },
     "execution_count": 29,
     "metadata": {},
     "output_type": "execute_result"
    }
   ],
   "source": [
    "11 % 2"
   ]
  },
  {
   "cell_type": "code",
   "execution_count": 30,
   "id": "5ff674cf",
   "metadata": {},
   "outputs": [
    {
     "data": {
      "text/plain": [
       "2"
      ]
     },
     "execution_count": 30,
     "metadata": {},
     "output_type": "execute_result"
    }
   ],
   "source": [
    "11 % 3"
   ]
  },
  {
   "cell_type": "code",
   "execution_count": 31,
   "id": "befb528e",
   "metadata": {},
   "outputs": [],
   "source": [
    "kullanicininYasi = 10"
   ]
  },
  {
   "cell_type": "code",
   "execution_count": 32,
   "id": "728e5186",
   "metadata": {},
   "outputs": [
    {
     "data": {
      "text/plain": [
       "16.666666666666668"
      ]
     },
     "execution_count": 32,
     "metadata": {},
     "output_type": "execute_result"
    }
   ],
   "source": [
    "kullanicininYasi * 5 / 3"
   ]
  },
  {
   "cell_type": "code",
   "execution_count": 33,
   "id": "b9015101",
   "metadata": {},
   "outputs": [
    {
     "name": "stdout",
     "output_type": "stream",
     "text": [
      "Yasınızı Giriniz50\n"
     ]
    }
   ],
   "source": [
    "kullanicininYasi = input(\"Yasınızı Giriniz\")"
   ]
  },
  {
   "cell_type": "code",
   "execution_count": 39,
   "id": "bc8c3362",
   "metadata": {},
   "outputs": [
    {
     "data": {
      "text/plain": [
       "'50'"
      ]
     },
     "execution_count": 39,
     "metadata": {},
     "output_type": "execute_result"
    }
   ],
   "source": [
    "kullanicininYasi"
   ]
  },
  {
   "cell_type": "code",
   "execution_count": 40,
   "id": "bd770e97",
   "metadata": {},
   "outputs": [
    {
     "data": {
      "text/plain": [
       "'5050505050'"
      ]
     },
     "execution_count": 40,
     "metadata": {},
     "output_type": "execute_result"
    }
   ],
   "source": [
    "kullanicininYasi * 5"
   ]
  },
  {
   "cell_type": "code",
   "execution_count": 41,
   "id": "8659a1be",
   "metadata": {},
   "outputs": [
    {
     "data": {
      "text/plain": [
       "str"
      ]
     },
     "execution_count": 41,
     "metadata": {},
     "output_type": "execute_result"
    }
   ],
   "source": [
    "type(kullanicininYasi)"
   ]
  },
  {
   "cell_type": "markdown",
   "id": "82e3757d",
   "metadata": {},
   "source": [
    "# String"
   ]
  },
  {
   "cell_type": "code",
   "execution_count": 48,
   "id": "9ba25d2a",
   "metadata": {},
   "outputs": [
    {
     "data": {
      "text/plain": [
       "'merhaba dünya'"
      ]
     },
     "execution_count": 48,
     "metadata": {},
     "output_type": "execute_result"
    }
   ],
   "source": [
    "\"merhaba dünya\""
   ]
  },
  {
   "cell_type": "code",
   "execution_count": 52,
   "id": "a45ea4bd",
   "metadata": {},
   "outputs": [],
   "source": [
    "x = \"merhaba dünya\" "
   ]
  },
  {
   "cell_type": "code",
   "execution_count": 53,
   "id": "e9a68b88",
   "metadata": {},
   "outputs": [
    {
     "data": {
      "text/plain": [
       "str"
      ]
     },
     "execution_count": 53,
     "metadata": {},
     "output_type": "execute_result"
    }
   ],
   "source": [
    "type(x)"
   ]
  },
  {
   "cell_type": "code",
   "execution_count": 57,
   "id": "4fcfc803",
   "metadata": {},
   "outputs": [
    {
     "name": "stdout",
     "output_type": "stream",
     "text": [
      "Yaşınızı giriniz: 33\n"
     ]
    }
   ],
   "source": [
    "benimInput = input(\"Yaşınızı giriniz: \")"
   ]
  },
  {
   "cell_type": "code",
   "execution_count": 58,
   "id": "a18f9361",
   "metadata": {},
   "outputs": [
    {
     "data": {
      "text/plain": [
       "str"
      ]
     },
     "execution_count": 58,
     "metadata": {},
     "output_type": "execute_result"
    }
   ],
   "source": [
    "type(benimInput)"
   ]
  },
  {
   "cell_type": "markdown",
   "id": "12fec1d0",
   "metadata": {},
   "source": [
    "yukarıda görüldüğü üzere benimInput değeri 33 olmasına rağmen Integer olarak kaydetmek istesem bile String olarak kaydediliyor. Peki nasıl Integer değere dönüştürücez"
   ]
  },
  {
   "cell_type": "code",
   "execution_count": 59,
   "id": "1917549c",
   "metadata": {},
   "outputs": [],
   "source": [
    "benimIntInput = int(benimInput)"
   ]
  },
  {
   "cell_type": "code",
   "execution_count": 60,
   "id": "c690f9ba",
   "metadata": {},
   "outputs": [
    {
     "data": {
      "text/plain": [
       "33"
      ]
     },
     "execution_count": 60,
     "metadata": {},
     "output_type": "execute_result"
    }
   ],
   "source": [
    "benimIntInput"
   ]
  },
  {
   "cell_type": "code",
   "execution_count": 61,
   "id": "6bbfad87",
   "metadata": {},
   "outputs": [
    {
     "data": {
      "text/plain": [
       "55.0"
      ]
     },
     "execution_count": 61,
     "metadata": {},
     "output_type": "execute_result"
    }
   ],
   "source": [
    "benimIntInput / 3 * 5"
   ]
  },
  {
   "cell_type": "code",
   "execution_count": 3,
   "id": "1dc9b1c4",
   "metadata": {},
   "outputs": [],
   "source": [
    "k = \"yalçın\""
   ]
  },
  {
   "cell_type": "markdown",
   "id": "c1676f39",
   "metadata": {},
   "source": [
    "len() komutu= length (uzunluk) manasına  gelir ve içine yazdığınız Strngin uzunluğunu gösterir"
   ]
  },
  {
   "cell_type": "code",
   "execution_count": 4,
   "id": "a3f11906",
   "metadata": {},
   "outputs": [
    {
     "data": {
      "text/plain": [
       "6"
      ]
     },
     "execution_count": 4,
     "metadata": {},
     "output_type": "execute_result"
    }
   ],
   "source": [
    "len(k)"
   ]
  },
  {
   "cell_type": "code",
   "execution_count": 66,
   "id": "b56aea1d",
   "metadata": {},
   "outputs": [
    {
     "name": "stdout",
     "output_type": "stream",
     "text": [
      "merhaba python\n"
     ]
    }
   ],
   "source": [
    "print(\"merhaba python\")"
   ]
  },
  {
   "cell_type": "code",
   "execution_count": 67,
   "id": "0dbd72b6",
   "metadata": {},
   "outputs": [
    {
     "name": "stdout",
     "output_type": "stream",
     "text": [
      "merhaba \n",
      "python\n"
     ]
    }
   ],
   "source": [
    "print(\"merhaba \\npython\")"
   ]
  },
  {
   "cell_type": "code",
   "execution_count": 68,
   "id": "f8d9494e",
   "metadata": {},
   "outputs": [],
   "source": [
    "isimString  = \"Ahmet Yalçın\""
   ]
  },
  {
   "cell_type": "code",
   "execution_count": 69,
   "id": "ebc8382e",
   "metadata": {},
   "outputs": [
    {
     "data": {
      "text/plain": [
       "'Ahmet Yalçın'"
      ]
     },
     "execution_count": 69,
     "metadata": {},
     "output_type": "execute_result"
    }
   ],
   "source": [
    "isimString"
   ]
  },
  {
   "cell_type": "markdown",
   "id": "513ebed8",
   "metadata": {},
   "source": [
    "# Index"
   ]
  },
  {
   "cell_type": "code",
   "execution_count": 70,
   "id": "bd0c21bb",
   "metadata": {},
   "outputs": [
    {
     "data": {
      "text/plain": [
       "'A'"
      ]
     },
     "execution_count": 70,
     "metadata": {},
     "output_type": "execute_result"
    }
   ],
   "source": [
    "isimString[0]"
   ]
  },
  {
   "cell_type": "code",
   "execution_count": 72,
   "id": "1a1b3a09",
   "metadata": {},
   "outputs": [
    {
     "data": {
      "text/plain": [
       "'Y'"
      ]
     },
     "execution_count": 72,
     "metadata": {},
     "output_type": "execute_result"
    }
   ],
   "source": [
    "isimString[6]"
   ]
  },
  {
   "cell_type": "code",
   "execution_count": 75,
   "id": "313033ba",
   "metadata": {},
   "outputs": [
    {
     "data": {
      "text/plain": [
       "' '"
      ]
     },
     "execution_count": 75,
     "metadata": {},
     "output_type": "execute_result"
    }
   ],
   "source": [
    "  isimString[5]"
   ]
  },
  {
   "cell_type": "code",
   "execution_count": 77,
   "id": "557a7801",
   "metadata": {},
   "outputs": [
    {
     "data": {
      "text/plain": [
       "'ı'"
      ]
     },
     "execution_count": 77,
     "metadata": {},
     "output_type": "execute_result"
    }
   ],
   "source": [
    "isimString[-2]"
   ]
  },
  {
   "cell_type": "code",
   "execution_count": 79,
   "id": "c2bbfc1e",
   "metadata": {},
   "outputs": [
    {
     "data": {
      "text/plain": [
       "'eç'"
      ]
     },
     "execution_count": 79,
     "metadata": {},
     "output_type": "execute_result"
    }
   ],
   "source": [
    "isimString[3] + isimString[-3] "
   ]
  },
  {
   "cell_type": "code",
   "execution_count": 80,
   "id": "7c761169",
   "metadata": {},
   "outputs": [],
   "source": [
    "harfString = \"abcdefgh\""
   ]
  },
  {
   "cell_type": "code",
   "execution_count": 81,
   "id": "bc028ad9",
   "metadata": {},
   "outputs": [
    {
     "data": {
      "text/plain": [
       "'cdefgh'"
      ]
     },
     "execution_count": 81,
     "metadata": {},
     "output_type": "execute_result"
    }
   ],
   "source": [
    "harfString[2:]"
   ]
  },
  {
   "cell_type": "markdown",
   "id": "3e29b0a5",
   "metadata": {},
   "source": [
    "yukarıda kullandığım harfString[2:] komutu harfString teki İLK 2 komuttan sonrasını yazdır demek"
   ]
  },
  {
   "cell_type": "code",
   "execution_count": 82,
   "id": "ae043759",
   "metadata": {},
   "outputs": [
    {
     "data": {
      "text/plain": [
       "'ab'"
      ]
     },
     "execution_count": 82,
     "metadata": {},
     "output_type": "execute_result"
    }
   ],
   "source": [
    "harfString[:2]"
   ]
  },
  {
   "cell_type": "markdown",
   "id": "ab39d3d2",
   "metadata": {},
   "source": [
    "yukarıda kullandığım harfString[:2] komutunda sadece İLK iki elemanı al demek"
   ]
  },
  {
   "cell_type": "markdown",
   "id": "70849077",
   "metadata": {},
   "source": [
    "# Slicing"
   ]
  },
  {
   "cell_type": "code",
   "execution_count": 84,
   "id": "a1a374bc",
   "metadata": {},
   "outputs": [],
   "source": [
    "gelenVeri = \"AhmetinYasi65\""
   ]
  },
  {
   "cell_type": "code",
   "execution_count": 86,
   "id": "fe145aab",
   "metadata": {},
   "outputs": [
    {
     "data": {
      "text/plain": [
       "'65'"
      ]
     },
     "execution_count": 86,
     "metadata": {},
     "output_type": "execute_result"
    }
   ],
   "source": [
    "gelenVeri[-2:]"
   ]
  },
  {
   "cell_type": "markdown",
   "id": "b2bb760f",
   "metadata": {},
   "source": [
    "yukarıda kullandığım gelenVeri[-2:] komutu Stringin sadece SON 2 komutunu yazdırır"
   ]
  },
  {
   "cell_type": "code",
   "execution_count": 87,
   "id": "9956acb4",
   "metadata": {},
   "outputs": [
    {
     "data": {
      "text/plain": [
       "'AhmetinYasi'"
      ]
     },
     "execution_count": 87,
     "metadata": {},
     "output_type": "execute_result"
    }
   ],
   "source": [
    "gelenVeri[:-2]"
   ]
  },
  {
   "cell_type": "markdown",
   "id": "8887cd99",
   "metadata": {},
   "source": [
    "yukarıda kullandığım gelenVeri[:-2] komutu Stringin SON iki sayısı hariç diğer bütün komutları yazdırır"
   ]
  },
  {
   "cell_type": "code",
   "execution_count": 88,
   "id": "dcc7c1d9",
   "metadata": {},
   "outputs": [
    {
     "data": {
      "text/plain": [
       "'me'"
      ]
     },
     "execution_count": 88,
     "metadata": {},
     "output_type": "execute_result"
    }
   ],
   "source": [
    "gelenVeri[2:4]"
   ]
  },
  {
   "cell_type": "markdown",
   "id": "8d824cb8",
   "metadata": {},
   "source": [
    "yukarıda yazdığım gelenVeri[2:4] komutunun anlamı İLK 4 komutu yazdırmak istiyoruz ancak İLK iki komut' ta yazdırılmasın diyoruz , KISACASI= SOL taraftaki 2 başlangıç indeksi , SAĞ taraftaki 4 ise durdurma indeksi"
   ]
  },
  {
   "cell_type": "code",
   "execution_count": 90,
   "id": "6ebeb4e6",
   "metadata": {},
   "outputs": [
    {
     "data": {
      "text/plain": [
       "'htY'"
      ]
     },
     "execution_count": 90,
     "metadata": {},
     "output_type": "execute_result"
    }
   ],
   "source": [
    "gelenVeri[1:10:3]"
   ]
  },
  {
   "cell_type": "markdown",
   "id": "4d2b67c1",
   "metadata": {},
   "source": [
    "yukarıda yazdığım gelenVeri[1:10:3] komutu Stringte 1. karaakterden başla 10. karakterde dur ve 3 er 3 er ilerle demek(Step Size)"
   ]
  },
  {
   "cell_type": "code",
   "execution_count": 92,
   "id": "ea373d39",
   "metadata": {},
   "outputs": [
    {
     "data": {
      "text/plain": [
       "'56isaYnitemhA'"
      ]
     },
     "execution_count": 92,
     "metadata": {},
     "output_type": "execute_result"
    }
   ],
   "source": [
    "gelenVeri[::-1]"
   ]
  },
  {
   "cell_type": "markdown",
   "id": "306b4bf3",
   "metadata": {},
   "source": [
    "yukarıda yazdığım gelenVeri[::-1] komutu Stringi tersten yazdırır"
   ]
  },
  {
   "cell_type": "code",
   "execution_count": 93,
   "id": "5a431425",
   "metadata": {},
   "outputs": [],
   "source": [
    "benimIsmim = \"ahmet\""
   ]
  },
  {
   "cell_type": "code",
   "execution_count": 94,
   "id": "3a8ccd68",
   "metadata": {},
   "outputs": [
    {
     "data": {
      "text/plain": [
       "'Ahmet'"
      ]
     },
     "execution_count": 94,
     "metadata": {},
     "output_type": "execute_result"
    }
   ],
   "source": [
    "benimIsmim.capitalize()"
   ]
  },
  {
   "cell_type": "code",
   "execution_count": 95,
   "id": "e41426b8",
   "metadata": {},
   "outputs": [
    {
     "data": {
      "text/plain": [
       "'ahmet'"
      ]
     },
     "execution_count": 95,
     "metadata": {},
     "output_type": "execute_result"
    }
   ],
   "source": [
    "benimIsmim"
   ]
  },
  {
   "cell_type": "markdown",
   "id": "8b075a90",
   "metadata": {},
   "source": [
    ".capitalize() komutu orijinal Stringi değiştirmemiş"
   ]
  },
  {
   "cell_type": "code",
   "execution_count": 97,
   "id": "f5014492",
   "metadata": {},
   "outputs": [],
   "source": [
    "benimYeniIsmim = benimIsmim.capitalize()"
   ]
  },
  {
   "cell_type": "code",
   "execution_count": 98,
   "id": "26d13820",
   "metadata": {},
   "outputs": [
    {
     "data": {
      "text/plain": [
       "'Ahmet'"
      ]
     },
     "execution_count": 98,
     "metadata": {},
     "output_type": "execute_result"
    }
   ],
   "source": [
    "benimYeniIsmim"
   ]
  },
  {
   "cell_type": "markdown",
   "id": "5f75240d",
   "metadata": {},
   "source": [
    "yukarıda benimYeniIsmim adlı yeni bir String nesne tanımlayıp ona atadık"
   ]
  },
  {
   "cell_type": "code",
   "execution_count": 103,
   "id": "0c121b4d",
   "metadata": {},
   "outputs": [],
   "source": [
    "benimTamIsmim = \"Ahmet Yalçın\""
   ]
  },
  {
   "cell_type": "code",
   "execution_count": 104,
   "id": "45b410f2",
   "metadata": {},
   "outputs": [
    {
     "data": {
      "text/plain": [
       "['Ahmet', 'Yalçın']"
      ]
     },
     "execution_count": 104,
     "metadata": {},
     "output_type": "execute_result"
    }
   ],
   "source": [
    "benimTamIsmim.split()"
   ]
  },
  {
   "cell_type": "markdown",
   "id": "082497fb",
   "metadata": {},
   "source": [
    "yukarıdaki benimTamIsmim.split() komutu Stringte list oluşturdu"
   ]
  },
  {
   "cell_type": "code",
   "execution_count": 107,
   "id": "e2f545c0",
   "metadata": {},
   "outputs": [
    {
     "data": {
      "text/plain": [
       "'AHMET YALÇIN'"
      ]
     },
     "execution_count": 107,
     "metadata": {},
     "output_type": "execute_result"
    }
   ],
   "source": [
    "benimTamIsmim.upper()"
   ]
  },
  {
   "cell_type": "markdown",
   "id": "acfc2c1a",
   "metadata": {},
   "source": [
    "yukarıdaki benimTamIsmim.upper() komutu tüm harfleri büyük yapar"
   ]
  },
  {
   "cell_type": "code",
   "execution_count": 119,
   "id": "c115d09e",
   "metadata": {},
   "outputs": [
    {
     "data": {
      "text/plain": [
       "'ahmet dir'"
      ]
     },
     "execution_count": 119,
     "metadata": {},
     "output_type": "execute_result"
    }
   ],
   "source": [
    "benimIsmim + \" dir\""
   ]
  }
 ],
 "metadata": {
  "kernelspec": {
   "display_name": "Python 3 (ipykernel)",
   "language": "python",
   "name": "python3"
  },
  "language_info": {
   "codemirror_mode": {
    "name": "ipython",
    "version": 3
   },
   "file_extension": ".py",
   "mimetype": "text/x-python",
   "name": "python",
   "nbconvert_exporter": "python",
   "pygments_lexer": "ipython3",
   "version": "3.11.5"
  }
 },
 "nbformat": 4,
 "nbformat_minor": 5
}
