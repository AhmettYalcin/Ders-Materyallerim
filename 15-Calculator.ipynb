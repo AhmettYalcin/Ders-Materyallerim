{
 "cells": [
  {
   "cell_type": "code",
   "execution_count": null,
   "id": "bd41a1bf",
   "metadata": {},
   "outputs": [
    {
     "name": "stdout",
     "output_type": "stream",
     "text": [
      "ilk sayıyı giriniz: 15\n",
      "ikinci sayıyı giriniz: 20\n",
      "isleminizi seçiniz: +-*/  -\n",
      "15 - 20 = -5\n",
      "ilk sayıyı giriniz: h\n",
      " \n",
      "lütfen sayıları düzgün giriniz\n",
      "ilk sayıyı giriniz: a\n",
      " \n",
      "lütfen sayıları düzgün giriniz\n",
      "ilk sayıyı giriniz: 67\n",
      "ikinci sayıyı giriniz: 23\n",
      "isleminizi seçiniz: +-*/  h\n",
      "Lütfen şu işlemlerden birini seçiniz: +-*/\n"
     ]
    }
   ],
   "source": [
    "def hesapla(a,b,islem):\n",
    "        \n",
    "        \n",
    "    \n",
    "    if islem not in \"+-*/\":\n",
    "        return \"Lütfen şu işlemlerden birini seçiniz: +-*/\"\n",
    "    \n",
    "    if islem == \"+\":\n",
    "        return (str(a)+ \" + \" +str(b)+ \" = \" +str(a+b))\n",
    "    if islem == \"-\":\n",
    "        return (str(a)+ \" - \" +str(b)+ \" = \" +str(a-b))\n",
    "    if islem == \"*\":\n",
    "        return (str(a)+ \" * \" +str(b)+ \" = \" +str(a*b))\n",
    "    if islem == \"/\":\n",
    "        return (str(a)+ \" / \" +str(b)+ \" = \" +str(a/b))\n",
    "    \n",
    "\n",
    "\n",
    "while True: #sonsuz döngü için koyduk\n",
    "    try:  \n",
    "#tyr ve excep ekleme amacımız eğer a ve b değerlerini girerken hatalı değer girersek programı çökertmek yerine tekrar denemesini sağlamak\n",
    "       \n",
    "        a = int(input(\"ilk sayıyı giriniz: \"))\n",
    "        b = int(input(\"ikinci sayıyı giriniz: \"))\n",
    "        islem= (input(\"isleminizi seçiniz: +-*/  \"))\n",
    "        print(hesapla(a,b,islem))\n",
    "    except:\n",
    "        print(\" \")\n",
    "        print(\"lütfen sayıları düzgün giriniz\")\n"
   ]
  },
  {
   "cell_type": "code",
   "execution_count": null,
   "id": "ef67eefa",
   "metadata": {},
   "outputs": [],
   "source": [
    "\n"
   ]
  }
 ],
 "metadata": {
  "kernelspec": {
   "display_name": "Python 3 (ipykernel)",
   "language": "python",
   "name": "python3"
  },
  "language_info": {
   "codemirror_mode": {
    "name": "ipython",
    "version": 3
   },
   "file_extension": ".py",
   "mimetype": "text/x-python",
   "name": "python",
   "nbconvert_exporter": "python",
   "pygments_lexer": "ipython3",
   "version": "3.11.5"
  }
 },
 "nbformat": 4,
 "nbformat_minor": 5
}
