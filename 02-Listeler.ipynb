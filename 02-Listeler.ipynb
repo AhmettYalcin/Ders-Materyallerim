{
 "cells": [
  {
   "cell_type": "code",
   "execution_count": 1,
   "id": "d1d2cec4",
   "metadata": {},
   "outputs": [],
   "source": [
    "#derslerde aldığım notlar 2\n",
    "benimString = \"Ahmet Yalçın\""
   ]
  },
  {
   "cell_type": "code",
   "execution_count": 2,
   "id": "228cf8c3",
   "metadata": {},
   "outputs": [
    {
     "data": {
      "text/plain": [
       "'A'"
      ]
     },
     "execution_count": 2,
     "metadata": {},
     "output_type": "execute_result"
    }
   ],
   "source": [
    "benimString[0]"
   ]
  },
  {
   "cell_type": "markdown",
   "id": "d11f9077",
   "metadata": {},
   "source": [
    "immuability & mutability"
   ]
  },
  {
   "cell_type": "code",
   "execution_count": 3,
   "id": "d80ee59e",
   "metadata": {},
   "outputs": [],
   "source": [
    "benimListem = [10,20,30,40]"
   ]
  },
  {
   "cell_type": "code",
   "execution_count": 4,
   "id": "7c748e15",
   "metadata": {},
   "outputs": [
    {
     "data": {
      "text/plain": [
       "list"
      ]
     },
     "execution_count": 4,
     "metadata": {},
     "output_type": "execute_result"
    }
   ],
   "source": [
    "type(benimListem)"
   ]
  },
  {
   "cell_type": "code",
   "execution_count": 5,
   "id": "7d32b33d",
   "metadata": {},
   "outputs": [],
   "source": [
    "benimNumaram = 10\n",
    "benimDigerNumaram = 20"
   ]
  },
  {
   "cell_type": "code",
   "execution_count": 6,
   "id": "ec75d035",
   "metadata": {},
   "outputs": [],
   "source": [
    "benimNumaraListem = [benimNumaram,benimDigerNumaram]"
   ]
  },
  {
   "cell_type": "code",
   "execution_count": 7,
   "id": "2d2d79b0",
   "metadata": {},
   "outputs": [
    {
     "data": {
      "text/plain": [
       "10"
      ]
     },
     "execution_count": 7,
     "metadata": {},
     "output_type": "execute_result"
    }
   ],
   "source": [
    "benimNumaraListem[0]"
   ]
  },
  {
   "cell_type": "code",
   "execution_count": 8,
   "id": "03bb294b",
   "metadata": {},
   "outputs": [
    {
     "data": {
      "text/plain": [
       "20"
      ]
     },
     "execution_count": 8,
     "metadata": {},
     "output_type": "execute_result"
    }
   ],
   "source": [
    "benimNumaraListem[1]"
   ]
  },
  {
   "cell_type": "code",
   "execution_count": 9,
   "id": "dbba94fb",
   "metadata": {},
   "outputs": [
    {
     "data": {
      "text/plain": [
       "40"
      ]
     },
     "execution_count": 9,
     "metadata": {},
     "output_type": "execute_result"
    }
   ],
   "source": [
    "benimListem[3]"
   ]
  },
  {
   "cell_type": "code",
   "execution_count": 10,
   "id": "d6565163",
   "metadata": {},
   "outputs": [
    {
     "data": {
      "text/plain": [
       "[10, 20, 30, 40]"
      ]
     },
     "execution_count": 10,
     "metadata": {},
     "output_type": "execute_result"
    }
   ],
   "source": [
    "benimListem"
   ]
  },
  {
   "cell_type": "code",
   "execution_count": 11,
   "id": "762d91df",
   "metadata": {},
   "outputs": [],
   "source": [
    "benimListem[0]=100"
   ]
  },
  {
   "cell_type": "code",
   "execution_count": 12,
   "id": "96f5ae46",
   "metadata": {},
   "outputs": [
    {
     "data": {
      "text/plain": [
       "[100, 20, 30, 40]"
      ]
     },
     "execution_count": 12,
     "metadata": {},
     "output_type": "execute_result"
    }
   ],
   "source": [
    "benimListem"
   ]
  },
  {
   "cell_type": "markdown",
   "id": "f64afb78",
   "metadata": {},
   "source": [
    "yukarıdaki benimListem[0]=100 komut listedeki ilk listi değiştirir, unutma bunu stringde yapamazsın"
   ]
  },
  {
   "cell_type": "code",
   "execution_count": 13,
   "id": "18df2dcf",
   "metadata": {},
   "outputs": [],
   "source": [
    "benimListem.append(50)"
   ]
  },
  {
   "cell_type": "code",
   "execution_count": 14,
   "id": "1473192c",
   "metadata": {},
   "outputs": [
    {
     "data": {
      "text/plain": [
       "[100, 20, 30, 40, 50]"
      ]
     },
     "execution_count": 14,
     "metadata": {},
     "output_type": "execute_result"
    }
   ],
   "source": [
    "benimListem"
   ]
  },
  {
   "cell_type": "markdown",
   "id": "0f9bef74",
   "metadata": {},
   "source": [
    "yukarıdaki benimListem.append(50) komutu benimListem adli list'e ekleme yapmak için kullanılır"
   ]
  },
  {
   "cell_type": "code",
   "execution_count": 15,
   "id": "2e7f85f5",
   "metadata": {},
   "outputs": [
    {
     "data": {
      "text/plain": [
       "50"
      ]
     },
     "execution_count": 15,
     "metadata": {},
     "output_type": "execute_result"
    }
   ],
   "source": [
    "benimListem.pop()"
   ]
  },
  {
   "cell_type": "code",
   "execution_count": 16,
   "id": "ab37d942",
   "metadata": {},
   "outputs": [
    {
     "data": {
      "text/plain": [
       "[100, 20, 30, 40]"
      ]
     },
     "execution_count": 16,
     "metadata": {},
     "output_type": "execute_result"
    }
   ],
   "source": [
    "benimListem"
   ]
  },
  {
   "cell_type": "markdown",
   "id": "bb152421",
   "metadata": {},
   "source": [
    "yukarıdaki benimListem.pop() komutu listedeki son elemanı atar"
   ]
  },
  {
   "cell_type": "code",
   "execution_count": 17,
   "id": "ef8ab1fd",
   "metadata": {},
   "outputs": [],
   "source": [
    "benimListem.remove(40)"
   ]
  },
  {
   "cell_type": "code",
   "execution_count": 18,
   "id": "cf11f1b3",
   "metadata": {},
   "outputs": [
    {
     "data": {
      "text/plain": [
       "[100, 20, 30]"
      ]
     },
     "execution_count": 18,
     "metadata": {},
     "output_type": "execute_result"
    }
   ],
   "source": [
    "benimListem"
   ]
  },
  {
   "cell_type": "markdown",
   "id": "2fe94ccd",
   "metadata": {},
   "source": [
    "yukarıdaki benimListem.remove(40) komutu istediğimiz herhangi bir elemanı listeden çıkarmak için kullanılır"
   ]
  },
  {
   "cell_type": "code",
   "execution_count": 19,
   "id": "5a8fcc74",
   "metadata": {},
   "outputs": [
    {
     "data": {
      "text/plain": [
       "1"
      ]
     },
     "execution_count": 19,
     "metadata": {},
     "output_type": "execute_result"
    }
   ],
   "source": [
    "benimListem.count(20)"
   ]
  },
  {
   "cell_type": "markdown",
   "id": "2e9a9ae8",
   "metadata": {},
   "source": [
    "yukarıdaki benimListem.count(20) komutu istediğimiz bir elemanın o listede kaç tane olduğunu bulmak için kullanılır"
   ]
  },
  {
   "cell_type": "code",
   "execution_count": 20,
   "id": "e6290011",
   "metadata": {},
   "outputs": [],
   "source": [
    "benimListem.append(20)"
   ]
  },
  {
   "cell_type": "code",
   "execution_count": 21,
   "id": "c54ac133",
   "metadata": {},
   "outputs": [
    {
     "data": {
      "text/plain": [
       "2"
      ]
     },
     "execution_count": 21,
     "metadata": {},
     "output_type": "execute_result"
    }
   ],
   "source": [
    "benimListem.count(20)"
   ]
  },
  {
   "cell_type": "code",
   "execution_count": 22,
   "id": "3e83e8be",
   "metadata": {},
   "outputs": [],
   "source": [
    "benimStringListem = [\"atıl\", \"ahmet\", \"zeynep\"]"
   ]
  },
  {
   "cell_type": "code",
   "execution_count": 23,
   "id": "521d0dcd",
   "metadata": {},
   "outputs": [],
   "source": [
    "benimDigerListem = [\"mehmet\", \"mahmut\", \"atlas\"]"
   ]
  },
  {
   "cell_type": "code",
   "execution_count": 24,
   "id": "6670f9e6",
   "metadata": {},
   "outputs": [
    {
     "data": {
      "text/plain": [
       "'atlas'"
      ]
     },
     "execution_count": 24,
     "metadata": {},
     "output_type": "execute_result"
    }
   ],
   "source": [
    "benimDigerListem[2]"
   ]
  },
  {
   "cell_type": "code",
   "execution_count": 25,
   "id": "bc5b04ab",
   "metadata": {},
   "outputs": [
    {
     "data": {
      "text/plain": [
       "'ahmet'"
      ]
     },
     "execution_count": 25,
     "metadata": {},
     "output_type": "execute_result"
    }
   ],
   "source": [
    "benimStringListem[1]"
   ]
  },
  {
   "cell_type": "code",
   "execution_count": 26,
   "id": "e728f31e",
   "metadata": {},
   "outputs": [],
   "source": [
    "benimToplamaListem = benimStringListem + benimDigerListem"
   ]
  },
  {
   "cell_type": "code",
   "execution_count": 27,
   "id": "de440fff",
   "metadata": {},
   "outputs": [
    {
     "data": {
      "text/plain": [
       "['atıl', 'ahmet', 'zeynep', 'mehmet', 'mahmut', 'atlas']"
      ]
     },
     "execution_count": 27,
     "metadata": {},
     "output_type": "execute_result"
    }
   ],
   "source": [
    "benimToplamaListem"
   ]
  },
  {
   "cell_type": "code",
   "execution_count": 28,
   "id": "905f446c",
   "metadata": {},
   "outputs": [],
   "source": [
    "benimToplamaListem.reverse()"
   ]
  },
  {
   "cell_type": "code",
   "execution_count": 29,
   "id": "936d6064",
   "metadata": {},
   "outputs": [
    {
     "data": {
      "text/plain": [
       "['atlas', 'mahmut', 'mehmet', 'zeynep', 'ahmet', 'atıl']"
      ]
     },
     "execution_count": 29,
     "metadata": {},
     "output_type": "execute_result"
    }
   ],
   "source": [
    "benimToplamaListem"
   ]
  },
  {
   "cell_type": "markdown",
   "id": "c831a605",
   "metadata": {},
   "source": [
    "yukarıdaki benimToplamaListem.reverse() komutu en baştaki elemanları en sona en sondakileri en başa alır"
   ]
  },
  {
   "cell_type": "code",
   "execution_count": 30,
   "id": "45410b06",
   "metadata": {},
   "outputs": [],
   "source": [
    "karisikListe = [1,2,3.5,\"ahmet\", 9]"
   ]
  },
  {
   "cell_type": "code",
   "execution_count": 31,
   "id": "25795aae",
   "metadata": {},
   "outputs": [
    {
     "data": {
      "text/plain": [
       "list"
      ]
     },
     "execution_count": 31,
     "metadata": {},
     "output_type": "execute_result"
    }
   ],
   "source": [
    "type(karisikListe)"
   ]
  },
  {
   "cell_type": "code",
   "execution_count": 32,
   "id": "e16d1ecc",
   "metadata": {},
   "outputs": [
    {
     "data": {
      "text/plain": [
       "1"
      ]
     },
     "execution_count": 32,
     "metadata": {},
     "output_type": "execute_result"
    }
   ],
   "source": [
    "sonucum = karisikListe[0]\n",
    "karisikListe[0]"
   ]
  },
  {
   "cell_type": "code",
   "execution_count": 33,
   "id": "987eaaff",
   "metadata": {},
   "outputs": [
    {
     "data": {
      "text/plain": [
       "int"
      ]
     },
     "execution_count": 33,
     "metadata": {},
     "output_type": "execute_result"
    }
   ],
   "source": [
    "type(sonucum)"
   ]
  },
  {
   "cell_type": "markdown",
   "id": "fff61ada",
   "metadata": {},
   "source": [
    "# BURADAN SONRASI LİSTELER HAKKINDA BİRAZ DAHA ZOR VE KARMAŞIK"
   ]
  },
  {
   "cell_type": "code",
   "execution_count": 34,
   "id": "a113a446",
   "metadata": {},
   "outputs": [],
   "source": [
    "nestedList = [1,5,\"ahmet\",4,[6,\"z\"]]"
   ]
  },
  {
   "cell_type": "code",
   "execution_count": 35,
   "id": "5a81041b",
   "metadata": {},
   "outputs": [
    {
     "data": {
      "text/plain": [
       "1"
      ]
     },
     "execution_count": 35,
     "metadata": {},
     "output_type": "execute_result"
    }
   ],
   "source": [
    "nestedList[0]"
   ]
  },
  {
   "cell_type": "code",
   "execution_count": 36,
   "id": "148f40bb",
   "metadata": {},
   "outputs": [
    {
     "data": {
      "text/plain": [
       "[6, 'z']"
      ]
     },
     "execution_count": 36,
     "metadata": {},
     "output_type": "execute_result"
    }
   ],
   "source": [
    "nestedList[4]"
   ]
  },
  {
   "cell_type": "code",
   "execution_count": 37,
   "id": "c241d964",
   "metadata": {},
   "outputs": [
    {
     "data": {
      "text/plain": [
       "list"
      ]
     },
     "execution_count": 37,
     "metadata": {},
     "output_type": "execute_result"
    }
   ],
   "source": [
    "type(nestedList[4])"
   ]
  },
  {
   "cell_type": "code",
   "execution_count": 38,
   "id": "94ac3924",
   "metadata": {},
   "outputs": [
    {
     "data": {
      "text/plain": [
       "str"
      ]
     },
     "execution_count": 38,
     "metadata": {},
     "output_type": "execute_result"
    }
   ],
   "source": [
    "type(nestedList[2])"
   ]
  },
  {
   "cell_type": "code",
   "execution_count": 39,
   "id": "cbda7293",
   "metadata": {},
   "outputs": [],
   "source": [
    "zDegiskenimiz = nestedList[4][1]"
   ]
  },
  {
   "cell_type": "code",
   "execution_count": 40,
   "id": "bce30e6b",
   "metadata": {},
   "outputs": [
    {
     "data": {
      "text/plain": [
       "'z'"
      ]
     },
     "execution_count": 40,
     "metadata": {},
     "output_type": "execute_result"
    }
   ],
   "source": [
    "zDegiskenimiz"
   ]
  },
  {
   "cell_type": "code",
   "execution_count": 41,
   "id": "2b164d74",
   "metadata": {},
   "outputs": [],
   "source": [
    "karmasikListe = [[1,2,3,[\"a\",\"b\"],50],40,20,[\"z\",5.5],[3,[\"a\"]]]"
   ]
  },
  {
   "cell_type": "code",
   "execution_count": 42,
   "id": "a827dd44",
   "metadata": {},
   "outputs": [],
   "source": [
    "bDegiskenimiz = karmasikListe[0][3][1]"
   ]
  },
  {
   "cell_type": "code",
   "execution_count": 43,
   "id": "8f92dc96",
   "metadata": {
    "scrolled": true
   },
   "outputs": [
    {
     "data": {
      "text/plain": [
       "'b'"
      ]
     },
     "execution_count": 43,
     "metadata": {},
     "output_type": "execute_result"
    }
   ],
   "source": [
    "bDegiskenimiz"
   ]
  }
 ],
 "metadata": {
  "kernelspec": {
   "display_name": "Python 3 (ipykernel)",
   "language": "python",
   "name": "python3"
  },
  "language_info": {
   "codemirror_mode": {
    "name": "ipython",
    "version": 3
   },
   "file_extension": ".py",
   "mimetype": "text/x-python",
   "name": "python",
   "nbconvert_exporter": "python",
   "pygments_lexer": "ipython3",
   "version": "3.9.18"
  }
 },
 "nbformat": 4,
 "nbformat_minor": 5
}
