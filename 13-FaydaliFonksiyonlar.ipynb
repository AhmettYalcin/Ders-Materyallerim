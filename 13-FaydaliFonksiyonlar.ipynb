{
 "cells": [
  {
   "cell_type": "code",
   "execution_count": 1,
   "id": "8de3314c",
   "metadata": {},
   "outputs": [],
   "source": [
    "# derste aldığım notlar 13\n",
    "\n",
    "def bolmeIslemi(numara):\n",
    "    return numara/2"
   ]
  },
  {
   "cell_type": "code",
   "execution_count": 2,
   "id": "d071ef4a",
   "metadata": {},
   "outputs": [
    {
     "data": {
      "text/plain": [
       "10.0"
      ]
     },
     "execution_count": 2,
     "metadata": {},
     "output_type": "execute_result"
    }
   ],
   "source": [
    "bolmeIslemi(20)"
   ]
  },
  {
   "cell_type": "code",
   "execution_count": 3,
   "id": "14289aa6",
   "metadata": {},
   "outputs": [],
   "source": [
    "benimListem = [1,2,3,4,5,6,7,8,9,10]"
   ]
  },
  {
   "cell_type": "code",
   "execution_count": 4,
   "id": "2d10936d",
   "metadata": {},
   "outputs": [],
   "source": [
    "yeniListe = []\n",
    "for eleman in benimListem:\n",
    "    yeniListe.append(bolmeIslemi(eleman))"
   ]
  },
  {
   "cell_type": "code",
   "execution_count": 5,
   "id": "7ec7c024",
   "metadata": {},
   "outputs": [
    {
     "data": {
      "text/plain": [
       "[0.5, 1.0, 1.5, 2.0, 2.5, 3.0, 3.5, 4.0, 4.5, 5.0]"
      ]
     },
     "execution_count": 5,
     "metadata": {},
     "output_type": "execute_result"
    }
   ],
   "source": [
    "yeniListe"
   ]
  },
  {
   "cell_type": "markdown",
   "id": "293e20b1",
   "metadata": {},
   "source": [
    "# map"
   ]
  },
  {
   "cell_type": "code",
   "execution_count": 6,
   "id": "7ff2f029",
   "metadata": {},
   "outputs": [
    {
     "data": {
      "text/plain": [
       "[0.5, 1.0, 1.5, 2.0, 2.5, 3.0, 3.5, 4.0, 4.5, 5.0]"
      ]
     },
     "execution_count": 6,
     "metadata": {},
     "output_type": "execute_result"
    }
   ],
   "source": [
    "list(map(bolmeIslemi,benimListem))"
   ]
  },
  {
   "cell_type": "code",
   "execution_count": 7,
   "id": "fe4a5bb0",
   "metadata": {},
   "outputs": [],
   "source": [
    "def kontrolFonksiyonu(string):\n",
    "    return \"a\" in string"
   ]
  },
  {
   "cell_type": "code",
   "execution_count": 8,
   "id": "672ae68a",
   "metadata": {},
   "outputs": [
    {
     "data": {
      "text/plain": [
       "True"
      ]
     },
     "execution_count": 8,
     "metadata": {},
     "output_type": "execute_result"
    }
   ],
   "source": [
    "kontrolFonksiyonu(\"ahmet\")"
   ]
  },
  {
   "cell_type": "code",
   "execution_count": 9,
   "id": "0f350417",
   "metadata": {},
   "outputs": [
    {
     "data": {
      "text/plain": [
       "False"
      ]
     },
     "execution_count": 9,
     "metadata": {},
     "output_type": "execute_result"
    }
   ],
   "source": [
    "kontrolFonksiyonu(\"elif\")"
   ]
  },
  {
   "cell_type": "code",
   "execution_count": 10,
   "id": "7a1c6472",
   "metadata": {},
   "outputs": [],
   "source": [
    "stringListesi = [\"atıl\", \"samancıoğlu\", \"atlas\", \"zeynep\", \"mehmet\", \"ahmet\", \"levent\"]"
   ]
  },
  {
   "cell_type": "code",
   "execution_count": 11,
   "id": "15e3f8ab",
   "metadata": {},
   "outputs": [],
   "source": [
    "sonucListesi = list(map(kontrolFonksiyonu,stringListesi))"
   ]
  },
  {
   "cell_type": "code",
   "execution_count": 12,
   "id": "688d9092",
   "metadata": {},
   "outputs": [
    {
     "data": {
      "text/plain": [
       "[True, True, True, False, False, True, False]"
      ]
     },
     "execution_count": 12,
     "metadata": {},
     "output_type": "execute_result"
    }
   ],
   "source": [
    "sonucListesi"
   ]
  },
  {
   "cell_type": "code",
   "execution_count": 13,
   "id": "f0101b7b",
   "metadata": {},
   "outputs": [
    {
     "data": {
      "text/plain": [
       "4"
      ]
     },
     "execution_count": 13,
     "metadata": {},
     "output_type": "execute_result"
    }
   ],
   "source": [
    "sonucListesi.count(True)"
   ]
  },
  {
   "cell_type": "markdown",
   "id": "4af1e2db",
   "metadata": {},
   "source": [
    "# filter"
   ]
  },
  {
   "cell_type": "code",
   "execution_count": 14,
   "id": "33604ca4",
   "metadata": {},
   "outputs": [
    {
     "data": {
      "text/plain": [
       "['atıl', 'samancıoğlu', 'atlas', 'ahmet']"
      ]
     },
     "execution_count": 14,
     "metadata": {},
     "output_type": "execute_result"
    }
   ],
   "source": [
    "list(filter(kontrolFonksiyonu,stringListesi))"
   ]
  },
  {
   "cell_type": "markdown",
   "id": "91b10c8b",
   "metadata": {},
   "source": [
    "# lambda"
   ]
  },
  {
   "cell_type": "code",
   "execution_count": 15,
   "id": "29d819b6",
   "metadata": {},
   "outputs": [],
   "source": [
    "carpma = lambda numara : numara*3"
   ]
  },
  {
   "cell_type": "code",
   "execution_count": 16,
   "id": "c40dd5c0",
   "metadata": {},
   "outputs": [
    {
     "data": {
      "text/plain": [
       "30"
      ]
     },
     "execution_count": 16,
     "metadata": {},
     "output_type": "execute_result"
    }
   ],
   "source": [
    "carpma(10)"
   ]
  },
  {
   "cell_type": "code",
   "execution_count": 17,
   "id": "d3d0bdf6",
   "metadata": {},
   "outputs": [],
   "source": [
    "ornekListesi = [10,20,30]"
   ]
  },
  {
   "cell_type": "code",
   "execution_count": 18,
   "id": "e6fc970e",
   "metadata": {},
   "outputs": [
    {
     "data": {
      "text/plain": [
       "[40, 80, 120]"
      ]
     },
     "execution_count": 18,
     "metadata": {},
     "output_type": "execute_result"
    }
   ],
   "source": [
    "list(map(lambda numara : numara * 4, ornekListesi))"
   ]
  },
  {
   "cell_type": "code",
   "execution_count": null,
   "id": "77bde124",
   "metadata": {},
   "outputs": [],
   "source": []
  }
 ],
 "metadata": {
  "kernelspec": {
   "display_name": "Python 3 (ipykernel)",
   "language": "python",
   "name": "python3"
  },
  "language_info": {
   "codemirror_mode": {
    "name": "ipython",
    "version": 3
   },
   "file_extension": ".py",
   "mimetype": "text/x-python",
   "name": "python",
   "nbconvert_exporter": "python",
   "pygments_lexer": "ipython3",
   "version": "3.9.18"
  }
 },
 "nbformat": 4,
 "nbformat_minor": 5
}
